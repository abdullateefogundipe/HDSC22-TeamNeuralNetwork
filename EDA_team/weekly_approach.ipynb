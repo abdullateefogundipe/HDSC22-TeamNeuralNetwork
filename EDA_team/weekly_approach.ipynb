{
 "cells": [
  {
   "cell_type": "code",
   "execution_count": 1,
   "id": "3069651f",
   "metadata": {},
   "outputs": [],
   "source": [
    "import numpy as np\n",
    "import pandas as pd\n",
    "import matplotlib.pyplot as plt\n",
    "import matplotlib.pyplot as plt\n",
    "import seaborn as sns\n",
    "import warnings\n",
    "warnings.filterwarnings('ignore')"
   ]
  },
  {
   "cell_type": "code",
   "execution_count": 2,
   "id": "1047f119",
   "metadata": {},
   "outputs": [
    {
     "data": {
      "text/html": [
       "<div>\n",
       "<style scoped>\n",
       "    .dataframe tbody tr th:only-of-type {\n",
       "        vertical-align: middle;\n",
       "    }\n",
       "\n",
       "    .dataframe tbody tr th {\n",
       "        vertical-align: top;\n",
       "    }\n",
       "\n",
       "    .dataframe thead th {\n",
       "        text-align: right;\n",
       "    }\n",
       "</style>\n",
       "<table border=\"1\" class=\"dataframe\">\n",
       "  <thead>\n",
       "    <tr style=\"text-align: right;\">\n",
       "      <th></th>\n",
       "      <th>nr. sessions</th>\n",
       "      <th>nr. rest days</th>\n",
       "      <th>total kms</th>\n",
       "      <th>max km one day</th>\n",
       "      <th>total km Z3-Z4-Z5-T1-T2</th>\n",
       "      <th>nr. tough sessions (effort in Z5, T1 or T2)</th>\n",
       "      <th>nr. days with interval session</th>\n",
       "      <th>total km Z3-4</th>\n",
       "      <th>max km Z3-4 one day</th>\n",
       "      <th>total km Z5-T1-T2</th>\n",
       "      <th>...</th>\n",
       "      <th>max training success.2</th>\n",
       "      <th>avg recovery.2</th>\n",
       "      <th>min recovery.2</th>\n",
       "      <th>max recovery.2</th>\n",
       "      <th>Athlete ID</th>\n",
       "      <th>injury</th>\n",
       "      <th>rel total kms week 0_1</th>\n",
       "      <th>rel total kms week 0_2</th>\n",
       "      <th>rel total kms week 1_2</th>\n",
       "      <th>Date</th>\n",
       "    </tr>\n",
       "  </thead>\n",
       "  <tbody>\n",
       "    <tr>\n",
       "      <th>0</th>\n",
       "      <td>5.0</td>\n",
       "      <td>2.0</td>\n",
       "      <td>22.2</td>\n",
       "      <td>16.4</td>\n",
       "      <td>11.8</td>\n",
       "      <td>1.0</td>\n",
       "      <td>2.0</td>\n",
       "      <td>10.0</td>\n",
       "      <td>10.0</td>\n",
       "      <td>0.6</td>\n",
       "      <td>...</td>\n",
       "      <td>0.0</td>\n",
       "      <td>0.18</td>\n",
       "      <td>0.16</td>\n",
       "      <td>0.20</td>\n",
       "      <td>0</td>\n",
       "      <td>0</td>\n",
       "      <td>0.718447</td>\n",
       "      <td>1.378882</td>\n",
       "      <td>1.919255</td>\n",
       "      <td>0</td>\n",
       "    </tr>\n",
       "    <tr>\n",
       "      <th>1</th>\n",
       "      <td>5.0</td>\n",
       "      <td>2.0</td>\n",
       "      <td>21.6</td>\n",
       "      <td>16.4</td>\n",
       "      <td>11.7</td>\n",
       "      <td>1.0</td>\n",
       "      <td>2.0</td>\n",
       "      <td>10.0</td>\n",
       "      <td>10.0</td>\n",
       "      <td>0.5</td>\n",
       "      <td>...</td>\n",
       "      <td>0.0</td>\n",
       "      <td>0.18</td>\n",
       "      <td>0.16</td>\n",
       "      <td>0.20</td>\n",
       "      <td>0</td>\n",
       "      <td>0</td>\n",
       "      <td>0.683544</td>\n",
       "      <td>1.018868</td>\n",
       "      <td>1.490566</td>\n",
       "      <td>1</td>\n",
       "    </tr>\n",
       "    <tr>\n",
       "      <th>2</th>\n",
       "      <td>5.0</td>\n",
       "      <td>2.0</td>\n",
       "      <td>21.6</td>\n",
       "      <td>16.4</td>\n",
       "      <td>11.7</td>\n",
       "      <td>1.0</td>\n",
       "      <td>2.0</td>\n",
       "      <td>10.0</td>\n",
       "      <td>10.0</td>\n",
       "      <td>0.5</td>\n",
       "      <td>...</td>\n",
       "      <td>0.0</td>\n",
       "      <td>0.17</td>\n",
       "      <td>0.16</td>\n",
       "      <td>0.18</td>\n",
       "      <td>0</td>\n",
       "      <td>0</td>\n",
       "      <td>0.683544</td>\n",
       "      <td>1.018868</td>\n",
       "      <td>1.490566</td>\n",
       "      <td>2</td>\n",
       "    </tr>\n",
       "    <tr>\n",
       "      <th>3</th>\n",
       "      <td>5.0</td>\n",
       "      <td>2.0</td>\n",
       "      <td>21.6</td>\n",
       "      <td>16.4</td>\n",
       "      <td>11.7</td>\n",
       "      <td>1.0</td>\n",
       "      <td>2.0</td>\n",
       "      <td>10.0</td>\n",
       "      <td>10.0</td>\n",
       "      <td>0.5</td>\n",
       "      <td>...</td>\n",
       "      <td>0.0</td>\n",
       "      <td>0.18</td>\n",
       "      <td>0.16</td>\n",
       "      <td>0.18</td>\n",
       "      <td>0</td>\n",
       "      <td>0</td>\n",
       "      <td>0.683544</td>\n",
       "      <td>1.018868</td>\n",
       "      <td>1.490566</td>\n",
       "      <td>3</td>\n",
       "    </tr>\n",
       "    <tr>\n",
       "      <th>4</th>\n",
       "      <td>6.0</td>\n",
       "      <td>1.0</td>\n",
       "      <td>39.2</td>\n",
       "      <td>17.6</td>\n",
       "      <td>18.9</td>\n",
       "      <td>1.0</td>\n",
       "      <td>3.0</td>\n",
       "      <td>17.2</td>\n",
       "      <td>10.0</td>\n",
       "      <td>0.5</td>\n",
       "      <td>...</td>\n",
       "      <td>0.0</td>\n",
       "      <td>0.17</td>\n",
       "      <td>0.16</td>\n",
       "      <td>0.18</td>\n",
       "      <td>0</td>\n",
       "      <td>0</td>\n",
       "      <td>2.202247</td>\n",
       "      <td>1.361111</td>\n",
       "      <td>0.618056</td>\n",
       "      <td>4</td>\n",
       "    </tr>\n",
       "  </tbody>\n",
       "</table>\n",
       "<p>5 rows × 72 columns</p>\n",
       "</div>"
      ],
      "text/plain": [
       "   nr. sessions  nr. rest days  total kms  max km one day  \\\n",
       "0           5.0            2.0       22.2            16.4   \n",
       "1           5.0            2.0       21.6            16.4   \n",
       "2           5.0            2.0       21.6            16.4   \n",
       "3           5.0            2.0       21.6            16.4   \n",
       "4           6.0            1.0       39.2            17.6   \n",
       "\n",
       "   total km Z3-Z4-Z5-T1-T2  nr. tough sessions (effort in Z5, T1 or T2)  \\\n",
       "0                     11.8                                          1.0   \n",
       "1                     11.7                                          1.0   \n",
       "2                     11.7                                          1.0   \n",
       "3                     11.7                                          1.0   \n",
       "4                     18.9                                          1.0   \n",
       "\n",
       "   nr. days with interval session  total km Z3-4  max km Z3-4 one day  \\\n",
       "0                             2.0           10.0                 10.0   \n",
       "1                             2.0           10.0                 10.0   \n",
       "2                             2.0           10.0                 10.0   \n",
       "3                             2.0           10.0                 10.0   \n",
       "4                             3.0           17.2                 10.0   \n",
       "\n",
       "   total km Z5-T1-T2  ...  max training success.2  avg recovery.2  \\\n",
       "0                0.6  ...                     0.0            0.18   \n",
       "1                0.5  ...                     0.0            0.18   \n",
       "2                0.5  ...                     0.0            0.17   \n",
       "3                0.5  ...                     0.0            0.18   \n",
       "4                0.5  ...                     0.0            0.17   \n",
       "\n",
       "   min recovery.2  max recovery.2  Athlete ID  injury  rel total kms week 0_1  \\\n",
       "0            0.16            0.20           0       0                0.718447   \n",
       "1            0.16            0.20           0       0                0.683544   \n",
       "2            0.16            0.18           0       0                0.683544   \n",
       "3            0.16            0.18           0       0                0.683544   \n",
       "4            0.16            0.18           0       0                2.202247   \n",
       "\n",
       "   rel total kms week 0_2  rel total kms week 1_2  Date  \n",
       "0                1.378882                1.919255     0  \n",
       "1                1.018868                1.490566     1  \n",
       "2                1.018868                1.490566     2  \n",
       "3                1.018868                1.490566     3  \n",
       "4                1.361111                0.618056     4  \n",
       "\n",
       "[5 rows x 72 columns]"
      ]
     },
     "execution_count": 2,
     "metadata": {},
     "output_type": "execute_result"
    }
   ],
   "source": [
    "df_week = pd.read_csv('week_approach_maskedID_timeseries.csv')\n",
    "df_week.head()"
   ]
  },
  {
   "cell_type": "code",
   "execution_count": 3,
   "id": "26bb8d43",
   "metadata": {},
   "outputs": [
    {
     "data": {
      "text/plain": [
       "False"
      ]
     },
     "execution_count": 3,
     "metadata": {},
     "output_type": "execute_result"
    }
   ],
   "source": [
    "df_week.isnull().values.any()"
   ]
  },
  {
   "cell_type": "code",
   "execution_count": 4,
   "id": "b5e44fc7",
   "metadata": {},
   "outputs": [
    {
     "name": "stdout",
     "output_type": "stream",
     "text": [
      "<class 'pandas.core.frame.DataFrame'>\n",
      "RangeIndex: 42798 entries, 0 to 42797\n",
      "Data columns (total 72 columns):\n",
      " #   Column                                         Non-Null Count  Dtype  \n",
      "---  ------                                         --------------  -----  \n",
      " 0   nr. sessions                                   42798 non-null  float64\n",
      " 1   nr. rest days                                  42798 non-null  float64\n",
      " 2   total kms                                      42798 non-null  float64\n",
      " 3   max km one day                                 42798 non-null  float64\n",
      " 4   total km Z3-Z4-Z5-T1-T2                        42798 non-null  float64\n",
      " 5   nr. tough sessions (effort in Z5, T1 or T2)    42798 non-null  float64\n",
      " 6   nr. days with interval session                 42798 non-null  float64\n",
      " 7   total km Z3-4                                  42798 non-null  float64\n",
      " 8   max km Z3-4 one day                            42798 non-null  float64\n",
      " 9   total km Z5-T1-T2                              42798 non-null  float64\n",
      " 10  max km Z5-T1-T2 one day                        42798 non-null  float64\n",
      " 11  total hours alternative training               42798 non-null  float64\n",
      " 12  nr. strength trainings                         42798 non-null  float64\n",
      " 13  avg exertion                                   42798 non-null  float64\n",
      " 14  min exertion                                   42798 non-null  float64\n",
      " 15  max exertion                                   42798 non-null  float64\n",
      " 16  avg training success                           42798 non-null  float64\n",
      " 17  min training success                           42798 non-null  float64\n",
      " 18  max training success                           42798 non-null  float64\n",
      " 19  avg recovery                                   42798 non-null  float64\n",
      " 20  min recovery                                   42798 non-null  float64\n",
      " 21  max recovery                                   42798 non-null  float64\n",
      " 22  nr. sessions.1                                 42798 non-null  float64\n",
      " 23  nr. rest days.1                                42798 non-null  float64\n",
      " 24  total kms.1                                    42798 non-null  float64\n",
      " 25  max km one day.1                               42798 non-null  float64\n",
      " 26  total km Z3-Z4-Z5-T1-T2.1                      42798 non-null  float64\n",
      " 27  nr. tough sessions (effort in Z5, T1 or T2).1  42798 non-null  float64\n",
      " 28  nr. days with interval session.1               42798 non-null  float64\n",
      " 29  total km Z3-4.1                                42798 non-null  float64\n",
      " 30  max km Z3-4 one day.1                          42798 non-null  float64\n",
      " 31  total km Z5-T1-T2.1                            42798 non-null  float64\n",
      " 32  max km Z5-T1-T2 one day.1                      42798 non-null  float64\n",
      " 33  total hours alternative training.1             42798 non-null  float64\n",
      " 34  nr. strength trainings.1                       42798 non-null  float64\n",
      " 35  avg exertion.1                                 42798 non-null  float64\n",
      " 36  min exertion.1                                 42798 non-null  float64\n",
      " 37  max exertion.1                                 42798 non-null  float64\n",
      " 38  avg training success.1                         42798 non-null  float64\n",
      " 39  min training success.1                         42798 non-null  float64\n",
      " 40  max training success.1                         42798 non-null  float64\n",
      " 41  avg recovery.1                                 42798 non-null  float64\n",
      " 42  min recovery.1                                 42798 non-null  float64\n",
      " 43  max recovery.1                                 42798 non-null  float64\n",
      " 44  nr. sessions.2                                 42798 non-null  float64\n",
      " 45  nr. rest days.2                                42798 non-null  float64\n",
      " 46  total kms.2                                    42798 non-null  float64\n",
      " 47  max km one day.2                               42798 non-null  float64\n",
      " 48  total km Z3-Z4-Z5-T1-T2.2                      42798 non-null  float64\n",
      " 49  nr. tough sessions (effort in Z5, T1 or T2).2  42798 non-null  float64\n",
      " 50  nr. days with interval session.2               42798 non-null  float64\n",
      " 51  total km Z3-4.2                                42798 non-null  float64\n",
      " 52  max km Z3-4 one day.2                          42798 non-null  float64\n",
      " 53  total km Z5-T1-T2.2                            42798 non-null  float64\n",
      " 54  max km Z5-T1-T2 one day.2                      42798 non-null  float64\n",
      " 55  total hours alternative training.2             42798 non-null  float64\n",
      " 56  nr. strength trainings.2                       42798 non-null  float64\n",
      " 57  avg exertion.2                                 42798 non-null  float64\n",
      " 58  min exertion.2                                 42798 non-null  float64\n",
      " 59  max exertion.2                                 42798 non-null  float64\n",
      " 60  avg training success.2                         42798 non-null  float64\n",
      " 61  min training success.2                         42798 non-null  float64\n",
      " 62  max training success.2                         42798 non-null  float64\n",
      " 63  avg recovery.2                                 42798 non-null  float64\n",
      " 64  min recovery.2                                 42798 non-null  float64\n",
      " 65  max recovery.2                                 42798 non-null  float64\n",
      " 66  Athlete ID                                     42798 non-null  int64  \n",
      " 67  injury                                         42798 non-null  int64  \n",
      " 68  rel total kms week 0_1                         42798 non-null  float64\n",
      " 69  rel total kms week 0_2                         42798 non-null  float64\n",
      " 70  rel total kms week 1_2                         42798 non-null  float64\n",
      " 71  Date                                           42798 non-null  int64  \n",
      "dtypes: float64(69), int64(3)\n",
      "memory usage: 23.5 MB\n"
     ]
    }
   ],
   "source": [
    "df_week.info()"
   ]
  },
  {
   "cell_type": "markdown",
   "id": "e6c9e6b0",
   "metadata": {},
   "source": [
    "## Analysis on nr.session"
   ]
  },
  {
   "cell_type": "code",
   "execution_count": 5,
   "id": "02a43b76",
   "metadata": {},
   "outputs": [
    {
     "name": "stdout",
     "output_type": "stream",
     "text": [
      "248628.0\n",
      "248580.0\n",
      "248690.0\n"
     ]
    }
   ],
   "source": [
    "print(df_week['nr. sessions'].sum())\n",
    "print(df_week['nr. sessions.1'].sum())\n",
    "print(df_week['nr. sessions.2'].sum())"
   ]
  },
  {
   "cell_type": "code",
   "execution_count": 6,
   "id": "94f0aa48",
   "metadata": {},
   "outputs": [],
   "source": [
    "df_ath_ses = pd.DataFrame()\n",
    "df_ath_ses['Day0'] = df_week.groupby('Athlete ID')['nr. sessions'].sum()\n",
    "df_ath_ses['Day1'] = df_week.groupby('Athlete ID')['nr. sessions.1'].sum()\n",
    "df_ath_ses['Day2'] = df_week.groupby('Athlete ID')['nr. sessions.2'].sum()"
   ]
  },
  {
   "cell_type": "code",
   "execution_count": 7,
   "id": "ffe675bb",
   "metadata": {},
   "outputs": [
    {
     "data": {
      "text/html": [
       "<div>\n",
       "<style scoped>\n",
       "    .dataframe tbody tr th:only-of-type {\n",
       "        vertical-align: middle;\n",
       "    }\n",
       "\n",
       "    .dataframe tbody tr th {\n",
       "        vertical-align: top;\n",
       "    }\n",
       "\n",
       "    .dataframe thead th {\n",
       "        text-align: right;\n",
       "    }\n",
       "</style>\n",
       "<table border=\"1\" class=\"dataframe\">\n",
       "  <thead>\n",
       "    <tr style=\"text-align: right;\">\n",
       "      <th></th>\n",
       "      <th>Day0</th>\n",
       "      <th>Day1</th>\n",
       "      <th>Day2</th>\n",
       "    </tr>\n",
       "    <tr>\n",
       "      <th>Athlete ID</th>\n",
       "      <th></th>\n",
       "      <th></th>\n",
       "      <th></th>\n",
       "    </tr>\n",
       "  </thead>\n",
       "  <tbody>\n",
       "    <tr>\n",
       "      <th>0</th>\n",
       "      <td>1264.0</td>\n",
       "      <td>1278.0</td>\n",
       "      <td>1257.0</td>\n",
       "    </tr>\n",
       "    <tr>\n",
       "      <th>1</th>\n",
       "      <td>2774.0</td>\n",
       "      <td>2771.0</td>\n",
       "      <td>2704.0</td>\n",
       "    </tr>\n",
       "    <tr>\n",
       "      <th>2</th>\n",
       "      <td>7175.0</td>\n",
       "      <td>7175.0</td>\n",
       "      <td>7133.0</td>\n",
       "    </tr>\n",
       "    <tr>\n",
       "      <th>3</th>\n",
       "      <td>1956.0</td>\n",
       "      <td>1987.0</td>\n",
       "      <td>2015.0</td>\n",
       "    </tr>\n",
       "    <tr>\n",
       "      <th>4</th>\n",
       "      <td>4372.0</td>\n",
       "      <td>4318.0</td>\n",
       "      <td>4281.0</td>\n",
       "    </tr>\n",
       "  </tbody>\n",
       "</table>\n",
       "</div>"
      ],
      "text/plain": [
       "              Day0    Day1    Day2\n",
       "Athlete ID                        \n",
       "0           1264.0  1278.0  1257.0\n",
       "1           2774.0  2771.0  2704.0\n",
       "2           7175.0  7175.0  7133.0\n",
       "3           1956.0  1987.0  2015.0\n",
       "4           4372.0  4318.0  4281.0"
      ]
     },
     "execution_count": 7,
     "metadata": {},
     "output_type": "execute_result"
    }
   ],
   "source": [
    "df_ath_ses.head()"
   ]
  },
  {
   "cell_type": "code",
   "execution_count": 8,
   "id": "880b4e55",
   "metadata": {},
   "outputs": [],
   "source": [
    "df_ath_ses.reset_index(inplace=True)"
   ]
  },
  {
   "cell_type": "code",
   "execution_count": 9,
   "id": "79c09e3f",
   "metadata": {},
   "outputs": [
    {
     "data": {
      "text/html": [
       "<div>\n",
       "<style scoped>\n",
       "    .dataframe tbody tr th:only-of-type {\n",
       "        vertical-align: middle;\n",
       "    }\n",
       "\n",
       "    .dataframe tbody tr th {\n",
       "        vertical-align: top;\n",
       "    }\n",
       "\n",
       "    .dataframe thead th {\n",
       "        text-align: right;\n",
       "    }\n",
       "</style>\n",
       "<table border=\"1\" class=\"dataframe\">\n",
       "  <thead>\n",
       "    <tr style=\"text-align: right;\">\n",
       "      <th></th>\n",
       "      <th>Athlete ID</th>\n",
       "      <th>Day0</th>\n",
       "      <th>Day1</th>\n",
       "      <th>Day2</th>\n",
       "    </tr>\n",
       "  </thead>\n",
       "  <tbody>\n",
       "    <tr>\n",
       "      <th>0</th>\n",
       "      <td>0</td>\n",
       "      <td>1264.0</td>\n",
       "      <td>1278.0</td>\n",
       "      <td>1257.0</td>\n",
       "    </tr>\n",
       "    <tr>\n",
       "      <th>1</th>\n",
       "      <td>1</td>\n",
       "      <td>2774.0</td>\n",
       "      <td>2771.0</td>\n",
       "      <td>2704.0</td>\n",
       "    </tr>\n",
       "    <tr>\n",
       "      <th>2</th>\n",
       "      <td>2</td>\n",
       "      <td>7175.0</td>\n",
       "      <td>7175.0</td>\n",
       "      <td>7133.0</td>\n",
       "    </tr>\n",
       "    <tr>\n",
       "      <th>3</th>\n",
       "      <td>3</td>\n",
       "      <td>1956.0</td>\n",
       "      <td>1987.0</td>\n",
       "      <td>2015.0</td>\n",
       "    </tr>\n",
       "    <tr>\n",
       "      <th>4</th>\n",
       "      <td>4</td>\n",
       "      <td>4372.0</td>\n",
       "      <td>4318.0</td>\n",
       "      <td>4281.0</td>\n",
       "    </tr>\n",
       "  </tbody>\n",
       "</table>\n",
       "</div>"
      ],
      "text/plain": [
       "   Athlete ID    Day0    Day1    Day2\n",
       "0           0  1264.0  1278.0  1257.0\n",
       "1           1  2774.0  2771.0  2704.0\n",
       "2           2  7175.0  7175.0  7133.0\n",
       "3           3  1956.0  1987.0  2015.0\n",
       "4           4  4372.0  4318.0  4281.0"
      ]
     },
     "execution_count": 9,
     "metadata": {},
     "output_type": "execute_result"
    }
   ],
   "source": [
    "df_ath_ses.head()"
   ]
  },
  {
   "cell_type": "code",
   "execution_count": 10,
   "id": "58e5d028",
   "metadata": {},
   "outputs": [],
   "source": [
    "df_ath_ses['Total'] = df_ath_ses.loc[0:,['Day0','Day1','Day2']].sum(axis=1)"
   ]
  },
  {
   "cell_type": "code",
   "execution_count": 11,
   "id": "9a3eba0e",
   "metadata": {},
   "outputs": [
    {
     "data": {
      "text/html": [
       "<div>\n",
       "<style scoped>\n",
       "    .dataframe tbody tr th:only-of-type {\n",
       "        vertical-align: middle;\n",
       "    }\n",
       "\n",
       "    .dataframe tbody tr th {\n",
       "        vertical-align: top;\n",
       "    }\n",
       "\n",
       "    .dataframe thead th {\n",
       "        text-align: right;\n",
       "    }\n",
       "</style>\n",
       "<table border=\"1\" class=\"dataframe\">\n",
       "  <thead>\n",
       "    <tr style=\"text-align: right;\">\n",
       "      <th></th>\n",
       "      <th>Athlete ID</th>\n",
       "      <th>Day0</th>\n",
       "      <th>Day1</th>\n",
       "      <th>Day2</th>\n",
       "      <th>Total</th>\n",
       "    </tr>\n",
       "  </thead>\n",
       "  <tbody>\n",
       "    <tr>\n",
       "      <th>0</th>\n",
       "      <td>0</td>\n",
       "      <td>1264.0</td>\n",
       "      <td>1278.0</td>\n",
       "      <td>1257.0</td>\n",
       "      <td>3799.0</td>\n",
       "    </tr>\n",
       "    <tr>\n",
       "      <th>1</th>\n",
       "      <td>1</td>\n",
       "      <td>2774.0</td>\n",
       "      <td>2771.0</td>\n",
       "      <td>2704.0</td>\n",
       "      <td>8249.0</td>\n",
       "    </tr>\n",
       "    <tr>\n",
       "      <th>2</th>\n",
       "      <td>2</td>\n",
       "      <td>7175.0</td>\n",
       "      <td>7175.0</td>\n",
       "      <td>7133.0</td>\n",
       "      <td>21483.0</td>\n",
       "    </tr>\n",
       "    <tr>\n",
       "      <th>3</th>\n",
       "      <td>3</td>\n",
       "      <td>1956.0</td>\n",
       "      <td>1987.0</td>\n",
       "      <td>2015.0</td>\n",
       "      <td>5958.0</td>\n",
       "    </tr>\n",
       "    <tr>\n",
       "      <th>4</th>\n",
       "      <td>4</td>\n",
       "      <td>4372.0</td>\n",
       "      <td>4318.0</td>\n",
       "      <td>4281.0</td>\n",
       "      <td>12971.0</td>\n",
       "    </tr>\n",
       "  </tbody>\n",
       "</table>\n",
       "</div>"
      ],
      "text/plain": [
       "   Athlete ID    Day0    Day1    Day2    Total\n",
       "0           0  1264.0  1278.0  1257.0   3799.0\n",
       "1           1  2774.0  2771.0  2704.0   8249.0\n",
       "2           2  7175.0  7175.0  7133.0  21483.0\n",
       "3           3  1956.0  1987.0  2015.0   5958.0\n",
       "4           4  4372.0  4318.0  4281.0  12971.0"
      ]
     },
     "execution_count": 11,
     "metadata": {},
     "output_type": "execute_result"
    }
   ],
   "source": [
    "df_ath_ses.head()"
   ]
  },
  {
   "cell_type": "markdown",
   "id": "b2336117",
   "metadata": {},
   "source": [
    "The dataframe above shows total number of sessions each Athlete had for their training."
   ]
  },
  {
   "cell_type": "code",
   "execution_count": 12,
   "id": "b9682d92",
   "metadata": {},
   "outputs": [
    {
     "data": {
      "text/plain": [
       "<AxesSubplot:>"
      ]
     },
     "execution_count": 12,
     "metadata": {},
     "output_type": "execute_result"
    },
    {
     "data": {
      "image/png": "[encoded data removed]",
      "text/plain": [
       "<Figure size 1296x288 with 1 Axes>"
      ]
     },
     "metadata": {
      "needs_background": "light"
     },
     "output_type": "display_data"
    }
   ],
   "source": [
    "df_ath_ses[['Athlete ID','Total']].sort_values('Total').plot(kind='bar', figsize=(18,4))"
   ]
  },
  {
   "cell_type": "markdown",
   "id": "e7b68ac5",
   "metadata": {},
   "source": [
    "From the plot above, we can clearly see that Athleted ID 60 did least number of sessions  whereas Athlete ID 20 did maximum number of sessions."
   ]
  },
  {
   "cell_type": "code",
   "execution_count": null,
   "id": "d242f54a",
   "metadata": {},
   "outputs": [],
   "source": []
  },
  {
   "cell_type": "markdown",
   "id": "09b6e66f",
   "metadata": {},
   "source": [
    "## Analysis on nr. rest days "
   ]
  },
  {
   "cell_type": "code",
   "execution_count": 13,
   "id": "fc4155d3",
   "metadata": {},
   "outputs": [],
   "source": [
    "df_ath_rest = pd.DataFrame()\n",
    "df_ath_rest['Day0'] = df_week.groupby('Athlete ID')['nr. rest days'].sum()\n",
    "df_ath_rest['Day1'] = df_week.groupby('Athlete ID')['nr. rest days.1'].sum()\n",
    "df_ath_rest['Day2'] = df_week.groupby('Athlete ID')['nr. rest days.2'].sum()"
   ]
  },
  {
   "cell_type": "code",
   "execution_count": 14,
   "id": "60258a60",
   "metadata": {},
   "outputs": [
    {
     "data": {
      "text/html": [
       "<div>\n",
       "<style scoped>\n",
       "    .dataframe tbody tr th:only-of-type {\n",
       "        vertical-align: middle;\n",
       "    }\n",
       "\n",
       "    .dataframe tbody tr th {\n",
       "        vertical-align: top;\n",
       "    }\n",
       "\n",
       "    .dataframe thead th {\n",
       "        text-align: right;\n",
       "    }\n",
       "</style>\n",
       "<table border=\"1\" class=\"dataframe\">\n",
       "  <thead>\n",
       "    <tr style=\"text-align: right;\">\n",
       "      <th></th>\n",
       "      <th>Day0</th>\n",
       "      <th>Day1</th>\n",
       "      <th>Day2</th>\n",
       "    </tr>\n",
       "    <tr>\n",
       "      <th>Athlete ID</th>\n",
       "      <th></th>\n",
       "      <th></th>\n",
       "      <th></th>\n",
       "    </tr>\n",
       "  </thead>\n",
       "  <tbody>\n",
       "    <tr>\n",
       "      <th>0</th>\n",
       "      <td>958.0</td>\n",
       "      <td>938.0</td>\n",
       "      <td>955.0</td>\n",
       "    </tr>\n",
       "    <tr>\n",
       "      <th>1</th>\n",
       "      <td>1072.0</td>\n",
       "      <td>1093.0</td>\n",
       "      <td>1145.0</td>\n",
       "    </tr>\n",
       "    <tr>\n",
       "      <th>2</th>\n",
       "      <td>2280.0</td>\n",
       "      <td>2281.0</td>\n",
       "      <td>2324.0</td>\n",
       "    </tr>\n",
       "    <tr>\n",
       "      <th>3</th>\n",
       "      <td>600.0</td>\n",
       "      <td>580.0</td>\n",
       "      <td>561.0</td>\n",
       "    </tr>\n",
       "    <tr>\n",
       "      <th>4</th>\n",
       "      <td>1055.0</td>\n",
       "      <td>1091.0</td>\n",
       "      <td>1125.0</td>\n",
       "    </tr>\n",
       "  </tbody>\n",
       "</table>\n",
       "</div>"
      ],
      "text/plain": [
       "              Day0    Day1    Day2\n",
       "Athlete ID                        \n",
       "0            958.0   938.0   955.0\n",
       "1           1072.0  1093.0  1145.0\n",
       "2           2280.0  2281.0  2324.0\n",
       "3            600.0   580.0   561.0\n",
       "4           1055.0  1091.0  1125.0"
      ]
     },
     "execution_count": 14,
     "metadata": {},
     "output_type": "execute_result"
    }
   ],
   "source": [
    "df_ath_rest.head()"
   ]
  },
  {
   "cell_type": "code",
   "execution_count": 15,
   "id": "7adf7259",
   "metadata": {},
   "outputs": [],
   "source": [
    "df_ath_rest.reset_index(inplace=True)"
   ]
  },
  {
   "cell_type": "code",
   "execution_count": 16,
   "id": "91b152a7",
   "metadata": {},
   "outputs": [
    {
     "data": {
      "text/html": [
       "<div>\n",
       "<style scoped>\n",
       "    .dataframe tbody tr th:only-of-type {\n",
       "        vertical-align: middle;\n",
       "    }\n",
       "\n",
       "    .dataframe tbody tr th {\n",
       "        vertical-align: top;\n",
       "    }\n",
       "\n",
       "    .dataframe thead th {\n",
       "        text-align: right;\n",
       "    }\n",
       "</style>\n",
       "<table border=\"1\" class=\"dataframe\">\n",
       "  <thead>\n",
       "    <tr style=\"text-align: right;\">\n",
       "      <th></th>\n",
       "      <th>Athlete ID</th>\n",
       "      <th>Day0</th>\n",
       "      <th>Day1</th>\n",
       "      <th>Day2</th>\n",
       "    </tr>\n",
       "  </thead>\n",
       "  <tbody>\n",
       "    <tr>\n",
       "      <th>0</th>\n",
       "      <td>0</td>\n",
       "      <td>958.0</td>\n",
       "      <td>938.0</td>\n",
       "      <td>955.0</td>\n",
       "    </tr>\n",
       "    <tr>\n",
       "      <th>1</th>\n",
       "      <td>1</td>\n",
       "      <td>1072.0</td>\n",
       "      <td>1093.0</td>\n",
       "      <td>1145.0</td>\n",
       "    </tr>\n",
       "    <tr>\n",
       "      <th>2</th>\n",
       "      <td>2</td>\n",
       "      <td>2280.0</td>\n",
       "      <td>2281.0</td>\n",
       "      <td>2324.0</td>\n",
       "    </tr>\n",
       "    <tr>\n",
       "      <th>3</th>\n",
       "      <td>3</td>\n",
       "      <td>600.0</td>\n",
       "      <td>580.0</td>\n",
       "      <td>561.0</td>\n",
       "    </tr>\n",
       "    <tr>\n",
       "      <th>4</th>\n",
       "      <td>4</td>\n",
       "      <td>1055.0</td>\n",
       "      <td>1091.0</td>\n",
       "      <td>1125.0</td>\n",
       "    </tr>\n",
       "  </tbody>\n",
       "</table>\n",
       "</div>"
      ],
      "text/plain": [
       "   Athlete ID    Day0    Day1    Day2\n",
       "0           0   958.0   938.0   955.0\n",
       "1           1  1072.0  1093.0  1145.0\n",
       "2           2  2280.0  2281.0  2324.0\n",
       "3           3   600.0   580.0   561.0\n",
       "4           4  1055.0  1091.0  1125.0"
      ]
     },
     "execution_count": 16,
     "metadata": {},
     "output_type": "execute_result"
    }
   ],
   "source": [
    "df_ath_rest.head()"
   ]
  },
  {
   "cell_type": "code",
   "execution_count": 17,
   "id": "9430407c",
   "metadata": {},
   "outputs": [],
   "source": [
    "df_ath_rest['Total'] = df_ath_rest.loc[0:,['Day0','Day1','Day2']].sum(axis=1)"
   ]
  },
  {
   "cell_type": "code",
   "execution_count": 18,
   "id": "863c4177",
   "metadata": {},
   "outputs": [
    {
     "data": {
      "text/html": [
       "<div>\n",
       "<style scoped>\n",
       "    .dataframe tbody tr th:only-of-type {\n",
       "        vertical-align: middle;\n",
       "    }\n",
       "\n",
       "    .dataframe tbody tr th {\n",
       "        vertical-align: top;\n",
       "    }\n",
       "\n",
       "    .dataframe thead th {\n",
       "        text-align: right;\n",
       "    }\n",
       "</style>\n",
       "<table border=\"1\" class=\"dataframe\">\n",
       "  <thead>\n",
       "    <tr style=\"text-align: right;\">\n",
       "      <th></th>\n",
       "      <th>Athlete ID</th>\n",
       "      <th>Day0</th>\n",
       "      <th>Day1</th>\n",
       "      <th>Day2</th>\n",
       "      <th>Total</th>\n",
       "    </tr>\n",
       "  </thead>\n",
       "  <tbody>\n",
       "    <tr>\n",
       "      <th>0</th>\n",
       "      <td>0</td>\n",
       "      <td>958.0</td>\n",
       "      <td>938.0</td>\n",
       "      <td>955.0</td>\n",
       "      <td>2851.0</td>\n",
       "    </tr>\n",
       "    <tr>\n",
       "      <th>1</th>\n",
       "      <td>1</td>\n",
       "      <td>1072.0</td>\n",
       "      <td>1093.0</td>\n",
       "      <td>1145.0</td>\n",
       "      <td>3310.0</td>\n",
       "    </tr>\n",
       "    <tr>\n",
       "      <th>2</th>\n",
       "      <td>2</td>\n",
       "      <td>2280.0</td>\n",
       "      <td>2281.0</td>\n",
       "      <td>2324.0</td>\n",
       "      <td>6885.0</td>\n",
       "    </tr>\n",
       "    <tr>\n",
       "      <th>3</th>\n",
       "      <td>3</td>\n",
       "      <td>600.0</td>\n",
       "      <td>580.0</td>\n",
       "      <td>561.0</td>\n",
       "      <td>1741.0</td>\n",
       "    </tr>\n",
       "    <tr>\n",
       "      <th>4</th>\n",
       "      <td>4</td>\n",
       "      <td>1055.0</td>\n",
       "      <td>1091.0</td>\n",
       "      <td>1125.0</td>\n",
       "      <td>3271.0</td>\n",
       "    </tr>\n",
       "  </tbody>\n",
       "</table>\n",
       "</div>"
      ],
      "text/plain": [
       "   Athlete ID    Day0    Day1    Day2   Total\n",
       "0           0   958.0   938.0   955.0  2851.0\n",
       "1           1  1072.0  1093.0  1145.0  3310.0\n",
       "2           2  2280.0  2281.0  2324.0  6885.0\n",
       "3           3   600.0   580.0   561.0  1741.0\n",
       "4           4  1055.0  1091.0  1125.0  3271.0"
      ]
     },
     "execution_count": 18,
     "metadata": {},
     "output_type": "execute_result"
    }
   ],
   "source": [
    "df_ath_rest.head()"
   ]
  },
  {
   "cell_type": "markdown",
   "id": "8cec3c55",
   "metadata": {},
   "source": [
    "The dataframe above shows the total number of rest days each Athlete had for their training."
   ]
  },
  {
   "cell_type": "code",
   "execution_count": 19,
   "id": "7638d10e",
   "metadata": {},
   "outputs": [
    {
     "data": {
      "text/plain": [
       "<AxesSubplot:>"
      ]
     },
     "execution_count": 19,
     "metadata": {},
     "output_type": "execute_result"
    },
    {
     "data": {
      "image/png": "[encoded data removed]",
      "text/plain": [
       "<Figure size 1296x288 with 1 Axes>"
      ]
     },
     "metadata": {
      "needs_background": "light"
     },
     "output_type": "display_data"
    }
   ],
   "source": [
    "df_ath_rest[['Athlete ID','Total']].sort_values('Total').plot(kind='bar', figsize=(18,4))"
   ]
  },
  {
   "cell_type": "code",
   "execution_count": null,
   "id": "a97c57f7",
   "metadata": {},
   "outputs": [],
   "source": []
  },
  {
   "cell_type": "markdown",
   "id": "f33158b8",
   "metadata": {},
   "source": [
    "## Analysis on  nr. tough sessions (effort in Z5, T1 or T2)   "
   ]
  },
  {
   "cell_type": "code",
   "execution_count": 20,
   "id": "e1fe35a6",
   "metadata": {},
   "outputs": [],
   "source": [
    "df_ath_tses = pd.DataFrame()\n",
    "df_ath_tses['Day0'] = df_week.groupby('Athlete ID')['nr. tough sessions (effort in Z5, T1 or T2)'].sum()\n",
    "df_ath_tses['Day1'] = df_week.groupby('Athlete ID')['nr. tough sessions (effort in Z5, T1 or T2).1'].sum()\n",
    "df_ath_tses['Day2'] = df_week.groupby('Athlete ID')['nr. tough sessions (effort in Z5, T1 or T2).2'].sum()"
   ]
  },
  {
   "cell_type": "code",
   "execution_count": 21,
   "id": "837acc52",
   "metadata": {},
   "outputs": [
    {
     "data": {
      "text/html": [
       "<div>\n",
       "<style scoped>\n",
       "    .dataframe tbody tr th:only-of-type {\n",
       "        vertical-align: middle;\n",
       "    }\n",
       "\n",
       "    .dataframe tbody tr th {\n",
       "        vertical-align: top;\n",
       "    }\n",
       "\n",
       "    .dataframe thead th {\n",
       "        text-align: right;\n",
       "    }\n",
       "</style>\n",
       "<table border=\"1\" class=\"dataframe\">\n",
       "  <thead>\n",
       "    <tr style=\"text-align: right;\">\n",
       "      <th></th>\n",
       "      <th>Day0</th>\n",
       "      <th>Day1</th>\n",
       "      <th>Day2</th>\n",
       "    </tr>\n",
       "    <tr>\n",
       "      <th>Athlete ID</th>\n",
       "      <th></th>\n",
       "      <th></th>\n",
       "      <th></th>\n",
       "    </tr>\n",
       "  </thead>\n",
       "  <tbody>\n",
       "    <tr>\n",
       "      <th>0</th>\n",
       "      <td>154.0</td>\n",
       "      <td>161.0</td>\n",
       "      <td>157.0</td>\n",
       "    </tr>\n",
       "    <tr>\n",
       "      <th>1</th>\n",
       "      <td>299.0</td>\n",
       "      <td>297.0</td>\n",
       "      <td>285.0</td>\n",
       "    </tr>\n",
       "    <tr>\n",
       "      <th>2</th>\n",
       "      <td>815.0</td>\n",
       "      <td>825.0</td>\n",
       "      <td>841.0</td>\n",
       "    </tr>\n",
       "    <tr>\n",
       "      <th>3</th>\n",
       "      <td>720.0</td>\n",
       "      <td>716.0</td>\n",
       "      <td>727.0</td>\n",
       "    </tr>\n",
       "    <tr>\n",
       "      <th>4</th>\n",
       "      <td>725.0</td>\n",
       "      <td>704.0</td>\n",
       "      <td>694.0</td>\n",
       "    </tr>\n",
       "  </tbody>\n",
       "</table>\n",
       "</div>"
      ],
      "text/plain": [
       "             Day0   Day1   Day2\n",
       "Athlete ID                     \n",
       "0           154.0  161.0  157.0\n",
       "1           299.0  297.0  285.0\n",
       "2           815.0  825.0  841.0\n",
       "3           720.0  716.0  727.0\n",
       "4           725.0  704.0  694.0"
      ]
     },
     "execution_count": 21,
     "metadata": {},
     "output_type": "execute_result"
    }
   ],
   "source": [
    "df_ath_tses.head()"
   ]
  },
  {
   "cell_type": "code",
   "execution_count": 22,
   "id": "f0e22992",
   "metadata": {},
   "outputs": [],
   "source": [
    "df_ath_tses.reset_index(inplace=True)"
   ]
  },
  {
   "cell_type": "code",
   "execution_count": 23,
   "id": "43c58a8b",
   "metadata": {},
   "outputs": [
    {
     "data": {
      "text/html": [
       "<div>\n",
       "<style scoped>\n",
       "    .dataframe tbody tr th:only-of-type {\n",
       "        vertical-align: middle;\n",
       "    }\n",
       "\n",
       "    .dataframe tbody tr th {\n",
       "        vertical-align: top;\n",
       "    }\n",
       "\n",
       "    .dataframe thead th {\n",
       "        text-align: right;\n",
       "    }\n",
       "</style>\n",
       "<table border=\"1\" class=\"dataframe\">\n",
       "  <thead>\n",
       "    <tr style=\"text-align: right;\">\n",
       "      <th></th>\n",
       "      <th>Athlete ID</th>\n",
       "      <th>Day0</th>\n",
       "      <th>Day1</th>\n",
       "      <th>Day2</th>\n",
       "    </tr>\n",
       "  </thead>\n",
       "  <tbody>\n",
       "    <tr>\n",
       "      <th>0</th>\n",
       "      <td>0</td>\n",
       "      <td>154.0</td>\n",
       "      <td>161.0</td>\n",
       "      <td>157.0</td>\n",
       "    </tr>\n",
       "    <tr>\n",
       "      <th>1</th>\n",
       "      <td>1</td>\n",
       "      <td>299.0</td>\n",
       "      <td>297.0</td>\n",
       "      <td>285.0</td>\n",
       "    </tr>\n",
       "    <tr>\n",
       "      <th>2</th>\n",
       "      <td>2</td>\n",
       "      <td>815.0</td>\n",
       "      <td>825.0</td>\n",
       "      <td>841.0</td>\n",
       "    </tr>\n",
       "    <tr>\n",
       "      <th>3</th>\n",
       "      <td>3</td>\n",
       "      <td>720.0</td>\n",
       "      <td>716.0</td>\n",
       "      <td>727.0</td>\n",
       "    </tr>\n",
       "    <tr>\n",
       "      <th>4</th>\n",
       "      <td>4</td>\n",
       "      <td>725.0</td>\n",
       "      <td>704.0</td>\n",
       "      <td>694.0</td>\n",
       "    </tr>\n",
       "  </tbody>\n",
       "</table>\n",
       "</div>"
      ],
      "text/plain": [
       "   Athlete ID   Day0   Day1   Day2\n",
       "0           0  154.0  161.0  157.0\n",
       "1           1  299.0  297.0  285.0\n",
       "2           2  815.0  825.0  841.0\n",
       "3           3  720.0  716.0  727.0\n",
       "4           4  725.0  704.0  694.0"
      ]
     },
     "execution_count": 23,
     "metadata": {},
     "output_type": "execute_result"
    }
   ],
   "source": [
    "df_ath_tses.head()"
   ]
  },
  {
   "cell_type": "code",
   "execution_count": 24,
   "id": "b84c290c",
   "metadata": {},
   "outputs": [],
   "source": [
    "df_ath_tses['Total'] = df_ath_tses.loc[0:,['Day0','Day1','Day2']].sum(axis=1)"
   ]
  },
  {
   "cell_type": "code",
   "execution_count": 25,
   "id": "af72be2f",
   "metadata": {},
   "outputs": [
    {
     "data": {
      "text/html": [
       "<div>\n",
       "<style scoped>\n",
       "    .dataframe tbody tr th:only-of-type {\n",
       "        vertical-align: middle;\n",
       "    }\n",
       "\n",
       "    .dataframe tbody tr th {\n",
       "        vertical-align: top;\n",
       "    }\n",
       "\n",
       "    .dataframe thead th {\n",
       "        text-align: right;\n",
       "    }\n",
       "</style>\n",
       "<table border=\"1\" class=\"dataframe\">\n",
       "  <thead>\n",
       "    <tr style=\"text-align: right;\">\n",
       "      <th></th>\n",
       "      <th>Athlete ID</th>\n",
       "      <th>Day0</th>\n",
       "      <th>Day1</th>\n",
       "      <th>Day2</th>\n",
       "      <th>Total</th>\n",
       "    </tr>\n",
       "  </thead>\n",
       "  <tbody>\n",
       "    <tr>\n",
       "      <th>0</th>\n",
       "      <td>0</td>\n",
       "      <td>154.0</td>\n",
       "      <td>161.0</td>\n",
       "      <td>157.0</td>\n",
       "      <td>472.0</td>\n",
       "    </tr>\n",
       "    <tr>\n",
       "      <th>1</th>\n",
       "      <td>1</td>\n",
       "      <td>299.0</td>\n",
       "      <td>297.0</td>\n",
       "      <td>285.0</td>\n",
       "      <td>881.0</td>\n",
       "    </tr>\n",
       "    <tr>\n",
       "      <th>2</th>\n",
       "      <td>2</td>\n",
       "      <td>815.0</td>\n",
       "      <td>825.0</td>\n",
       "      <td>841.0</td>\n",
       "      <td>2481.0</td>\n",
       "    </tr>\n",
       "    <tr>\n",
       "      <th>3</th>\n",
       "      <td>3</td>\n",
       "      <td>720.0</td>\n",
       "      <td>716.0</td>\n",
       "      <td>727.0</td>\n",
       "      <td>2163.0</td>\n",
       "    </tr>\n",
       "    <tr>\n",
       "      <th>4</th>\n",
       "      <td>4</td>\n",
       "      <td>725.0</td>\n",
       "      <td>704.0</td>\n",
       "      <td>694.0</td>\n",
       "      <td>2123.0</td>\n",
       "    </tr>\n",
       "  </tbody>\n",
       "</table>\n",
       "</div>"
      ],
      "text/plain": [
       "   Athlete ID   Day0   Day1   Day2   Total\n",
       "0           0  154.0  161.0  157.0   472.0\n",
       "1           1  299.0  297.0  285.0   881.0\n",
       "2           2  815.0  825.0  841.0  2481.0\n",
       "3           3  720.0  716.0  727.0  2163.0\n",
       "4           4  725.0  704.0  694.0  2123.0"
      ]
     },
     "execution_count": 25,
     "metadata": {},
     "output_type": "execute_result"
    }
   ],
   "source": [
    "df_ath_tses.head()"
   ]
  },
  {
   "cell_type": "markdown",
   "id": "b359353c",
   "metadata": {},
   "source": [
    "The dataframe above shows the total number of tough sessions each Athlete had for their training."
   ]
  },
  {
   "cell_type": "code",
   "execution_count": 26,
   "id": "7b99bc49",
   "metadata": {},
   "outputs": [
    {
     "data": {
      "text/plain": [
       "<AxesSubplot:>"
      ]
     },
     "execution_count": 26,
     "metadata": {},
     "output_type": "execute_result"
    },
    {
     "data": {
      "image/png": "[encoded data removed]",
      "text/plain": [
       "<Figure size 1296x288 with 1 Axes>"
      ]
     },
     "metadata": {
      "needs_background": "light"
     },
     "output_type": "display_data"
    }
   ],
   "source": [
    "df_ath_tses[['Athlete ID','Total']].sort_values('Total').plot(kind='bar', figsize=(18,4))"
   ]
  },
  {
   "cell_type": "code",
   "execution_count": 27,
   "id": "08701c33",
   "metadata": {},
   "outputs": [
    {
     "name": "stdout",
     "output_type": "stream",
     "text": [
      "0    42223\n",
      "1      575\n",
      "Name: injury, dtype: int64\n"
     ]
    },
    {
     "data": {
      "text/plain": [
       "<AxesSubplot:xlabel='injury', ylabel='count'>"
      ]
     },
     "execution_count": 27,
     "metadata": {},
     "output_type": "execute_result"
    },
    {
     "data": {
      "image/png": "[encoded data removed]",
      "text/plain": [
       "<Figure size 432x288 with 1 Axes>"
      ]
     },
     "metadata": {
      "needs_background": "light"
     },
     "output_type": "display_data"
    }
   ],
   "source": [
    "print(df_week['injury'].value_counts())\n",
    "sns.countplot(df_week['injury'])"
   ]
  },
  {
   "cell_type": "markdown",
   "id": "2acd51b1",
   "metadata": {},
   "source": [
    "In our entire dataset, there are a total of 42223 times an athlete didn't got injured, and 575 times an athlete got injured."
   ]
  },
  {
   "cell_type": "code",
   "execution_count": null,
   "id": "ab0117fc",
   "metadata": {},
   "outputs": [],
   "source": []
  },
  {
   "cell_type": "markdown",
   "id": "7b144d71",
   "metadata": {},
   "source": [
    "## Analysis on injury per athlete"
   ]
  },
  {
   "cell_type": "code",
   "execution_count": 28,
   "id": "d09218ff",
   "metadata": {},
   "outputs": [],
   "source": [
    "df_ath_injury = pd.DataFrame()\n",
    "df_ath_injury['Number of injury per Athlete'] = df_week.groupby('Athlete ID')['injury'].sum()"
   ]
  },
  {
   "cell_type": "code",
   "execution_count": 29,
   "id": "61ec23fe",
   "metadata": {},
   "outputs": [
    {
     "data": {
      "text/html": [
       "<div>\n",
       "<style scoped>\n",
       "    .dataframe tbody tr th:only-of-type {\n",
       "        vertical-align: middle;\n",
       "    }\n",
       "\n",
       "    .dataframe tbody tr th {\n",
       "        vertical-align: top;\n",
       "    }\n",
       "\n",
       "    .dataframe thead th {\n",
       "        text-align: right;\n",
       "    }\n",
       "</style>\n",
       "<table border=\"1\" class=\"dataframe\">\n",
       "  <thead>\n",
       "    <tr style=\"text-align: right;\">\n",
       "      <th></th>\n",
       "      <th>Number of injury per Athlete</th>\n",
       "    </tr>\n",
       "    <tr>\n",
       "      <th>Athlete ID</th>\n",
       "      <th></th>\n",
       "    </tr>\n",
       "  </thead>\n",
       "  <tbody>\n",
       "    <tr>\n",
       "      <th>0</th>\n",
       "      <td>7</td>\n",
       "    </tr>\n",
       "    <tr>\n",
       "      <th>1</th>\n",
       "      <td>2</td>\n",
       "    </tr>\n",
       "    <tr>\n",
       "      <th>2</th>\n",
       "      <td>4</td>\n",
       "    </tr>\n",
       "    <tr>\n",
       "      <th>3</th>\n",
       "      <td>3</td>\n",
       "    </tr>\n",
       "    <tr>\n",
       "      <th>4</th>\n",
       "      <td>7</td>\n",
       "    </tr>\n",
       "  </tbody>\n",
       "</table>\n",
       "</div>"
      ],
      "text/plain": [
       "            Number of injury per Athlete\n",
       "Athlete ID                              \n",
       "0                                      7\n",
       "1                                      2\n",
       "2                                      4\n",
       "3                                      3\n",
       "4                                      7"
      ]
     },
     "execution_count": 29,
     "metadata": {},
     "output_type": "execute_result"
    }
   ],
   "source": [
    "df_ath_injury.head()"
   ]
  },
  {
   "cell_type": "code",
   "execution_count": 30,
   "id": "c076bda5",
   "metadata": {},
   "outputs": [
    {
     "data": {
      "text/html": [
       "<div>\n",
       "<style scoped>\n",
       "    .dataframe tbody tr th:only-of-type {\n",
       "        vertical-align: middle;\n",
       "    }\n",
       "\n",
       "    .dataframe tbody tr th {\n",
       "        vertical-align: top;\n",
       "    }\n",
       "\n",
       "    .dataframe thead th {\n",
       "        text-align: right;\n",
       "    }\n",
       "</style>\n",
       "<table border=\"1\" class=\"dataframe\">\n",
       "  <thead>\n",
       "    <tr style=\"text-align: right;\">\n",
       "      <th></th>\n",
       "      <th>Number of injury per Athlete</th>\n",
       "    </tr>\n",
       "  </thead>\n",
       "  <tbody>\n",
       "    <tr>\n",
       "      <th>count</th>\n",
       "      <td>74.000000</td>\n",
       "    </tr>\n",
       "    <tr>\n",
       "      <th>mean</th>\n",
       "      <td>7.770270</td>\n",
       "    </tr>\n",
       "    <tr>\n",
       "      <th>std</th>\n",
       "      <td>8.281928</td>\n",
       "    </tr>\n",
       "    <tr>\n",
       "      <th>min</th>\n",
       "      <td>0.000000</td>\n",
       "    </tr>\n",
       "    <tr>\n",
       "      <th>25%</th>\n",
       "      <td>2.000000</td>\n",
       "    </tr>\n",
       "    <tr>\n",
       "      <th>50%</th>\n",
       "      <td>5.000000</td>\n",
       "    </tr>\n",
       "    <tr>\n",
       "      <th>75%</th>\n",
       "      <td>11.500000</td>\n",
       "    </tr>\n",
       "    <tr>\n",
       "      <th>max</th>\n",
       "      <td>35.000000</td>\n",
       "    </tr>\n",
       "  </tbody>\n",
       "</table>\n",
       "</div>"
      ],
      "text/plain": [
       "       Number of injury per Athlete\n",
       "count                     74.000000\n",
       "mean                       7.770270\n",
       "std                        8.281928\n",
       "min                        0.000000\n",
       "25%                        2.000000\n",
       "50%                        5.000000\n",
       "75%                       11.500000\n",
       "max                       35.000000"
      ]
     },
     "execution_count": 30,
     "metadata": {},
     "output_type": "execute_result"
    }
   ],
   "source": [
    "df_ath_injury.describe()"
   ]
  },
  {
   "cell_type": "code",
   "execution_count": 31,
   "id": "cf2d508e",
   "metadata": {},
   "outputs": [
    {
     "data": {
      "image/png": "[encoded data removed]",
      "text/plain": [
       "<Figure size 432x288 with 1 Axes>"
      ]
     },
     "metadata": {
      "needs_background": "light"
     },
     "output_type": "display_data"
    }
   ],
   "source": [
    "plt.plot(df_ath_injury, color = 'red')\n",
    "# plt.title('Number of injury per Athlete')\n",
    "plt.ylabel('Athlete ID')\n",
    "plt.xlabel('Number of injury per Athlete')\n",
    "plt.show()"
   ]
  },
  {
   "cell_type": "code",
   "execution_count": null,
   "id": "22362910",
   "metadata": {},
   "outputs": [],
   "source": []
  }
 ],
 "metadata": {
  "kernelspec": {
   "display_name": "Python 3",
   "language": "python",
   "name": "python3"
  },
  "language_info": {
   "codemirror_mode": {
    "name": "ipython",
    "version": 3
   },
   "file_extension": ".py",
   "mimetype": "text/x-python",
   "name": "python",
   "nbconvert_exporter": "python",
   "pygments_lexer": "ipython3",
   "version": "3.8.8"
  }
 },
 "nbformat": 4,
 "nbformat_minor": 5
}
