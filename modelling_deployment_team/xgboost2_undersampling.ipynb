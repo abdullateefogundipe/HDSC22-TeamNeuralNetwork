{
 "cells": [
  {
   "cell_type": "markdown",
   "id": "2fcc0d97-0f82-4dbd-8a7e-65f0f6f03f81",
   "metadata": {},
   "source": [
    "#### Model with the unsampled dataset"
   ]
  },
  {
   "cell_type": "code",
   "execution_count": 1,
   "id": "7a5e67c2-5aa4-490a-9662-0100f630f0eb",
   "metadata": {},
   "outputs": [],
   "source": [
    "import pandas as pd\n",
    "import numpy as np\n",
    "import matplotlib.pyplot as plt\n",
    "import seaborn as sns\n",
    "from numpy import loadtxt\n",
    "from xgboost import XGBClassifier\n",
    "from sklearn.metrics import accuracy_score\n",
    "from sklearn.metrics import roc_auc_score\n",
    "import sklearn.metrics as metrics\n",
    "from sklearn.model_selection import cross_val_score\n",
    "from sklearn.metrics import confusion_matrix\n",
    "from sklearn.calibration import CalibratedClassifierCV, calibration_curve\n",
    "from sklearn.model_selection import train_test_split\n",
    "from typing import Dict, List, Tuple, Optional\n",
    "import math\n",
    "from imblearn.under_sampling import RandomUnderSampler\n",
    "\n",
    "\n",
    "%matplotlib inline\n",
    "%load_ext watermark\n",
    "%load_ext autoreload\n",
    "%autoreload 2\n",
    "%config InlineBackend.figure_format='retina'"
   ]
  },
  {
   "cell_type": "code",
   "execution_count": 2,
   "id": "289769ef-1298-456c-97d6-4398868f9f72",
   "metadata": {},
   "outputs": [],
   "source": [
    "df = pd.read_csv('day_approach_maskedID_timeseries.csv')"
   ]
  },
  {
   "cell_type": "code",
   "execution_count": 3,
   "id": "1975c177-6f8f-4fc9-86f3-30146b0b8eb2",
   "metadata": {},
   "outputs": [
    {
     "data": {
      "text/html": [
       "<div>\n",
       "<style scoped>\n",
       "    .dataframe tbody tr th:only-of-type {\n",
       "        vertical-align: middle;\n",
       "    }\n",
       "\n",
       "    .dataframe tbody tr th {\n",
       "        vertical-align: top;\n",
       "    }\n",
       "\n",
       "    .dataframe thead th {\n",
       "        text-align: right;\n",
       "    }\n",
       "</style>\n",
       "<table border=\"1\" class=\"dataframe\">\n",
       "  <thead>\n",
       "    <tr style=\"text-align: right;\">\n",
       "      <th></th>\n",
       "      <th>nr. sessions</th>\n",
       "      <th>total km</th>\n",
       "      <th>km Z3-4</th>\n",
       "      <th>km Z5-T1-T2</th>\n",
       "      <th>km sprinting</th>\n",
       "      <th>strength training</th>\n",
       "      <th>hours alternative</th>\n",
       "      <th>perceived exertion</th>\n",
       "      <th>perceived trainingSuccess</th>\n",
       "      <th>perceived recovery</th>\n",
       "      <th>...</th>\n",
       "      <th>km Z5-T1-T2.6</th>\n",
       "      <th>km sprinting.6</th>\n",
       "      <th>strength training.6</th>\n",
       "      <th>hours alternative.6</th>\n",
       "      <th>perceived exertion.6</th>\n",
       "      <th>perceived trainingSuccess.6</th>\n",
       "      <th>perceived recovery.6</th>\n",
       "      <th>Athlete ID</th>\n",
       "      <th>injury</th>\n",
       "      <th>Date</th>\n",
       "    </tr>\n",
       "  </thead>\n",
       "  <tbody>\n",
       "    <tr>\n",
       "      <th>0</th>\n",
       "      <td>1.0</td>\n",
       "      <td>5.8</td>\n",
       "      <td>0.0</td>\n",
       "      <td>0.6</td>\n",
       "      <td>1.2</td>\n",
       "      <td>0.0</td>\n",
       "      <td>0.00</td>\n",
       "      <td>0.11</td>\n",
       "      <td>0.00</td>\n",
       "      <td>0.18</td>\n",
       "      <td>...</td>\n",
       "      <td>0.0</td>\n",
       "      <td>0.0</td>\n",
       "      <td>0.0</td>\n",
       "      <td>1.0</td>\n",
       "      <td>0.10</td>\n",
       "      <td>0.00</td>\n",
       "      <td>0.15</td>\n",
       "      <td>0</td>\n",
       "      <td>0</td>\n",
       "      <td>0</td>\n",
       "    </tr>\n",
       "    <tr>\n",
       "      <th>1</th>\n",
       "      <td>0.0</td>\n",
       "      <td>0.0</td>\n",
       "      <td>0.0</td>\n",
       "      <td>0.0</td>\n",
       "      <td>0.0</td>\n",
       "      <td>0.0</td>\n",
       "      <td>0.00</td>\n",
       "      <td>-0.01</td>\n",
       "      <td>-0.01</td>\n",
       "      <td>-0.01</td>\n",
       "      <td>...</td>\n",
       "      <td>0.5</td>\n",
       "      <td>1.2</td>\n",
       "      <td>0.0</td>\n",
       "      <td>0.0</td>\n",
       "      <td>0.10</td>\n",
       "      <td>0.00</td>\n",
       "      <td>0.17</td>\n",
       "      <td>0</td>\n",
       "      <td>0</td>\n",
       "      <td>1</td>\n",
       "    </tr>\n",
       "    <tr>\n",
       "      <th>2</th>\n",
       "      <td>1.0</td>\n",
       "      <td>0.0</td>\n",
       "      <td>0.0</td>\n",
       "      <td>0.0</td>\n",
       "      <td>0.0</td>\n",
       "      <td>1.0</td>\n",
       "      <td>0.00</td>\n",
       "      <td>0.10</td>\n",
       "      <td>0.00</td>\n",
       "      <td>0.17</td>\n",
       "      <td>...</td>\n",
       "      <td>0.0</td>\n",
       "      <td>0.0</td>\n",
       "      <td>0.0</td>\n",
       "      <td>0.0</td>\n",
       "      <td>-0.01</td>\n",
       "      <td>-0.01</td>\n",
       "      <td>-0.01</td>\n",
       "      <td>0</td>\n",
       "      <td>0</td>\n",
       "      <td>2</td>\n",
       "    </tr>\n",
       "    <tr>\n",
       "      <th>3</th>\n",
       "      <td>0.0</td>\n",
       "      <td>0.0</td>\n",
       "      <td>0.0</td>\n",
       "      <td>0.0</td>\n",
       "      <td>0.0</td>\n",
       "      <td>0.0</td>\n",
       "      <td>0.00</td>\n",
       "      <td>-0.01</td>\n",
       "      <td>-0.01</td>\n",
       "      <td>-0.01</td>\n",
       "      <td>...</td>\n",
       "      <td>0.0</td>\n",
       "      <td>0.0</td>\n",
       "      <td>1.0</td>\n",
       "      <td>0.0</td>\n",
       "      <td>0.10</td>\n",
       "      <td>0.00</td>\n",
       "      <td>0.17</td>\n",
       "      <td>0</td>\n",
       "      <td>0</td>\n",
       "      <td>3</td>\n",
       "    </tr>\n",
       "    <tr>\n",
       "      <th>4</th>\n",
       "      <td>1.0</td>\n",
       "      <td>0.0</td>\n",
       "      <td>0.0</td>\n",
       "      <td>0.0</td>\n",
       "      <td>0.0</td>\n",
       "      <td>0.0</td>\n",
       "      <td>1.08</td>\n",
       "      <td>0.08</td>\n",
       "      <td>0.00</td>\n",
       "      <td>0.18</td>\n",
       "      <td>...</td>\n",
       "      <td>0.0</td>\n",
       "      <td>0.0</td>\n",
       "      <td>0.0</td>\n",
       "      <td>0.0</td>\n",
       "      <td>0.11</td>\n",
       "      <td>0.00</td>\n",
       "      <td>0.17</td>\n",
       "      <td>0</td>\n",
       "      <td>0</td>\n",
       "      <td>4</td>\n",
       "    </tr>\n",
       "  </tbody>\n",
       "</table>\n",
       "<p>5 rows × 73 columns</p>\n",
       "</div>"
      ],
      "text/plain": [
       "   nr. sessions  total km  km Z3-4  km Z5-T1-T2  km sprinting  \\\n",
       "0           1.0       5.8      0.0          0.6           1.2   \n",
       "1           0.0       0.0      0.0          0.0           0.0   \n",
       "2           1.0       0.0      0.0          0.0           0.0   \n",
       "3           0.0       0.0      0.0          0.0           0.0   \n",
       "4           1.0       0.0      0.0          0.0           0.0   \n",
       "\n",
       "   strength training  hours alternative  perceived exertion  \\\n",
       "0                0.0               0.00                0.11   \n",
       "1                0.0               0.00               -0.01   \n",
       "2                1.0               0.00                0.10   \n",
       "3                0.0               0.00               -0.01   \n",
       "4                0.0               1.08                0.08   \n",
       "\n",
       "   perceived trainingSuccess  perceived recovery  ...  km Z5-T1-T2.6  \\\n",
       "0                       0.00                0.18  ...            0.0   \n",
       "1                      -0.01               -0.01  ...            0.5   \n",
       "2                       0.00                0.17  ...            0.0   \n",
       "3                      -0.01               -0.01  ...            0.0   \n",
       "4                       0.00                0.18  ...            0.0   \n",
       "\n",
       "   km sprinting.6  strength training.6  hours alternative.6  \\\n",
       "0             0.0                  0.0                  1.0   \n",
       "1             1.2                  0.0                  0.0   \n",
       "2             0.0                  0.0                  0.0   \n",
       "3             0.0                  1.0                  0.0   \n",
       "4             0.0                  0.0                  0.0   \n",
       "\n",
       "   perceived exertion.6  perceived trainingSuccess.6  perceived recovery.6  \\\n",
       "0                  0.10                         0.00                  0.15   \n",
       "1                  0.10                         0.00                  0.17   \n",
       "2                 -0.01                        -0.01                 -0.01   \n",
       "3                  0.10                         0.00                  0.17   \n",
       "4                  0.11                         0.00                  0.17   \n",
       "\n",
       "   Athlete ID  injury  Date  \n",
       "0           0       0     0  \n",
       "1           0       0     1  \n",
       "2           0       0     2  \n",
       "3           0       0     3  \n",
       "4           0       0     4  \n",
       "\n",
       "[5 rows x 73 columns]"
      ]
     },
     "execution_count": 3,
     "metadata": {},
     "output_type": "execute_result"
    }
   ],
   "source": [
    "df.head(5)"
   ]
  },
  {
   "cell_type": "code",
   "execution_count": 4,
   "id": "59743413-9359-48b1-ba1d-73d2938fc1c6",
   "metadata": {},
   "outputs": [
    {
     "name": "stdout",
     "output_type": "stream",
     "text": [
      "(42766, 73)\n"
     ]
    }
   ],
   "source": [
    "print(df.shape)"
   ]
  },
  {
   "cell_type": "code",
   "execution_count": 5,
   "id": "c1433674-38e0-4982-9cb0-39c2f976f6d6",
   "metadata": {},
   "outputs": [
    {
     "name": "stdout",
     "output_type": "stream",
     "text": [
      "<class 'pandas.core.frame.DataFrame'>\n",
      "RangeIndex: 42766 entries, 0 to 42765\n",
      "Data columns (total 73 columns):\n",
      " #   Column                       Non-Null Count  Dtype  \n",
      "---  ------                       --------------  -----  \n",
      " 0   nr. sessions                 42766 non-null  float64\n",
      " 1   total km                     42766 non-null  float64\n",
      " 2   km Z3-4                      42766 non-null  float64\n",
      " 3   km Z5-T1-T2                  42766 non-null  float64\n",
      " 4   km sprinting                 42766 non-null  float64\n",
      " 5   strength training            42766 non-null  float64\n",
      " 6   hours alternative            42766 non-null  float64\n",
      " 7   perceived exertion           42766 non-null  float64\n",
      " 8   perceived trainingSuccess    42766 non-null  float64\n",
      " 9   perceived recovery           42766 non-null  float64\n",
      " 10  nr. sessions.1               42766 non-null  float64\n",
      " 11  total km.1                   42766 non-null  float64\n",
      " 12  km Z3-4.1                    42766 non-null  float64\n",
      " 13  km Z5-T1-T2.1                42766 non-null  float64\n",
      " 14  km sprinting.1               42766 non-null  float64\n",
      " 15  strength training.1          42766 non-null  float64\n",
      " 16  hours alternative.1          42766 non-null  float64\n",
      " 17  perceived exertion.1         42766 non-null  float64\n",
      " 18  perceived trainingSuccess.1  42766 non-null  float64\n",
      " 19  perceived recovery.1         42766 non-null  float64\n",
      " 20  nr. sessions.2               42766 non-null  float64\n",
      " 21  total km.2                   42766 non-null  float64\n",
      " 22  km Z3-4.2                    42766 non-null  float64\n",
      " 23  km Z5-T1-T2.2                42766 non-null  float64\n",
      " 24  km sprinting.2               42766 non-null  float64\n",
      " 25  strength training.2          42766 non-null  float64\n",
      " 26  hours alternative.2          42766 non-null  float64\n",
      " 27  perceived exertion.2         42766 non-null  float64\n",
      " 28  perceived trainingSuccess.2  42766 non-null  float64\n",
      " 29  perceived recovery.2         42766 non-null  float64\n",
      " 30  nr. sessions.3               42766 non-null  float64\n",
      " 31  total km.3                   42766 non-null  float64\n",
      " 32  km Z3-4.3                    42766 non-null  float64\n",
      " 33  km Z5-T1-T2.3                42766 non-null  float64\n",
      " 34  km sprinting.3               42766 non-null  float64\n",
      " 35  strength training.3          42766 non-null  float64\n",
      " 36  hours alternative.3          42766 non-null  float64\n",
      " 37  perceived exertion.3         42766 non-null  float64\n",
      " 38  perceived trainingSuccess.3  42766 non-null  float64\n",
      " 39  perceived recovery.3         42766 non-null  float64\n",
      " 40  nr. sessions.4               42766 non-null  float64\n",
      " 41  total km.4                   42766 non-null  float64\n",
      " 42  km Z3-4.4                    42766 non-null  float64\n",
      " 43  km Z5-T1-T2.4                42766 non-null  float64\n",
      " 44  km sprinting.4               42766 non-null  float64\n",
      " 45  strength training.4          42766 non-null  float64\n",
      " 46  hours alternative.4          42766 non-null  float64\n",
      " 47  perceived exertion.4         42766 non-null  float64\n",
      " 48  perceived trainingSuccess.4  42766 non-null  float64\n",
      " 49  perceived recovery.4         42766 non-null  float64\n",
      " 50  nr. sessions.5               42766 non-null  float64\n",
      " 51  total km.5                   42766 non-null  float64\n",
      " 52  km Z3-4.5                    42766 non-null  float64\n",
      " 53  km Z5-T1-T2.5                42766 non-null  float64\n",
      " 54  km sprinting.5               42766 non-null  float64\n",
      " 55  strength training.5          42766 non-null  float64\n",
      " 56  hours alternative.5          42766 non-null  float64\n",
      " 57  perceived exertion.5         42766 non-null  float64\n",
      " 58  perceived trainingSuccess.5  42766 non-null  float64\n",
      " 59  perceived recovery.5         42766 non-null  float64\n",
      " 60  nr. sessions.6               42766 non-null  float64\n",
      " 61  total km.6                   42766 non-null  float64\n",
      " 62  km Z3-4.6                    42766 non-null  float64\n",
      " 63  km Z5-T1-T2.6                42766 non-null  float64\n",
      " 64  km sprinting.6               42766 non-null  float64\n",
      " 65  strength training.6          42766 non-null  float64\n",
      " 66  hours alternative.6          42766 non-null  float64\n",
      " 67  perceived exertion.6         42766 non-null  float64\n",
      " 68  perceived trainingSuccess.6  42766 non-null  float64\n",
      " 69  perceived recovery.6         42766 non-null  float64\n",
      " 70  Athlete ID                   42766 non-null  int64  \n",
      " 71  injury                       42766 non-null  int64  \n",
      " 72  Date                         42766 non-null  int64  \n",
      "dtypes: float64(70), int64(3)\n",
      "memory usage: 23.8 MB\n"
     ]
    }
   ],
   "source": [
    "df.info()"
   ]
  },
  {
   "cell_type": "code",
   "execution_count": 6,
   "id": "83c88096-fab7-4ec1-b475-22a6310e9b51",
   "metadata": {},
   "outputs": [
    {
     "data": {
      "text/plain": [
       "nr. sessions                   0\n",
       "total km                       0\n",
       "km Z3-4                        0\n",
       "km Z5-T1-T2                    0\n",
       "km sprinting                   0\n",
       "                              ..\n",
       "perceived trainingSuccess.6    0\n",
       "perceived recovery.6           0\n",
       "Athlete ID                     0\n",
       "injury                         0\n",
       "Date                           0\n",
       "Length: 73, dtype: int64"
      ]
     },
     "execution_count": 6,
     "metadata": {},
     "output_type": "execute_result"
    }
   ],
   "source": [
    "df.isnull().sum()"
   ]
  },
  {
   "cell_type": "code",
   "execution_count": 7,
   "id": "5450f53a-8aea-446f-bdad-88ffaecbefc7",
   "metadata": {},
   "outputs": [],
   "source": [
    "df.drop(['Date', 'Athlete ID'], axis = 1, inplace = True)"
   ]
  },
  {
   "cell_type": "code",
   "execution_count": 8,
   "id": "a7490f46-86fe-4c5f-8200-9ebe45e7a7a9",
   "metadata": {},
   "outputs": [
    {
     "data": {
      "text/plain": [
       "Index(['nr. sessions', 'total km', 'km Z3-4', 'km Z5-T1-T2', 'km sprinting',\n",
       "       'strength training', 'hours alternative', 'perceived exertion',\n",
       "       'perceived trainingSuccess', 'perceived recovery', 'nr. sessions.1',\n",
       "       'total km.1', 'km Z3-4.1', 'km Z5-T1-T2.1', 'km sprinting.1',\n",
       "       'strength training.1', 'hours alternative.1', 'perceived exertion.1',\n",
       "       'perceived trainingSuccess.1', 'perceived recovery.1', 'nr. sessions.2',\n",
       "       'total km.2', 'km Z3-4.2', 'km Z5-T1-T2.2', 'km sprinting.2',\n",
       "       'strength training.2', 'hours alternative.2', 'perceived exertion.2',\n",
       "       'perceived trainingSuccess.2', 'perceived recovery.2', 'nr. sessions.3',\n",
       "       'total km.3', 'km Z3-4.3', 'km Z5-T1-T2.3', 'km sprinting.3',\n",
       "       'strength training.3', 'hours alternative.3', 'perceived exertion.3',\n",
       "       'perceived trainingSuccess.3', 'perceived recovery.3', 'nr. sessions.4',\n",
       "       'total km.4', 'km Z3-4.4', 'km Z5-T1-T2.4', 'km sprinting.4',\n",
       "       'strength training.4', 'hours alternative.4', 'perceived exertion.4',\n",
       "       'perceived trainingSuccess.4', 'perceived recovery.4', 'nr. sessions.5',\n",
       "       'total km.5', 'km Z3-4.5', 'km Z5-T1-T2.5', 'km sprinting.5',\n",
       "       'strength training.5', 'hours alternative.5', 'perceived exertion.5',\n",
       "       'perceived trainingSuccess.5', 'perceived recovery.5', 'nr. sessions.6',\n",
       "       'total km.6', 'km Z3-4.6', 'km Z5-T1-T2.6', 'km sprinting.6',\n",
       "       'strength training.6', 'hours alternative.6', 'perceived exertion.6',\n",
       "       'perceived trainingSuccess.6', 'perceived recovery.6', 'injury'],\n",
       "      dtype='object')"
      ]
     },
     "execution_count": 8,
     "metadata": {},
     "output_type": "execute_result"
    }
   ],
   "source": [
    "df.columns"
   ]
  },
  {
   "cell_type": "code",
   "execution_count": 9,
   "id": "c447ca69-194a-47de-98fd-19c8cfef8d09",
   "metadata": {},
   "outputs": [],
   "source": [
    "df['nr. sessions'] = df['nr. sessions'].astype(int)"
   ]
  },
  {
   "cell_type": "code",
   "execution_count": 10,
   "id": "0058908c-d239-426c-a52e-106d2876a26a",
   "metadata": {},
   "outputs": [
    {
     "name": "stdout",
     "output_type": "stream",
     "text": [
      "<class 'pandas.core.frame.DataFrame'>\n",
      "RangeIndex: 42766 entries, 0 to 42765\n",
      "Data columns (total 71 columns):\n",
      " #   Column                       Non-Null Count  Dtype  \n",
      "---  ------                       --------------  -----  \n",
      " 0   nr. sessions                 42766 non-null  int32  \n",
      " 1   total km                     42766 non-null  float64\n",
      " 2   km Z3-4                      42766 non-null  float64\n",
      " 3   km Z5-T1-T2                  42766 non-null  float64\n",
      " 4   km sprinting                 42766 non-null  float64\n",
      " 5   strength training            42766 non-null  float64\n",
      " 6   hours alternative            42766 non-null  float64\n",
      " 7   perceived exertion           42766 non-null  float64\n",
      " 8   perceived trainingSuccess    42766 non-null  float64\n",
      " 9   perceived recovery           42766 non-null  float64\n",
      " 10  nr. sessions.1               42766 non-null  float64\n",
      " 11  total km.1                   42766 non-null  float64\n",
      " 12  km Z3-4.1                    42766 non-null  float64\n",
      " 13  km Z5-T1-T2.1                42766 non-null  float64\n",
      " 14  km sprinting.1               42766 non-null  float64\n",
      " 15  strength training.1          42766 non-null  float64\n",
      " 16  hours alternative.1          42766 non-null  float64\n",
      " 17  perceived exertion.1         42766 non-null  float64\n",
      " 18  perceived trainingSuccess.1  42766 non-null  float64\n",
      " 19  perceived recovery.1         42766 non-null  float64\n",
      " 20  nr. sessions.2               42766 non-null  float64\n",
      " 21  total km.2                   42766 non-null  float64\n",
      " 22  km Z3-4.2                    42766 non-null  float64\n",
      " 23  km Z5-T1-T2.2                42766 non-null  float64\n",
      " 24  km sprinting.2               42766 non-null  float64\n",
      " 25  strength training.2          42766 non-null  float64\n",
      " 26  hours alternative.2          42766 non-null  float64\n",
      " 27  perceived exertion.2         42766 non-null  float64\n",
      " 28  perceived trainingSuccess.2  42766 non-null  float64\n",
      " 29  perceived recovery.2         42766 non-null  float64\n",
      " 30  nr. sessions.3               42766 non-null  float64\n",
      " 31  total km.3                   42766 non-null  float64\n",
      " 32  km Z3-4.3                    42766 non-null  float64\n",
      " 33  km Z5-T1-T2.3                42766 non-null  float64\n",
      " 34  km sprinting.3               42766 non-null  float64\n",
      " 35  strength training.3          42766 non-null  float64\n",
      " 36  hours alternative.3          42766 non-null  float64\n",
      " 37  perceived exertion.3         42766 non-null  float64\n",
      " 38  perceived trainingSuccess.3  42766 non-null  float64\n",
      " 39  perceived recovery.3         42766 non-null  float64\n",
      " 40  nr. sessions.4               42766 non-null  float64\n",
      " 41  total km.4                   42766 non-null  float64\n",
      " 42  km Z3-4.4                    42766 non-null  float64\n",
      " 43  km Z5-T1-T2.4                42766 non-null  float64\n",
      " 44  km sprinting.4               42766 non-null  float64\n",
      " 45  strength training.4          42766 non-null  float64\n",
      " 46  hours alternative.4          42766 non-null  float64\n",
      " 47  perceived exertion.4         42766 non-null  float64\n",
      " 48  perceived trainingSuccess.4  42766 non-null  float64\n",
      " 49  perceived recovery.4         42766 non-null  float64\n",
      " 50  nr. sessions.5               42766 non-null  float64\n",
      " 51  total km.5                   42766 non-null  float64\n",
      " 52  km Z3-4.5                    42766 non-null  float64\n",
      " 53  km Z5-T1-T2.5                42766 non-null  float64\n",
      " 54  km sprinting.5               42766 non-null  float64\n",
      " 55  strength training.5          42766 non-null  float64\n",
      " 56  hours alternative.5          42766 non-null  float64\n",
      " 57  perceived exertion.5         42766 non-null  float64\n",
      " 58  perceived trainingSuccess.5  42766 non-null  float64\n",
      " 59  perceived recovery.5         42766 non-null  float64\n",
      " 60  nr. sessions.6               42766 non-null  float64\n",
      " 61  total km.6                   42766 non-null  float64\n",
      " 62  km Z3-4.6                    42766 non-null  float64\n",
      " 63  km Z5-T1-T2.6                42766 non-null  float64\n",
      " 64  km sprinting.6               42766 non-null  float64\n",
      " 65  strength training.6          42766 non-null  float64\n",
      " 66  hours alternative.6          42766 non-null  float64\n",
      " 67  perceived exertion.6         42766 non-null  float64\n",
      " 68  perceived trainingSuccess.6  42766 non-null  float64\n",
      " 69  perceived recovery.6         42766 non-null  float64\n",
      " 70  injury                       42766 non-null  int64  \n",
      "dtypes: float64(69), int32(1), int64(1)\n",
      "memory usage: 23.0 MB\n"
     ]
    }
   ],
   "source": [
    "df.info()"
   ]
  },
  {
   "cell_type": "code",
   "execution_count": 11,
   "id": "eeddd1eb-95a3-4825-9589-ee367f317c1a",
   "metadata": {},
   "outputs": [
    {
     "name": "stdout",
     "output_type": "stream",
     "text": [
      "2\n",
      "0    42183\n",
      "1      583\n",
      "Name: injury, dtype: int64\n"
     ]
    }
   ],
   "source": [
    "print(df['injury'].nunique())\n",
    "print(df.injury.value_counts())"
   ]
  },
  {
   "cell_type": "raw",
   "id": "694fc962-b384-4f81-a636-3952fa1e2f2c",
   "metadata": {},
   "source": [
    "We can see that the dataset is imbalance, over 90% of have value of 0 "
   ]
  },
  {
   "cell_type": "code",
   "execution_count": 12,
   "id": "52776cd0-e794-493c-b8e9-75c031bdb948",
   "metadata": {},
   "outputs": [],
   "source": [
    "x= ['nr. sessions', 'total km', 'km Z3-4', 'km Z5-T1-T2', 'km sprinting',\n",
    "       'strength training', 'hours alternative', 'perceived exertion',\n",
    "       'perceived trainingSuccess', 'perceived recovery', 'nr. sessions.1',\n",
    "       'total km.1', 'km Z3-4.1', 'km Z5-T1-T2.1', 'km sprinting.1',\n",
    "       'strength training.1', 'hours alternative.1', 'perceived exertion.1',\n",
    "       'perceived trainingSuccess.1', 'perceived recovery.1', 'nr. sessions.2',\n",
    "       'total km.2', 'km Z3-4.2', 'km Z5-T1-T2.2', 'km sprinting.2',\n",
    "       'strength training.2', 'hours alternative.2', 'perceived exertion.2',\n",
    "       'perceived trainingSuccess.2', 'perceived recovery.2', 'nr. sessions.3',\n",
    "       'total km.3', 'km Z3-4.3', 'km Z5-T1-T2.3', 'km sprinting.3',\n",
    "       'strength training.3', 'hours alternative.3', 'perceived exertion.3',\n",
    "       'perceived trainingSuccess.3', 'perceived recovery.3', 'nr. sessions.4',\n",
    "       'total km.4', 'km Z3-4.4', 'km Z5-T1-T2.4', 'km sprinting.4',\n",
    "       'strength training.4', 'hours alternative.4', 'perceived exertion.4',\n",
    "       'perceived trainingSuccess.4', 'perceived recovery.4', 'nr. sessions.5',\n",
    "       'total km.5', 'km Z3-4.5', 'km Z5-T1-T2.5', 'km sprinting.5',\n",
    "       'strength training.5', 'hours alternative.5', 'perceived exertion.5',\n",
    "       'perceived trainingSuccess.5', 'perceived recovery.5', 'nr. sessions.6',\n",
    "       'total km.6', 'km Z3-4.6', 'km Z5-T1-T2.6', 'km sprinting.6',\n",
    "       'strength training.6', 'hours alternative.6', 'perceived exertion.6',\n",
    "       'perceived trainingSuccess.6', 'perceived recovery.6']\n",
    "y= 'injury'"
   ]
  },
  {
   "cell_type": "code",
   "execution_count": 13,
   "id": "666630c4-0af6-4a28-8f21-00841e8dc55b",
   "metadata": {},
   "outputs": [
    {
     "name": "stdout",
     "output_type": "stream",
     "text": [
      "train shape:  (30791, 71)\n",
      "validation shape:  (7698, 71)\n",
      "test shape:  (4277, 71)\n"
     ]
    }
   ],
   "source": [
    "#splitting the dataet into training, validation and test set\n",
    "test_size = 0.1\n",
    "val_size = 0.2\n",
    "\n",
    "df_train, df_test = train_test_split( df,test_size=test_size, random_state=0,stratify=df['injury'])\n",
    "\n",
    "df_train, df_val = train_test_split(df_train,test_size=val_size,random_state=0,stratify=df_train['injury'])\n",
    "\n",
    "print('train shape: ', df_train.shape)\n",
    "print('validation shape: ', df_val.shape)\n",
    "print('test shape: ', df_test.shape)\n"
   ]
  },
  {
   "cell_type": "code",
   "execution_count": 14,
   "id": "d6fe8623-a15d-481f-8cfb-3e793def441a",
   "metadata": {},
   "outputs": [
    {
     "data": {
      "text/plain": [
       "0    30371\n",
       "1      420\n",
       "Name: injury, dtype: int64"
      ]
     },
     "execution_count": 14,
     "metadata": {},
     "output_type": "execute_result"
    }
   ],
   "source": [
    "df_train.injury.value_counts()"
   ]
  },
  {
   "cell_type": "code",
   "execution_count": 15,
   "id": "d4cac842-5c69-4ef3-9d39-44bf68f229c0",
   "metadata": {},
   "outputs": [],
   "source": [
    "x_train = df_train.drop(columns = ['injury'], errors='ignore')\n",
    "y_train = df_train['injury']"
   ]
  },
  {
   "cell_type": "code",
   "execution_count": 16,
   "id": "3a8eed6a-1a04-4a3d-b58f-ab0f95d5e6a3",
   "metadata": {},
   "outputs": [
    {
     "data": {
      "text/plain": [
       "0    420\n",
       "1    420\n",
       "Name: injury, dtype: int64"
      ]
     },
     "execution_count": 16,
     "metadata": {},
     "output_type": "execute_result"
    }
   ],
   "source": [
    "# using RandomUnderSampling only on the training data to handle this.\n",
    "\n",
    "undersample = RandomUnderSampler(sampling_strategy='majority')\n",
    "x_train_balanced, y_train_balanced = undersample.fit_sample(x_train, y_train)\n",
    "#value count our y_train_balanced to cross check the effect of smote on the dataset\n",
    "y_train_balanced.value_counts()"
   ]
  },
  {
   "cell_type": "code",
   "execution_count": 17,
   "id": "1dbfd466-a35e-4a8d-ab40-bd84e53d0bc3",
   "metadata": {},
   "outputs": [],
   "source": [
    "#Standard scaler for the training set\n",
    "from sklearn.preprocessing import StandardScaler\n",
    "scaler = StandardScaler()\n",
    "normalized_train_df = scaler.fit_transform(x_train_balanced)\n",
    "normalized_train_df = pd.DataFrame(normalized_train_df, columns = x_train_balanced.columns)\n",
    "\n",
    "\n",
    "#adding the y_train_balanced column back\n",
    "normalized_train_df['injury'] = y_train_balanced"
   ]
  },
  {
   "cell_type": "code",
   "execution_count": 18,
   "id": "b01287f7-e5cc-4997-8e64-f8980749f190",
   "metadata": {},
   "outputs": [
    {
     "data": {
      "text/plain": [
       "XGBClassifier(base_score=0.5, booster='gbtree', callbacks=None,\n",
       "              colsample_bylevel=1, colsample_bynode=1, colsample_bytree=1,\n",
       "              early_stopping_rounds=None, enable_categorical=False,\n",
       "              eval_metric='auc', gamma=0, gpu_id=-1, grow_policy='depthwise',\n",
       "              importance_type='total_gain', interaction_constraints='',\n",
       "              learning_rate=0.01, max_bin=256, max_cat_to_onehot=4,\n",
       "              max_delta_step=0, max_depth=6, max_leaves=0, min_child_weight=1,\n",
       "              missing=nan, monotone_constraints='()', n_estimators=100,\n",
       "              n_jobs=0, num_parallel_tree=1, predictor='auto', random_state=0,\n",
       "              reg_alpha=0, reg_lambda=1, ...)"
      ]
     },
     "execution_count": 18,
     "metadata": {},
     "output_type": "execute_result"
    }
   ],
   "source": [
    "# training the model\n",
    "model_xgb = XGBClassifier( max_depth = 6, learning_rate = 0.01, importance_type = 'total_gain', eval_metric = 'auc' , verbosity=1)\n",
    "\n",
    "# fitting the model\n",
    "model_xgb.fit(normalized_train_df[x].values, normalized_train_df[y].values)"
   ]
  },
  {
   "cell_type": "code",
   "execution_count": 19,
   "id": "b01244cc-16b8-441f-abb4-faa3fda63b16",
   "metadata": {},
   "outputs": [],
   "source": [
    "def compute_binary_score(\n",
    "    y_true: np.ndarray,\n",
    "    y_prob: np.ndarray,\n",
    "    round_digits: int=3) -> float:\n",
    "    \"\"\"Computing various evaluation metrics for the classification.Including auc, precision, recall, f1, log loss, brier score. \n",
    "    The threshold for precision and recall numbers are based on the one that gives the best f1 score.\n",
    "    Parameters:\n",
    "    y_true : 1d ndarray(Binary true targets).\n",
    "    y_prob : 1d ndarray (Raw probability/score of the positive class).\n",
    "    round_digits : int, default 4 (Round the evaluation metric).\n",
    "    \"\"\"\n",
    "    auc = round(metrics.roc_auc_score(y_true, y_prob), round_digits)\n",
    "    log_loss = round(metrics.log_loss(y_true, y_prob), round_digits)\n",
    "    brier_score = round(metrics.brier_score_loss(y_true, y_prob), round_digits)\n",
    "\n",
    "    precision, recall, threshold = metrics.precision_recall_curve(y_true, y_prob)\n",
    "    f1 = 2 * (precision * recall) / (precision + recall)\n",
    "\n",
    "    mask = ~np.isnan(f1)\n",
    "    f1 = f1[mask]\n",
    "    precision = precision[mask]\n",
    "    recall = recall[mask]\n",
    "\n",
    "    best_index = np.argmax(f1)\n",
    "    precision = round(precision[best_index], round_digits)\n",
    "    recall = round(recall[best_index], round_digits)\n",
    "    f1 = round(f1[best_index], round_digits)\n",
    "    return {\n",
    "        'auc': auc,\n",
    "        'precision': precision,\n",
    "        'recall': recall,\n",
    "        'f1': f1,\n",
    "        'log_loss': log_loss,\n",
    "        'brier': brier_score\n",
    "    }"
   ]
  },
  {
   "cell_type": "code",
   "execution_count": 20,
   "id": "0329f180-ab27-41a0-a967-496193930418",
   "metadata": {},
   "outputs": [
    {
     "name": "stderr",
     "output_type": "stream",
     "text": [
      "C:\\Users\\USER\\AppData\\Local\\Temp\\ipykernel_16032\\3247087562.py:17: RuntimeWarning: invalid value encountered in true_divide\n",
      "  f1 = 2 * (precision * recall) / (precision + recall)\n"
     ]
    },
    {
     "data": {
      "text/html": [
       "<div>\n",
       "<style scoped>\n",
       "    .dataframe tbody tr th:only-of-type {\n",
       "        vertical-align: middle;\n",
       "    }\n",
       "\n",
       "    .dataframe tbody tr th {\n",
       "        vertical-align: top;\n",
       "    }\n",
       "\n",
       "    .dataframe thead th {\n",
       "        text-align: right;\n",
       "    }\n",
       "</style>\n",
       "<table border=\"1\" class=\"dataframe\">\n",
       "  <thead>\n",
       "    <tr style=\"text-align: right;\">\n",
       "      <th></th>\n",
       "      <th>auc</th>\n",
       "      <th>precision</th>\n",
       "      <th>recall</th>\n",
       "      <th>f1</th>\n",
       "      <th>log_loss</th>\n",
       "      <th>brier</th>\n",
       "      <th>name</th>\n",
       "    </tr>\n",
       "  </thead>\n",
       "  <tbody>\n",
       "    <tr>\n",
       "      <th>0</th>\n",
       "      <td>0.958</td>\n",
       "      <td>0.944</td>\n",
       "      <td>0.879</td>\n",
       "      <td>0.910</td>\n",
       "      <td>0.504</td>\n",
       "      <td>0.159</td>\n",
       "      <td>xgb_train</td>\n",
       "    </tr>\n",
       "    <tr>\n",
       "      <th>1</th>\n",
       "      <td>0.609</td>\n",
       "      <td>0.040</td>\n",
       "      <td>0.143</td>\n",
       "      <td>0.062</td>\n",
       "      <td>0.669</td>\n",
       "      <td>0.238</td>\n",
       "      <td>xgb_val</td>\n",
       "    </tr>\n",
       "  </tbody>\n",
       "</table>\n",
       "</div>"
      ],
      "text/plain": [
       "     auc  precision  recall     f1  log_loss  brier       name\n",
       "0  0.958      0.944   0.879  0.910     0.504  0.159  xgb_train\n",
       "1  0.609      0.040   0.143  0.062     0.669  0.238    xgb_val"
      ]
     },
     "execution_count": 20,
     "metadata": {},
     "output_type": "execute_result"
    }
   ],
   "source": [
    "# evaluating the metrics for training and validation set\n",
    "estimators = {'xgb': model_xgb}\n",
    "df_groups = {'train':normalized_train_df,'val': df_val}\n",
    "\n",
    "estimator_metrics = []\n",
    "for name, estimator in estimators.items():\n",
    "    for df_name, df_group in df_groups.items():\n",
    "        y_prob = estimator.predict_proba(df_group[x].values)[:, 1]\n",
    "        # computing different binary classification metrics\n",
    "        metric_dict = compute_binary_score(df_group[y], y_prob)\n",
    "        metric_dict['name'] = name + '_' + df_name\n",
    "        estimator_metrics.append(metric_dict)\n",
    "\n",
    "df_metrics = pd.DataFrame(estimator_metrics)\n",
    "df_metrics\n"
   ]
  },
  {
   "cell_type": "code",
   "execution_count": 21,
   "id": "6e4bb10e-8c67-4e58-b427-bbfba6009c8e",
   "metadata": {},
   "outputs": [],
   "source": [
    "# extracting the validation and test true label and predicted probability,\n",
    "# Working with binary classification in this use case, we can extract the predicted probability for the positive class\n",
    "y_val = df_val[y].values\n",
    "xgb_pred_val = model_xgb.predict_proba(df_val[x].values)[:, 1]\n",
    "\n",
    "y_test = df_test[y].values\n",
    "xgb_pred_test = model_xgb.predict_proba(df_test[x].values)[:, 1]"
   ]
  },
  {
   "cell_type": "code",
   "execution_count": 22,
   "id": "58d32bd7-b22f-48fd-a0c0-46571d5a17c9",
   "metadata": {},
   "outputs": [
    {
     "data": {
      "text/plain": [
       "CalibratedClassifierCV(base_estimator=XGBClassifier(base_score=0.5,\n",
       "                                                    booster='gbtree',\n",
       "                                                    callbacks=None,\n",
       "                                                    colsample_bylevel=1,\n",
       "                                                    colsample_bynode=1,\n",
       "                                                    colsample_bytree=1,\n",
       "                                                    early_stopping_rounds=None,\n",
       "                                                    enable_categorical=False,\n",
       "                                                    eval_metric='auc', gamma=0,\n",
       "                                                    gpu_id=-1,\n",
       "                                                    grow_policy='depthwise',\n",
       "                                                    importance_type='total_gain',\n",
       "                                                    interaction_constraints='',\n",
       "                                                    learning_rate=0.01,\n",
       "                                                    max_bin=256,\n",
       "                                                    max_cat_to_onehot=4,\n",
       "                                                    max_delta_step=0,\n",
       "                                                    max_depth=6, max_leaves=0,\n",
       "                                                    min_child_weight=1,\n",
       "                                                    missing=nan,\n",
       "                                                    monotone_constraints='()',\n",
       "                                                    n_estimators=100, n_jobs=0,\n",
       "                                                    num_parallel_tree=1,\n",
       "                                                    predictor='auto',\n",
       "                                                    random_state=0, reg_alpha=0,\n",
       "                                                    reg_lambda=1, ...),\n",
       "                       cv='prefit')"
      ]
     },
     "execution_count": 22,
     "metadata": {},
     "output_type": "execute_result"
    }
   ],
   "source": [
    " #calibrating the xgboost model it with the given X_val data\n",
    "calib_model = CalibratedClassifierCV(model_xgb, cv=\"prefit\")\n",
    "calib_model.fit(df_val[x].values, y_val)"
   ]
  },
  {
   "cell_type": "code",
   "execution_count": 23,
   "id": "af4d694d-db97-4d59-b50f-77296fcf3ee3",
   "metadata": {},
   "outputs": [],
   "source": [
    "# Bin y_true and y_prob by distribution of the data.\n",
    "def create_binned_data(\n",
    "    y_true: np.ndarray,\n",
    "    y_prob: np.ndarray,\n",
    "    n_bins: int) -> Tuple[List[np.ndarray], List[np.ndarray]]:\n",
    " \n",
    "    #binned_y_true/binned_y_prob : 1d ndarray(Each element in the list stores the data for that bin).\n",
    "    sorted_indices = np.argsort(y_prob)\n",
    "    sorted_y_true = y_true[sorted_indices]\n",
    "    sorted_y_prob = y_prob[sorted_indices]\n",
    "    binned_y_true = np.array_split(sorted_y_true, n_bins)\n",
    "    binned_y_prob = np.array_split(sorted_y_prob, n_bins)\n",
    "    return binned_y_true, binned_y_prob#\n",
    "\n",
    "# getting the boundaries of each bin\n",
    "def get_bin_boundaries(binned_y_prob: List[np.ndarray]) -> np.ndarray:\n",
    "\n",
    "# bins : 1d ndarray(Boundaries for each bin).\n",
    "    bins = []\n",
    "    for i in range(len(binned_y_prob) - 1):\n",
    "        last_prob = binned_y_prob[i][-1]\n",
    "        next_first_prob = binned_y_prob[i + 1][0]\n",
    "        bins.append((last_prob + next_first_prob) / 2.0)\n",
    "\n",
    "    bins.append(1.0)\n",
    "    return np.array(bins)"
   ]
  },
  {
   "cell_type": "code",
   "execution_count": 24,
   "id": "eb78f276-924a-4084-95d6-39cff35bbd6c",
   "metadata": {},
   "outputs": [],
   "source": [
    "#Computing the calibration error for the classification via binningdata points into specified number of bins. \n",
    "#Samples with similar`y_prob` will be grouped into the same bin. The bin boundary is determined by having similar number of samples within each bin.\n",
    "def compute_calibration_error(\n",
    "    y_true: np.ndarray,\n",
    "    y_prob: np.ndarray,\n",
    "    n_bins: int=16,\n",
    "    round_digits: int=3):\n",
    "    \"\"\"\n",
    "\n",
    "    calibration_error : float\n",
    "        RMSE between the average positive label and predicted probability\n",
    "        within each bin.\n",
    "    \"\"\"\n",
    "    #y_true = column_or_1d(y_true)\n",
    "    #y_prob = column_or_1d(y_prob)\n",
    "    #check_consistent_length(y_true, y_prob)\n",
    "\n",
    "    binned_y_true, binned_y_prob = create_binned_data(y_true, y_prob, n_bins)\n",
    "\n",
    "    # looping since n_bins should be a small number.\n",
    "    bin_errors = 0.0\n",
    "    for bin_y_true, bin_y_prob in zip(binned_y_true, binned_y_prob):\n",
    "        avg_y_true = np.mean(bin_y_true)\n",
    "        avg_y_score = np.mean(bin_y_prob)\n",
    "        bin_error = (avg_y_score - avg_y_true) ** 2\n",
    "        bin_errors += bin_error * len(bin_y_true)\n",
    "\n",
    "    calibration_error = math.sqrt(bin_errors / len(y_true))\n",
    "    return round(calibration_error, round_digits)"
   ]
  },
  {
   "cell_type": "code",
   "execution_count": 25,
   "id": "13f5223b-d038-42b4-afb7-b6ee13885cda",
   "metadata": {},
   "outputs": [],
   "source": [
    "# Plots for the calibration curve and computing the summary statistics for the model \n",
    "def compute_calibration_summary(\n",
    "    eval_dict: Dict[str, pd.DataFrame],\n",
    "    y: str='label',\n",
    "    score_col: str='score',\n",
    "    n_bins: int=16,\n",
    "    strategy: str='quantile',\n",
    "    round_digits: int=3,\n",
    "    show: bool=True,\n",
    "    save_plot_path: Optional[str]=None) -> pd.DataFrame:\n",
    "\n",
    "    fig, (ax1, ax2) = plt.subplots(2)\n",
    "\n",
    "    # estimator_metrics \n",
    "    estimator_metrics = []\n",
    "    for name, df_eval in eval_dict.items():\n",
    "        prob_true, prob_pred = calibration_curve(df_eval[y],df_eval[score_col],n_bins=n_bins,strategy=strategy)\n",
    "\n",
    "        calibration_error = compute_calibration_error(df_eval[y], df_eval[score_col], n_bins, round_digits)\n",
    "        metrics_dict = compute_binary_score(df_eval[y], df_eval[score_col], round_digits)\n",
    "        metrics_dict['calibration_error'] = calibration_error\n",
    "        metrics_dict['name'] = name\n",
    "        estimator_metrics.append(metrics_dict)\n",
    "\n",
    "        ax1.plot(prob_pred, prob_true, 's-', label=name)\n",
    "        ax2.hist(df_eval[score_col], range=(0, 1), bins=n_bins, label=name, histtype='step', lw=2)\n",
    "\n",
    "    ax1.plot([0, 1], [0, 1], 'k:', label='perfect')\n",
    "\n",
    "    ax1.set_xlabel('Predicted Fraction of positives')\n",
    "    ax1.set_ylabel('Actual Fraction of positives ')\n",
    "    ax1.set_ylim([-0.05, 1.05])\n",
    "    ax1.legend(loc='upper left', ncol=2)\n",
    "    ax1.set_title('Calibration Plots (Reliability Curve)')\n",
    "\n",
    "    ax2.set_xlabel('Predicted scores')\n",
    "    ax2.set_ylabel('Count')\n",
    "    ax2.set_title('Histogram of Predicted Scores')\n",
    "    ax2.legend(loc='upper right', ncol=2)\n",
    "\n",
    "    plt.tight_layout()\n",
    "    if show:\n",
    "        plt.show()\n",
    "\n",
    "    if save_plot_path is not None:\n",
    "        save_dir = os.path.dirname(save_plot_path)\n",
    "        if save_dir:\n",
    "            os.makedirs(save_dir, exist_ok=True)\n",
    "\n",
    "        fig.savefig(save_plot_path, dpi=300, bbox_inches='tight')\n",
    "\n",
    "    plt.close(fig)\n",
    "\n",
    "    df_metrics = pd.DataFrame(estimator_metrics)\n",
    "    return df_metrics"
   ]
  },
  {
   "cell_type": "code",
   "execution_count": 26,
   "id": "fb826c3c-53e5-4664-a21e-2121aab5ecaf",
   "metadata": {},
   "outputs": [
    {
     "name": "stderr",
     "output_type": "stream",
     "text": [
      "C:\\Users\\USER\\AppData\\Local\\Temp\\ipykernel_16032\\3247087562.py:17: RuntimeWarning: invalid value encountered in true_divide\n",
      "  f1 = 2 * (precision * recall) / (precision + recall)\n",
      "C:\\Users\\USER\\AppData\\Local\\Temp\\ipykernel_16032\\3247087562.py:17: RuntimeWarning: invalid value encountered in true_divide\n",
      "  f1 = 2 * (precision * recall) / (precision + recall)\n"
     ]
    },
    {
     "data": {
      "image/png": "[encoded data removed]",
      "text/plain": [
       "<Figure size 864x576 with 2 Axes>"
      ]
     },
     "metadata": {
      "image/png": {
       "height": 562,
       "width": 851
      },
      "needs_background": "light"
     },
     "output_type": "display_data"
    },
    {
     "data": {
      "text/html": [
       "<div>\n",
       "<style scoped>\n",
       "    .dataframe tbody tr th:only-of-type {\n",
       "        vertical-align: middle;\n",
       "    }\n",
       "\n",
       "    .dataframe tbody tr th {\n",
       "        vertical-align: top;\n",
       "    }\n",
       "\n",
       "    .dataframe thead th {\n",
       "        text-align: right;\n",
       "    }\n",
       "</style>\n",
       "<table border=\"1\" class=\"dataframe\">\n",
       "  <thead>\n",
       "    <tr style=\"text-align: right;\">\n",
       "      <th></th>\n",
       "      <th>auc</th>\n",
       "      <th>precision</th>\n",
       "      <th>recall</th>\n",
       "      <th>f1</th>\n",
       "      <th>log_loss</th>\n",
       "      <th>brier</th>\n",
       "      <th>calibration_error</th>\n",
       "      <th>name</th>\n",
       "    </tr>\n",
       "  </thead>\n",
       "  <tbody>\n",
       "    <tr>\n",
       "      <th>0</th>\n",
       "      <td>0.609</td>\n",
       "      <td>0.040</td>\n",
       "      <td>0.143</td>\n",
       "      <td>0.062</td>\n",
       "      <td>0.669</td>\n",
       "      <td>0.238</td>\n",
       "      <td>0.473</td>\n",
       "      <td>xgb_val</td>\n",
       "    </tr>\n",
       "    <tr>\n",
       "      <th>1</th>\n",
       "      <td>0.577</td>\n",
       "      <td>0.027</td>\n",
       "      <td>0.172</td>\n",
       "      <td>0.047</td>\n",
       "      <td>0.668</td>\n",
       "      <td>0.237</td>\n",
       "      <td>0.473</td>\n",
       "      <td>xgb_test</td>\n",
       "    </tr>\n",
       "  </tbody>\n",
       "</table>\n",
       "</div>"
      ],
      "text/plain": [
       "     auc  precision  recall     f1  log_loss  brier  calibration_error  \\\n",
       "0  0.609      0.040   0.143  0.062     0.669  0.238              0.473   \n",
       "1  0.577      0.027   0.172  0.047     0.668  0.237              0.473   \n",
       "\n",
       "       name  \n",
       "0   xgb_val  \n",
       "1  xgb_test  "
      ]
     },
     "execution_count": 26,
     "metadata": {},
     "output_type": "execute_result"
    }
   ],
   "source": [
    "# linking the label and probability into a dataframe\n",
    "score_col = 'score'\n",
    "df_xgb_eval_val = pd.DataFrame({y: y_val,score_col: xgb_pred_val})\n",
    "\n",
    "df_xgb_eval_test = pd.DataFrame({y: y_test,score_col: xgb_pred_test})\n",
    "\n",
    "eval_dict = {\n",
    "    'xgb_val': df_xgb_eval_val,\n",
    "    'xgb_test': df_xgb_eval_test\n",
    "}\n",
    "\n",
    "# changing default style figure and font size\n",
    "plt.rcParams['figure.figsize'] = 12, 8\n",
    "plt.rcParams['font.size'] = 12\n",
    "\n",
    "n_bins = 15\n",
    "df_result = compute_calibration_summary(eval_dict, y, score_col, n_bins=n_bins)\n",
    "df_result\n"
   ]
  },
  {
   "cell_type": "code",
   "execution_count": 27,
   "id": "4b359a24-f16b-448c-a576-73594ca1366b",
   "metadata": {},
   "outputs": [
    {
     "data": {
      "text/plain": [
       "Text(0.5, 1.0, 'Calibration plots  (reliability curve)')"
      ]
     },
     "execution_count": 27,
     "metadata": {},
     "output_type": "execute_result"
    },
    {
     "data": {
      "image/png": "[encoded data removed]",
      "text/plain": [
       "<Figure size 720x720 with 1 Axes>"
      ]
     },
     "metadata": {
      "image/png": {
       "height": 610,
       "width": 614
      },
      "needs_background": "light"
     },
     "output_type": "display_data"
    }
   ],
   "source": [
    "# plottinga calibration with the given y_test and y_pred values\n",
    "fig = plt.figure(1, figsize=(10, 10))\n",
    "fraction_of_positives, mean_predicted_value = calibration_curve(y_test, xgb_pred_test, n_bins=10, strategy='quantile')\n",
    "\n",
    "plt.plot(mean_predicted_value, fraction_of_positives, \"s-\",label=\"XGBoost\")\n",
    "plt.plot([0, 1],[0, 1], ls=\"--\", c=\"0.3\")\n",
    "plt.ylabel(\"Fraction of Positives\")\n",
    "plt.xlabel(\"Predicted Probability\")\n",
    "plt.ylim([-0.05, 1.05])\n",
    "plt.xlim([-0.05, 1.05])\n",
    "plt.legend(loc = \"lower right\")\n",
    "plt.title('Calibration plots  (reliability curve)')"
   ]
  },
  {
   "cell_type": "markdown",
   "id": "cd7c9ca5-5195-4c68-93c5-1b8f7f10c319",
   "metadata": {},
   "source": [
    "The model is also performing poorly with the dataset, even after resampling. The scores are really poor, but better than the imbalanced dataset model\n",
    "\n",
    "\n",
    "`Please if there is any form of correction, you can drawn my attention to it. I will glad to recieve contributions and correction. For any form of clarification, you can also ask.`"
   ]
  },
  {
   "cell_type": "code",
   "execution_count": null,
   "id": "8214110c-ce2b-4b1e-af2c-23c323b034ab",
   "metadata": {},
   "outputs": [],
   "source": []
  }
 ],
 "metadata": {
  "kernelspec": {
   "display_name": "Python 3 (ipykernel)",
   "language": "python",
   "name": "python3"
  },
  "language_info": {
   "codemirror_mode": {
    "name": "ipython",
    "version": 3
   },
   "file_extension": ".py",
   "mimetype": "text/x-python",
   "name": "python",
   "nbconvert_exporter": "python",
   "pygments_lexer": "ipython3",
   "version": "3.9.12"
  }
 },
 "nbformat": 4,
 "nbformat_minor": 5
}
