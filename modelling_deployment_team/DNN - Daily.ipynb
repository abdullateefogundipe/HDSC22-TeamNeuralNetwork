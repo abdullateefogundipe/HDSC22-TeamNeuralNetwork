{
 "cells": [
  {
   "cell_type": "code",
   "execution_count": 1,
   "id": "1fd236b2",
   "metadata": {},
   "outputs": [],
   "source": [
    "import tensorflow as tf\n",
    "from tensorflow import keras\n",
    "\n",
    "import os\n",
    "import tempfile\n",
    "\n",
    "import matplotlib as mpl\n",
    "import matplotlib.pyplot as plt\n",
    "import numpy as np\n",
    "import pandas as pd\n",
    "import seaborn as sns\n",
    "\n",
    "import sklearn\n",
    "from sklearn.metrics import confusion_matrix\n",
    "from sklearn.model_selection import train_test_split\n",
    "from sklearn.preprocessing import StandardScaler\n",
    "#tf.autograph.set_verbosity(0)\n",
    "\n",
    "import logging\n",
    "logging.getLogger(\"tensorflow\").setLevel(logging.ERROR)"
   ]
  },
  {
   "cell_type": "code",
   "execution_count": 2,
   "id": "22ea679b",
   "metadata": {},
   "outputs": [],
   "source": [
    "mpl.rcParams['figure.figsize'] = (15, 18)\n",
    "colors = plt.rcParams['axes.prop_cycle'].by_key()['color']"
   ]
  },
  {
   "cell_type": "code",
   "execution_count": 3,
   "id": "cefaf45a",
   "metadata": {},
   "outputs": [
    {
     "data": {
      "text/html": [
       "<div>\n",
       "<style scoped>\n",
       "    .dataframe tbody tr th:only-of-type {\n",
       "        vertical-align: middle;\n",
       "    }\n",
       "\n",
       "    .dataframe tbody tr th {\n",
       "        vertical-align: top;\n",
       "    }\n",
       "\n",
       "    .dataframe thead th {\n",
       "        text-align: right;\n",
       "    }\n",
       "</style>\n",
       "<table border=\"1\" class=\"dataframe\">\n",
       "  <thead>\n",
       "    <tr style=\"text-align: right;\">\n",
       "      <th></th>\n",
       "      <th>nr. sessions</th>\n",
       "      <th>total km</th>\n",
       "      <th>km Z3-4</th>\n",
       "      <th>km Z5-T1-T2</th>\n",
       "      <th>km sprinting</th>\n",
       "      <th>strength training</th>\n",
       "      <th>hours alternative</th>\n",
       "      <th>perceived exertion</th>\n",
       "      <th>perceived trainingSuccess</th>\n",
       "      <th>perceived recovery</th>\n",
       "      <th>...</th>\n",
       "      <th>km Z5-T1-T2.6</th>\n",
       "      <th>km sprinting.6</th>\n",
       "      <th>strength training.6</th>\n",
       "      <th>hours alternative.6</th>\n",
       "      <th>perceived exertion.6</th>\n",
       "      <th>perceived trainingSuccess.6</th>\n",
       "      <th>perceived recovery.6</th>\n",
       "      <th>Athlete ID</th>\n",
       "      <th>injury</th>\n",
       "      <th>Date</th>\n",
       "    </tr>\n",
       "  </thead>\n",
       "  <tbody>\n",
       "    <tr>\n",
       "      <th>0</th>\n",
       "      <td>1</td>\n",
       "      <td>5.8</td>\n",
       "      <td>0.0</td>\n",
       "      <td>0.6</td>\n",
       "      <td>1.2</td>\n",
       "      <td>0.0</td>\n",
       "      <td>0.00</td>\n",
       "      <td>0.11</td>\n",
       "      <td>0.00</td>\n",
       "      <td>0.18</td>\n",
       "      <td>...</td>\n",
       "      <td>0.0</td>\n",
       "      <td>0.0</td>\n",
       "      <td>0.0</td>\n",
       "      <td>1.0</td>\n",
       "      <td>0.10</td>\n",
       "      <td>0.00</td>\n",
       "      <td>0.15</td>\n",
       "      <td>0</td>\n",
       "      <td>0</td>\n",
       "      <td>0</td>\n",
       "    </tr>\n",
       "    <tr>\n",
       "      <th>1</th>\n",
       "      <td>0</td>\n",
       "      <td>0.0</td>\n",
       "      <td>0.0</td>\n",
       "      <td>0.0</td>\n",
       "      <td>0.0</td>\n",
       "      <td>0.0</td>\n",
       "      <td>0.00</td>\n",
       "      <td>-0.01</td>\n",
       "      <td>-0.01</td>\n",
       "      <td>-0.01</td>\n",
       "      <td>...</td>\n",
       "      <td>0.5</td>\n",
       "      <td>1.2</td>\n",
       "      <td>0.0</td>\n",
       "      <td>0.0</td>\n",
       "      <td>0.10</td>\n",
       "      <td>0.00</td>\n",
       "      <td>0.17</td>\n",
       "      <td>0</td>\n",
       "      <td>0</td>\n",
       "      <td>1</td>\n",
       "    </tr>\n",
       "    <tr>\n",
       "      <th>2</th>\n",
       "      <td>1</td>\n",
       "      <td>0.0</td>\n",
       "      <td>0.0</td>\n",
       "      <td>0.0</td>\n",
       "      <td>0.0</td>\n",
       "      <td>1.0</td>\n",
       "      <td>0.00</td>\n",
       "      <td>0.10</td>\n",
       "      <td>0.00</td>\n",
       "      <td>0.17</td>\n",
       "      <td>...</td>\n",
       "      <td>0.0</td>\n",
       "      <td>0.0</td>\n",
       "      <td>0.0</td>\n",
       "      <td>0.0</td>\n",
       "      <td>-0.01</td>\n",
       "      <td>-0.01</td>\n",
       "      <td>-0.01</td>\n",
       "      <td>0</td>\n",
       "      <td>0</td>\n",
       "      <td>2</td>\n",
       "    </tr>\n",
       "    <tr>\n",
       "      <th>3</th>\n",
       "      <td>0</td>\n",
       "      <td>0.0</td>\n",
       "      <td>0.0</td>\n",
       "      <td>0.0</td>\n",
       "      <td>0.0</td>\n",
       "      <td>0.0</td>\n",
       "      <td>0.00</td>\n",
       "      <td>-0.01</td>\n",
       "      <td>-0.01</td>\n",
       "      <td>-0.01</td>\n",
       "      <td>...</td>\n",
       "      <td>0.0</td>\n",
       "      <td>0.0</td>\n",
       "      <td>1.0</td>\n",
       "      <td>0.0</td>\n",
       "      <td>0.10</td>\n",
       "      <td>0.00</td>\n",
       "      <td>0.17</td>\n",
       "      <td>0</td>\n",
       "      <td>0</td>\n",
       "      <td>3</td>\n",
       "    </tr>\n",
       "    <tr>\n",
       "      <th>4</th>\n",
       "      <td>1</td>\n",
       "      <td>0.0</td>\n",
       "      <td>0.0</td>\n",
       "      <td>0.0</td>\n",
       "      <td>0.0</td>\n",
       "      <td>0.0</td>\n",
       "      <td>1.08</td>\n",
       "      <td>0.08</td>\n",
       "      <td>0.00</td>\n",
       "      <td>0.18</td>\n",
       "      <td>...</td>\n",
       "      <td>0.0</td>\n",
       "      <td>0.0</td>\n",
       "      <td>0.0</td>\n",
       "      <td>0.0</td>\n",
       "      <td>0.11</td>\n",
       "      <td>0.00</td>\n",
       "      <td>0.17</td>\n",
       "      <td>0</td>\n",
       "      <td>0</td>\n",
       "      <td>4</td>\n",
       "    </tr>\n",
       "  </tbody>\n",
       "</table>\n",
       "<p>5 rows × 73 columns</p>\n",
       "</div>"
      ],
      "text/plain": [
       "   nr. sessions  total km  km Z3-4  km Z5-T1-T2  km sprinting  \\\n",
       "0             1       5.8      0.0          0.6           1.2   \n",
       "1             0       0.0      0.0          0.0           0.0   \n",
       "2             1       0.0      0.0          0.0           0.0   \n",
       "3             0       0.0      0.0          0.0           0.0   \n",
       "4             1       0.0      0.0          0.0           0.0   \n",
       "\n",
       "   strength training  hours alternative  perceived exertion  \\\n",
       "0                0.0               0.00                0.11   \n",
       "1                0.0               0.00               -0.01   \n",
       "2                1.0               0.00                0.10   \n",
       "3                0.0               0.00               -0.01   \n",
       "4                0.0               1.08                0.08   \n",
       "\n",
       "   perceived trainingSuccess  perceived recovery  ...  km Z5-T1-T2.6  \\\n",
       "0                       0.00                0.18  ...            0.0   \n",
       "1                      -0.01               -0.01  ...            0.5   \n",
       "2                       0.00                0.17  ...            0.0   \n",
       "3                      -0.01               -0.01  ...            0.0   \n",
       "4                       0.00                0.18  ...            0.0   \n",
       "\n",
       "   km sprinting.6  strength training.6  hours alternative.6  \\\n",
       "0             0.0                  0.0                  1.0   \n",
       "1             1.2                  0.0                  0.0   \n",
       "2             0.0                  0.0                  0.0   \n",
       "3             0.0                  1.0                  0.0   \n",
       "4             0.0                  0.0                  0.0   \n",
       "\n",
       "   perceived exertion.6  perceived trainingSuccess.6  perceived recovery.6  \\\n",
       "0                  0.10                         0.00                  0.15   \n",
       "1                  0.10                         0.00                  0.17   \n",
       "2                 -0.01                        -0.01                 -0.01   \n",
       "3                  0.10                         0.00                  0.17   \n",
       "4                  0.11                         0.00                  0.17   \n",
       "\n",
       "   Athlete ID  injury  Date  \n",
       "0           0       0     0  \n",
       "1           0       0     1  \n",
       "2           0       0     2  \n",
       "3           0       0     3  \n",
       "4           0       0     4  \n",
       "\n",
       "[5 rows x 73 columns]"
      ]
     },
     "execution_count": 3,
     "metadata": {},
     "output_type": "execute_result"
    }
   ],
   "source": [
    "file = tf.keras.utils\n",
    "raw_df = pd.read_csv('day_approach_maskedID_timeseries.csv')\n",
    "convert_dict = {'nr. sessions': int } #convert nr.sessions to int \n",
    "raw_df = raw_df.astype(convert_dict)\n",
    "raw_df.head()"
   ]
  },
  {
   "cell_type": "code",
   "execution_count": 4,
   "id": "356889b5",
   "metadata": {},
   "outputs": [
    {
     "name": "stdout",
     "output_type": "stream",
     "text": [
      "Examples:\n",
      "    Total: 42766\n",
      "    Positive: 583 (1.36% of total)\n",
      "\n"
     ]
    }
   ],
   "source": [
    "neg, pos = np.bincount(raw_df['injury'])\n",
    "total = neg + pos\n",
    "print('Examples:\\n    Total: {}\\n    Positive: {} ({:.2f}% of total)\\n'.format(\n",
    "    total, pos, 100 * pos / total))"
   ]
  },
  {
   "cell_type": "code",
   "execution_count": 5,
   "id": "79086e65",
   "metadata": {},
   "outputs": [
    {
     "data": {
      "text/plain": [
       "0         0\n",
       "1         0\n",
       "2         0\n",
       "3         0\n",
       "4         0\n",
       "         ..\n",
       "42761    71\n",
       "42762    71\n",
       "42763    71\n",
       "42764    71\n",
       "42765    71\n",
       "Name: Athlete ID, Length: 42766, dtype: int64"
      ]
     },
     "execution_count": 5,
     "metadata": {},
     "output_type": "execute_result"
    }
   ],
   "source": [
    "cleaned_df = raw_df.copy()\n",
    "cleaned_df.pop('Date')\n",
    "cleaned_df.pop('Athlete ID')"
   ]
  },
  {
   "cell_type": "code",
   "execution_count": 6,
   "id": "8c888041",
   "metadata": {},
   "outputs": [
    {
     "data": {
      "text/html": [
       "<div>\n",
       "<style scoped>\n",
       "    .dataframe tbody tr th:only-of-type {\n",
       "        vertical-align: middle;\n",
       "    }\n",
       "\n",
       "    .dataframe tbody tr th {\n",
       "        vertical-align: top;\n",
       "    }\n",
       "\n",
       "    .dataframe thead th {\n",
       "        text-align: right;\n",
       "    }\n",
       "</style>\n",
       "<table border=\"1\" class=\"dataframe\">\n",
       "  <thead>\n",
       "    <tr style=\"text-align: right;\">\n",
       "      <th></th>\n",
       "      <th>nr. sessions</th>\n",
       "      <th>total km</th>\n",
       "      <th>km Z3-4</th>\n",
       "      <th>km Z5-T1-T2</th>\n",
       "      <th>km sprinting</th>\n",
       "      <th>strength training</th>\n",
       "      <th>hours alternative</th>\n",
       "      <th>perceived exertion</th>\n",
       "      <th>perceived trainingSuccess</th>\n",
       "      <th>perceived recovery</th>\n",
       "      <th>...</th>\n",
       "      <th>total km.6</th>\n",
       "      <th>km Z3-4.6</th>\n",
       "      <th>km Z5-T1-T2.6</th>\n",
       "      <th>km sprinting.6</th>\n",
       "      <th>strength training.6</th>\n",
       "      <th>hours alternative.6</th>\n",
       "      <th>perceived exertion.6</th>\n",
       "      <th>perceived trainingSuccess.6</th>\n",
       "      <th>perceived recovery.6</th>\n",
       "      <th>injury</th>\n",
       "    </tr>\n",
       "  </thead>\n",
       "  <tbody>\n",
       "    <tr>\n",
       "      <th>0</th>\n",
       "      <td>1</td>\n",
       "      <td>5.8</td>\n",
       "      <td>0.0</td>\n",
       "      <td>0.6</td>\n",
       "      <td>1.2</td>\n",
       "      <td>0.0</td>\n",
       "      <td>0.00</td>\n",
       "      <td>0.11</td>\n",
       "      <td>0.00</td>\n",
       "      <td>0.18</td>\n",
       "      <td>...</td>\n",
       "      <td>0.0</td>\n",
       "      <td>0.0</td>\n",
       "      <td>0.0</td>\n",
       "      <td>0.0</td>\n",
       "      <td>0.0</td>\n",
       "      <td>1.0</td>\n",
       "      <td>0.10</td>\n",
       "      <td>0.00</td>\n",
       "      <td>0.15</td>\n",
       "      <td>0</td>\n",
       "    </tr>\n",
       "    <tr>\n",
       "      <th>1</th>\n",
       "      <td>0</td>\n",
       "      <td>0.0</td>\n",
       "      <td>0.0</td>\n",
       "      <td>0.0</td>\n",
       "      <td>0.0</td>\n",
       "      <td>0.0</td>\n",
       "      <td>0.00</td>\n",
       "      <td>-0.01</td>\n",
       "      <td>-0.01</td>\n",
       "      <td>-0.01</td>\n",
       "      <td>...</td>\n",
       "      <td>5.2</td>\n",
       "      <td>0.0</td>\n",
       "      <td>0.5</td>\n",
       "      <td>1.2</td>\n",
       "      <td>0.0</td>\n",
       "      <td>0.0</td>\n",
       "      <td>0.10</td>\n",
       "      <td>0.00</td>\n",
       "      <td>0.17</td>\n",
       "      <td>0</td>\n",
       "    </tr>\n",
       "    <tr>\n",
       "      <th>2</th>\n",
       "      <td>1</td>\n",
       "      <td>0.0</td>\n",
       "      <td>0.0</td>\n",
       "      <td>0.0</td>\n",
       "      <td>0.0</td>\n",
       "      <td>1.0</td>\n",
       "      <td>0.00</td>\n",
       "      <td>0.10</td>\n",
       "      <td>0.00</td>\n",
       "      <td>0.17</td>\n",
       "      <td>...</td>\n",
       "      <td>0.0</td>\n",
       "      <td>0.0</td>\n",
       "      <td>0.0</td>\n",
       "      <td>0.0</td>\n",
       "      <td>0.0</td>\n",
       "      <td>0.0</td>\n",
       "      <td>-0.01</td>\n",
       "      <td>-0.01</td>\n",
       "      <td>-0.01</td>\n",
       "      <td>0</td>\n",
       "    </tr>\n",
       "    <tr>\n",
       "      <th>3</th>\n",
       "      <td>0</td>\n",
       "      <td>0.0</td>\n",
       "      <td>0.0</td>\n",
       "      <td>0.0</td>\n",
       "      <td>0.0</td>\n",
       "      <td>0.0</td>\n",
       "      <td>0.00</td>\n",
       "      <td>-0.01</td>\n",
       "      <td>-0.01</td>\n",
       "      <td>-0.01</td>\n",
       "      <td>...</td>\n",
       "      <td>0.0</td>\n",
       "      <td>0.0</td>\n",
       "      <td>0.0</td>\n",
       "      <td>0.0</td>\n",
       "      <td>1.0</td>\n",
       "      <td>0.0</td>\n",
       "      <td>0.10</td>\n",
       "      <td>0.00</td>\n",
       "      <td>0.17</td>\n",
       "      <td>0</td>\n",
       "    </tr>\n",
       "    <tr>\n",
       "      <th>4</th>\n",
       "      <td>1</td>\n",
       "      <td>0.0</td>\n",
       "      <td>0.0</td>\n",
       "      <td>0.0</td>\n",
       "      <td>0.0</td>\n",
       "      <td>0.0</td>\n",
       "      <td>1.08</td>\n",
       "      <td>0.08</td>\n",
       "      <td>0.00</td>\n",
       "      <td>0.18</td>\n",
       "      <td>...</td>\n",
       "      <td>17.6</td>\n",
       "      <td>7.2</td>\n",
       "      <td>0.0</td>\n",
       "      <td>0.0</td>\n",
       "      <td>0.0</td>\n",
       "      <td>0.0</td>\n",
       "      <td>0.11</td>\n",
       "      <td>0.00</td>\n",
       "      <td>0.17</td>\n",
       "      <td>0</td>\n",
       "    </tr>\n",
       "  </tbody>\n",
       "</table>\n",
       "<p>5 rows × 71 columns</p>\n",
       "</div>"
      ],
      "text/plain": [
       "   nr. sessions  total km  km Z3-4  km Z5-T1-T2  km sprinting  \\\n",
       "0             1       5.8      0.0          0.6           1.2   \n",
       "1             0       0.0      0.0          0.0           0.0   \n",
       "2             1       0.0      0.0          0.0           0.0   \n",
       "3             0       0.0      0.0          0.0           0.0   \n",
       "4             1       0.0      0.0          0.0           0.0   \n",
       "\n",
       "   strength training  hours alternative  perceived exertion  \\\n",
       "0                0.0               0.00                0.11   \n",
       "1                0.0               0.00               -0.01   \n",
       "2                1.0               0.00                0.10   \n",
       "3                0.0               0.00               -0.01   \n",
       "4                0.0               1.08                0.08   \n",
       "\n",
       "   perceived trainingSuccess  perceived recovery  ...  total km.6  km Z3-4.6  \\\n",
       "0                       0.00                0.18  ...         0.0        0.0   \n",
       "1                      -0.01               -0.01  ...         5.2        0.0   \n",
       "2                       0.00                0.17  ...         0.0        0.0   \n",
       "3                      -0.01               -0.01  ...         0.0        0.0   \n",
       "4                       0.00                0.18  ...        17.6        7.2   \n",
       "\n",
       "   km Z5-T1-T2.6  km sprinting.6  strength training.6  hours alternative.6  \\\n",
       "0            0.0             0.0                  0.0                  1.0   \n",
       "1            0.5             1.2                  0.0                  0.0   \n",
       "2            0.0             0.0                  0.0                  0.0   \n",
       "3            0.0             0.0                  1.0                  0.0   \n",
       "4            0.0             0.0                  0.0                  0.0   \n",
       "\n",
       "   perceived exertion.6  perceived trainingSuccess.6  perceived recovery.6  \\\n",
       "0                  0.10                         0.00                  0.15   \n",
       "1                  0.10                         0.00                  0.17   \n",
       "2                 -0.01                        -0.01                 -0.01   \n",
       "3                  0.10                         0.00                  0.17   \n",
       "4                  0.11                         0.00                  0.17   \n",
       "\n",
       "   injury  \n",
       "0       0  \n",
       "1       0  \n",
       "2       0  \n",
       "3       0  \n",
       "4       0  \n",
       "\n",
       "[5 rows x 71 columns]"
      ]
     },
     "execution_count": 6,
     "metadata": {},
     "output_type": "execute_result"
    }
   ],
   "source": [
    "cleaned_df.head()"
   ]
  },
  {
   "cell_type": "code",
   "execution_count": 7,
   "id": "7a478561",
   "metadata": {},
   "outputs": [],
   "source": [
    "# Use a utility from sklearn to split and shuffle your dataset.\n",
    "train_df, test_df = train_test_split(cleaned_df, test_size=0.3)\n",
    "train_df, val_df = train_test_split(train_df, test_size=0.3)\n",
    "\n",
    "# Form np arrays of labels and features.\n",
    "train_labels = np.array(train_df.pop('injury'))\n",
    "val_labels = np.array(val_df.pop('injury'))\n",
    "test_labels = np.array(test_df.pop('injury'))\n",
    "\n",
    "train_features = np.array(train_df)\n",
    "val_features = np.array(val_df)\n",
    "test_features = np.array(test_df)"
   ]
  },
  {
   "cell_type": "markdown",
   "id": "e00dd6fb",
   "metadata": {},
   "source": [
    "for i in val_labels:\n",
    "    if i != 0:\n",
    "        print(i)"
   ]
  },
  {
   "cell_type": "code",
   "execution_count": 8,
   "id": "db355cb9",
   "metadata": {},
   "outputs": [
    {
     "name": "stdout",
     "output_type": "stream",
     "text": [
      "Training labels shape: (20955,)\n",
      "Validation labels shape: (8981,)\n",
      "Test labels shape: (12830,)\n",
      "Training features shape: (20955, 70)\n",
      "Validation features shape: (8981, 70)\n",
      "Test features shape: (12830, 70)\n"
     ]
    }
   ],
   "source": [
    "scaler = StandardScaler()\n",
    "train_features = scaler.fit_transform(train_features)\n",
    "\n",
    "val_features = scaler.transform(val_features)\n",
    "test_features = scaler.transform(test_features)\n",
    "\n",
    "#train_features = np.clip(train_features, -5, 5)\n",
    "#val_features = np.clip(val_features, -5, 5)\n",
    "#test_features = np.clip(test_features, -5, 5)\n",
    "\n",
    "\n",
    "print('Training labels shape:', train_labels.shape)\n",
    "print('Validation labels shape:', val_labels.shape)\n",
    "print('Test labels shape:', test_labels.shape)\n",
    "\n",
    "print('Training features shape:', train_features.shape)\n",
    "print('Validation features shape:', val_features.shape)\n",
    "print('Test features shape:', test_features.shape)"
   ]
  },
  {
   "cell_type": "code",
   "execution_count": 9,
   "id": "dc2b3b33",
   "metadata": {},
   "outputs": [
    {
     "name": "stderr",
     "output_type": "stream",
     "text": [
      "2022-10-12 18:07:41.465270: I tensorflow/core/platform/cpu_feature_guard.cc:193] This TensorFlow binary is optimized with oneAPI Deep Neural Network Library (oneDNN) to use the following CPU instructions in performance-critical operations:  AVX2 FMA\n",
      "To enable them in other operations, rebuild TensorFlow with the appropriate compiler flags.\n"
     ]
    }
   ],
   "source": [
    "METRICS = [\n",
    "      keras.metrics.TruePositives(name='tp'),\n",
    "      keras.metrics.FalsePositives(name='fp'),\n",
    "      keras.metrics.TrueNegatives(name='tn'),\n",
    "      keras.metrics.FalseNegatives(name='fn'), \n",
    "      keras.metrics.BinaryAccuracy(name='accuracy'),\n",
    "      keras.metrics.Precision(name='precision'),\n",
    "      keras.metrics.Recall(name='recall'),\n",
    "      keras.metrics.AUC(name='auc'),\n",
    "      keras.metrics.AUC(name='prc', curve='PR'), # precision-recall curve\n",
    "]\n",
    "\n",
    "#create the model \n",
    "def make_model(metrics=METRICS, output_bias=None):\n",
    "    if output_bias is not None:\n",
    "        output_bias = tf.keras.initializers.Constant(output_bias)\n",
    "    model = keras.Sequential([keras.layers.Dense(16, activation='relu',input_shape=(train_features.shape[-1],)),\n",
    "      keras.layers.Dropout(0.5),\n",
    "      keras.layers.Dense(1, activation='sigmoid',\n",
    "                         bias_initializer=output_bias),\n",
    "  ])\n",
    "\n",
    "    model.compile(\n",
    "      optimizer=keras.optimizers.Adam(learning_rate=1e-3),\n",
    "      loss=keras.losses.BinaryCrossentropy(),\n",
    "      metrics=metrics)\n",
    "\n",
    "    return model"
   ]
  },
  {
   "cell_type": "code",
   "execution_count": 10,
   "id": "e0815dab",
   "metadata": {},
   "outputs": [],
   "source": [
    "EPOCHS = 200\n",
    "BATCH_SIZE = 2048\n",
    "\n",
    "early_stopping = tf.keras.callbacks.EarlyStopping(\n",
    "    monitor='val_prc', \n",
    "    verbose=1,\n",
    "    patience=10,\n",
    "    mode='max',\n",
    "    restore_best_weights=True)"
   ]
  },
  {
   "cell_type": "markdown",
   "id": "5c73d3b1",
   "metadata": {},
   "source": [
    "The batch size is a number of samples processed before the model is updated. The number of epochs is the number of complete passes through the training dataset. The size of a batch must be more than or equal to one and less than or equal to the number of samples in the training dataset"
   ]
  },
  {
   "cell_type": "code",
   "execution_count": 11,
   "id": "d704e720",
   "metadata": {},
   "outputs": [
    {
     "name": "stdout",
     "output_type": "stream",
     "text": [
      "Model: \"sequential\"\n",
      "_________________________________________________________________\n",
      " Layer (type)                Output Shape              Param #   \n",
      "=================================================================\n",
      " dense (Dense)               (None, 16)                1136      \n",
      "                                                                 \n",
      " dropout (Dropout)           (None, 16)                0         \n",
      "                                                                 \n",
      " dense_1 (Dense)             (None, 1)                 17        \n",
      "                                                                 \n",
      "=================================================================\n",
      "Total params: 1,153\n",
      "Trainable params: 1,153\n",
      "Non-trainable params: 0\n",
      "_________________________________________________________________\n"
     ]
    }
   ],
   "source": [
    "model = make_model()\n",
    "model.summary()"
   ]
  },
  {
   "cell_type": "code",
   "execution_count": 12,
   "id": "f5eb0d4a",
   "metadata": {},
   "outputs": [
    {
     "name": "stdout",
     "output_type": "stream",
     "text": [
      "WARNING: AutoGraph could not transform <function Model.make_predict_function.<locals>.predict_function at 0x7f89c543d950> and will run it as-is.\n",
      "Please report this to the TensorFlow team. When filing the bug, set the verbosity to 10 (on Linux, `export AUTOGRAPH_VERBOSITY=10`) and attach the full output.\n",
      "Cause: 'arguments' object has no attribute 'posonlyargs'\n",
      "To silence this warning, decorate the function with @tf.autograph.experimental.do_not_convert\n",
      "1/1 [==============================] - 0s 268ms/step\n"
     ]
    },
    {
     "data": {
      "text/plain": [
       "array([[0.483125  ],\n",
       "       [0.09907348],\n",
       "       [0.05108692],\n",
       "       [0.01117394],\n",
       "       [0.4132968 ],\n",
       "       [0.4660509 ],\n",
       "       [0.0921387 ],\n",
       "       [0.93888587],\n",
       "       [0.07992816],\n",
       "       [0.11902053]], dtype=float32)"
      ]
     },
     "execution_count": 12,
     "metadata": {},
     "output_type": "execute_result"
    }
   ],
   "source": [
    "model.predict(train_features[:10])"
   ]
  },
  {
   "cell_type": "code",
   "execution_count": 13,
   "id": "66e6aeb6",
   "metadata": {},
   "outputs": [
    {
     "name": "stdout",
     "output_type": "stream",
     "text": [
      "WARNING: AutoGraph could not transform <function Model.make_test_function.<locals>.test_function at 0x7f89c685bf80> and will run it as-is.\n",
      "Please report this to the TensorFlow team. When filing the bug, set the verbosity to 10 (on Linux, `export AUTOGRAPH_VERBOSITY=10`) and attach the full output.\n",
      "Cause: 'arguments' object has no attribute 'posonlyargs'\n",
      "To silence this warning, decorate the function with @tf.autograph.experimental.do_not_convert\n",
      "11/11 [==============================] - 5s 5ms/step - loss: 0.4194 - tp: 64.0000 - fp: 3520.0000 - tn: 17149.0000 - fn: 222.0000 - accuracy: 0.8214 - precision: 0.0179 - recall: 0.2238 - auc: 0.5682 - prc: 0.0178\n",
      "Loss: 0.4194\n"
     ]
    }
   ],
   "source": [
    "results = model.evaluate(train_features, train_labels, batch_size=BATCH_SIZE, verbose=1)\n",
    "print(\"Loss: {:0.4f}\".format(results[0]))\n"
   ]
  },
  {
   "cell_type": "code",
   "execution_count": 14,
   "id": "4c4a9621",
   "metadata": {},
   "outputs": [
    {
     "data": {
      "text/plain": [
       "array([-4.28158539])"
      ]
     },
     "execution_count": 14,
     "metadata": {},
     "output_type": "execute_result"
    }
   ],
   "source": [
    "initial_bias = np.log([pos/neg])\n",
    "initial_bias"
   ]
  },
  {
   "cell_type": "code",
   "execution_count": 15,
   "id": "594da887",
   "metadata": {},
   "outputs": [
    {
     "name": "stdout",
     "output_type": "stream",
     "text": [
      "WARNING: AutoGraph could not transform <function Model.make_predict_function.<locals>.predict_function at 0x7f89c88737a0> and will run it as-is.\n",
      "Please report this to the TensorFlow team. When filing the bug, set the verbosity to 10 (on Linux, `export AUTOGRAPH_VERBOSITY=10`) and attach the full output.\n",
      "Cause: 'arguments' object has no attribute 'posonlyargs'\n",
      "To silence this warning, decorate the function with @tf.autograph.experimental.do_not_convert\n",
      "1/1 [==============================] - 0s 213ms/step\n"
     ]
    },
    {
     "data": {
      "text/plain": [
       "array([[0.00740411],\n",
       "       [0.03674661],\n",
       "       [0.00352976],\n",
       "       [0.04068253],\n",
       "       [0.00924006],\n",
       "       [0.08744532],\n",
       "       [0.01391569],\n",
       "       [0.00790247],\n",
       "       [0.02852633],\n",
       "       [0.01227754]], dtype=float32)"
      ]
     },
     "execution_count": 15,
     "metadata": {},
     "output_type": "execute_result"
    }
   ],
   "source": [
    "model = make_model(output_bias=initial_bias)\n",
    "model.predict(train_features[:10])"
   ]
  },
  {
   "cell_type": "code",
   "execution_count": 16,
   "id": "db4005f3",
   "metadata": {},
   "outputs": [
    {
     "name": "stdout",
     "output_type": "stream",
     "text": [
      "WARNING: AutoGraph could not transform <function Model.make_test_function.<locals>.test_function at 0x7f89c66d63b0> and will run it as-is.\n",
      "Please report this to the TensorFlow team. When filing the bug, set the verbosity to 10 (on Linux, `export AUTOGRAPH_VERBOSITY=10`) and attach the full output.\n",
      "Cause: 'arguments' object has no attribute 'posonlyargs'\n",
      "To silence this warning, decorate the function with @tf.autograph.experimental.do_not_convert\n",
      "11/11 [==============================] - 7s 16ms/step - loss: 0.1080 - tp: 70.0000 - fp: 3728.0000 - tn: 37610.0000 - fn: 502.0000 - accuracy: 0.8991 - precision: 0.0184 - recall: 0.1224 - auc: 0.5456 - prc: 0.0171\n",
      "Loss: 0.1080\n"
     ]
    }
   ],
   "source": [
    "results = model.evaluate(train_features, train_labels, batch_size=BATCH_SIZE, verbose=1)\n",
    "print(\"Loss: {:0.4f}\".format(results[0]))"
   ]
  },
  {
   "cell_type": "code",
   "execution_count": 17,
   "id": "a1c96288",
   "metadata": {},
   "outputs": [],
   "source": [
    "initial_weights = os.path.join(tempfile.mkdtemp(), 'initial_weights')\n",
    "model.save_weights(initial_weights)"
   ]
  },
  {
   "cell_type": "code",
   "execution_count": 18,
   "id": "e6800cde",
   "metadata": {},
   "outputs": [
    {
     "name": "stdout",
     "output_type": "stream",
     "text": [
      "Epoch 1/20\n",
      "WARNING: AutoGraph could not transform <function Model.make_train_function.<locals>.train_function at 0x7f89d884d0e0> and will run it as-is.\n",
      "Please report this to the TensorFlow team. When filing the bug, set the verbosity to 10 (on Linux, `export AUTOGRAPH_VERBOSITY=10`) and attach the full output.\n",
      "Cause: 'arguments' object has no attribute 'posonlyargs'\n",
      "To silence this warning, decorate the function with @tf.autograph.experimental.do_not_convert\n",
      " 4/11 [=========>....................] - ETA: 0s - loss: 1.2658 - tp: 138.0000 - fp: 8310.0000 - tn: 41100.0000 - fn: 554.0000 - accuracy: 0.8231 - precision: 0.0163 - recall: 0.1994 - auc: 0.5410 - prc: 0.0158WARNING: AutoGraph could not transform <function Model.make_test_function.<locals>.test_function at 0x7f89c87f0050> and will run it as-is.\n",
      "Please report this to the TensorFlow team. When filing the bug, set the verbosity to 10 (on Linux, `export AUTOGRAPH_VERBOSITY=10`) and attach the full output.\n",
      "Cause: 'arguments' object has no attribute 'posonlyargs'\n",
      "To silence this warning, decorate the function with @tf.autograph.experimental.do_not_convert\n",
      "11/11 [==============================] - 19s 635ms/step - loss: 1.2034 - tp: 244.0000 - fp: 15079.0000 - tn: 46928.0000 - fn: 614.0000 - accuracy: 0.7504 - precision: 0.0159 - recall: 0.2844 - auc: 0.5378 - prc: 0.0163 - val_loss: 0.8766 - val_tp: 62.0000 - val_fp: 4239.0000 - val_tn: 4626.0000 - val_fn: 54.0000 - val_accuracy: 0.5220 - val_precision: 0.0144 - val_recall: 0.5345 - val_auc: 0.5254 - val_prc: 0.0139\n",
      "Epoch 2/20\n",
      "11/11 [==============================] - 0s 34ms/step - loss: 0.9754 - tp: 157.0000 - fp: 9514.0000 - tn: 11155.0000 - fn: 129.0000 - accuracy: 0.5398 - precision: 0.0162 - recall: 0.5490 - auc: 0.5499 - prc: 0.0165 - val_loss: 0.6791 - val_tp: 45.0000 - val_fp: 3120.0000 - val_tn: 5745.0000 - val_fn: 71.0000 - val_accuracy: 0.6447 - val_precision: 0.0142 - val_recall: 0.3879 - val_auc: 0.5292 - val_prc: 0.0140\n",
      "Epoch 3/20\n",
      "11/11 [==============================] - 0s 23ms/step - loss: 0.8004 - tp: 127.0000 - fp: 8127.0000 - tn: 12542.0000 - fn: 159.0000 - accuracy: 0.6046 - precision: 0.0154 - recall: 0.4441 - auc: 0.5307 - prc: 0.0168 - val_loss: 0.5269 - val_tp: 34.0000 - val_fp: 2120.0000 - val_tn: 6745.0000 - val_fn: 82.0000 - val_accuracy: 0.7548 - val_precision: 0.0158 - val_recall: 0.2931 - val_auc: 0.5275 - val_prc: 0.0139\n",
      "Epoch 4/20\n",
      "11/11 [==============================] - 0s 32ms/step - loss: 0.6703 - tp: 112.0000 - fp: 6818.0000 - tn: 13851.0000 - fn: 174.0000 - accuracy: 0.6663 - precision: 0.0162 - recall: 0.3916 - auc: 0.5518 - prc: 0.0178 - val_loss: 0.4145 - val_tp: 20.0000 - val_fp: 1330.0000 - val_tn: 7535.0000 - val_fn: 96.0000 - val_accuracy: 0.8412 - val_precision: 0.0148 - val_recall: 0.1724 - val_auc: 0.5265 - val_prc: 0.0139\n",
      "Epoch 5/20\n",
      "11/11 [==============================] - 0s 43ms/step - loss: 0.5666 - tp: 93.0000 - fp: 5759.0000 - tn: 14910.0000 - fn: 193.0000 - accuracy: 0.7160 - precision: 0.0159 - recall: 0.3252 - auc: 0.5430 - prc: 0.0155 - val_loss: 0.3333 - val_tp: 13.0000 - val_fp: 809.0000 - val_tn: 8056.0000 - val_fn: 103.0000 - val_accuracy: 0.8985 - val_precision: 0.0158 - val_recall: 0.1121 - val_auc: 0.5283 - val_prc: 0.0139\n",
      "Epoch 6/20\n",
      "11/11 [==============================] - 0s 22ms/step - loss: 0.4907 - tp: 100.0000 - fp: 4908.0000 - tn: 15761.0000 - fn: 186.0000 - accuracy: 0.7569 - precision: 0.0200 - recall: 0.3497 - auc: 0.5590 - prc: 0.0195 - val_loss: 0.2751 - val_tp: 6.0000 - val_fp: 499.0000 - val_tn: 8366.0000 - val_fn: 110.0000 - val_accuracy: 0.9322 - val_precision: 0.0119 - val_recall: 0.0517 - val_auc: 0.5299 - val_prc: 0.0140\n",
      "Epoch 7/20\n",
      "11/11 [==============================] - 0s 35ms/step - loss: 0.4372 - tp: 69.0000 - fp: 4244.0000 - tn: 16425.0000 - fn: 217.0000 - accuracy: 0.7871 - precision: 0.0160 - recall: 0.2413 - auc: 0.5481 - prc: 0.0158 - val_loss: 0.2324 - val_tp: 4.0000 - val_fp: 298.0000 - val_tn: 8567.0000 - val_fn: 112.0000 - val_accuracy: 0.9543 - val_precision: 0.0132 - val_recall: 0.0345 - val_auc: 0.5308 - val_prc: 0.0140\n",
      "Epoch 8/20\n",
      "11/11 [==============================] - 0s 35ms/step - loss: 0.3911 - tp: 60.0000 - fp: 3637.0000 - tn: 17032.0000 - fn: 226.0000 - accuracy: 0.8157 - precision: 0.0162 - recall: 0.2098 - auc: 0.5212 - prc: 0.0148 - val_loss: 0.2009 - val_tp: 2.0000 - val_fp: 184.0000 - val_tn: 8681.0000 - val_fn: 114.0000 - val_accuracy: 0.9668 - val_precision: 0.0108 - val_recall: 0.0172 - val_auc: 0.5334 - val_prc: 0.0141\n",
      "Epoch 9/20\n",
      "11/11 [==============================] - 0s 33ms/step - loss: 0.3608 - tp: 48.0000 - fp: 3282.0000 - tn: 17387.0000 - fn: 238.0000 - accuracy: 0.8320 - precision: 0.0144 - recall: 0.1678 - auc: 0.4967 - prc: 0.0137 - val_loss: 0.1769 - val_tp: 2.0000 - val_fp: 105.0000 - val_tn: 8760.0000 - val_fn: 114.0000 - val_accuracy: 0.9756 - val_precision: 0.0187 - val_recall: 0.0172 - val_auc: 0.5348 - val_prc: 0.0142\n",
      "Epoch 10/20\n",
      "11/11 [==============================] - 0s 43ms/step - loss: 0.3277 - tp: 55.0000 - fp: 2975.0000 - tn: 17694.0000 - fn: 231.0000 - accuracy: 0.8470 - precision: 0.0182 - recall: 0.1923 - auc: 0.5590 - prc: 0.0178 - val_loss: 0.1588 - val_tp: 0.0000e+00 - val_fp: 71.0000 - val_tn: 8794.0000 - val_fn: 116.0000 - val_accuracy: 0.9792 - val_precision: 0.0000e+00 - val_recall: 0.0000e+00 - val_auc: 0.5367 - val_prc: 0.0142\n",
      "Epoch 11/20\n",
      "11/11 [==============================] - 0s 19ms/step - loss: 0.3054 - tp: 47.0000 - fp: 2733.0000 - tn: 17936.0000 - fn: 239.0000 - accuracy: 0.8582 - precision: 0.0169 - recall: 0.1643 - auc: 0.5464 - prc: 0.0164 - val_loss: 0.1446 - val_tp: 0.0000e+00 - val_fp: 50.0000 - val_tn: 8815.0000 - val_fn: 116.0000 - val_accuracy: 0.9815 - val_precision: 0.0000e+00 - val_recall: 0.0000e+00 - val_auc: 0.5375 - val_prc: 0.0143\n",
      "Epoch 12/20\n",
      "11/11 [==============================] - 0s 39ms/step - loss: 0.2886 - tp: 42.0000 - fp: 2490.0000 - tn: 18179.0000 - fn: 244.0000 - accuracy: 0.8695 - precision: 0.0166 - recall: 0.1469 - auc: 0.5479 - prc: 0.0158 - val_loss: 0.1337 - val_tp: 0.0000e+00 - val_fp: 34.0000 - val_tn: 8831.0000 - val_fn: 116.0000 - val_accuracy: 0.9833 - val_precision: 0.0000e+00 - val_recall: 0.0000e+00 - val_auc: 0.5390 - val_prc: 0.0144\n",
      "Epoch 13/20\n",
      "11/11 [==============================] - 0s 26ms/step - loss: 0.2768 - tp: 35.0000 - fp: 2302.0000 - tn: 18367.0000 - fn: 251.0000 - accuracy: 0.8782 - precision: 0.0150 - recall: 0.1224 - auc: 0.5212 - prc: 0.0143 - val_loss: 0.1248 - val_tp: 0.0000e+00 - val_fp: 28.0000 - val_tn: 8837.0000 - val_fn: 116.0000 - val_accuracy: 0.9840 - val_precision: 0.0000e+00 - val_recall: 0.0000e+00 - val_auc: 0.5395 - val_prc: 0.0145\n",
      "Epoch 14/20\n",
      "11/11 [==============================] - 0s 32ms/step - loss: 0.2611 - tp: 27.0000 - fp: 2171.0000 - tn: 18498.0000 - fn: 259.0000 - accuracy: 0.8840 - precision: 0.0123 - recall: 0.0944 - auc: 0.5357 - prc: 0.0148 - val_loss: 0.1176 - val_tp: 0.0000e+00 - val_fp: 20.0000 - val_tn: 8845.0000 - val_fn: 116.0000 - val_accuracy: 0.9849 - val_precision: 0.0000e+00 - val_recall: 0.0000e+00 - val_auc: 0.5428 - val_prc: 0.0146\n",
      "Epoch 15/20\n",
      "11/11 [==============================] - 0s 26ms/step - loss: 0.2510 - tp: 41.0000 - fp: 2014.0000 - tn: 18655.0000 - fn: 245.0000 - accuracy: 0.8922 - precision: 0.0200 - recall: 0.1434 - auc: 0.5490 - prc: 0.0175 - val_loss: 0.1115 - val_tp: 0.0000e+00 - val_fp: 16.0000 - val_tn: 8849.0000 - val_fn: 116.0000 - val_accuracy: 0.9853 - val_precision: 0.0000e+00 - val_recall: 0.0000e+00 - val_auc: 0.5427 - val_prc: 0.0147\n",
      "Epoch 16/20\n",
      "11/11 [==============================] - 0s 37ms/step - loss: 0.2412 - tp: 33.0000 - fp: 1832.0000 - tn: 18837.0000 - fn: 253.0000 - accuracy: 0.9005 - precision: 0.0177 - recall: 0.1154 - auc: 0.5495 - prc: 0.0161 - val_loss: 0.1064 - val_tp: 0.0000e+00 - val_fp: 13.0000 - val_tn: 8852.0000 - val_fn: 116.0000 - val_accuracy: 0.9856 - val_precision: 0.0000e+00 - val_recall: 0.0000e+00 - val_auc: 0.5432 - val_prc: 0.0147\n",
      "Epoch 17/20\n"
     ]
    },
    {
     "name": "stdout",
     "output_type": "stream",
     "text": [
      "11/11 [==============================] - 0s 38ms/step - loss: 0.2340 - tp: 30.0000 - fp: 1708.0000 - tn: 18961.0000 - fn: 256.0000 - accuracy: 0.9063 - precision: 0.0173 - recall: 0.1049 - auc: 0.5163 - prc: 0.0150 - val_loss: 0.1020 - val_tp: 0.0000e+00 - val_fp: 11.0000 - val_tn: 8854.0000 - val_fn: 116.0000 - val_accuracy: 0.9859 - val_precision: 0.0000e+00 - val_recall: 0.0000e+00 - val_auc: 0.5458 - val_prc: 0.0148\n",
      "Epoch 18/20\n",
      "11/11 [==============================] - 0s 35ms/step - loss: 0.2223 - tp: 29.0000 - fp: 1630.0000 - tn: 19039.0000 - fn: 257.0000 - accuracy: 0.9099 - precision: 0.0175 - recall: 0.1014 - auc: 0.5448 - prc: 0.0157 - val_loss: 0.0986 - val_tp: 0.0000e+00 - val_fp: 8.0000 - val_tn: 8857.0000 - val_fn: 116.0000 - val_accuracy: 0.9862 - val_precision: 0.0000e+00 - val_recall: 0.0000e+00 - val_auc: 0.5465 - val_prc: 0.0149\n",
      "Epoch 19/20\n",
      "11/11 [==============================] - 0s 30ms/step - loss: 0.2188 - tp: 27.0000 - fp: 1509.0000 - tn: 19160.0000 - fn: 259.0000 - accuracy: 0.9156 - precision: 0.0176 - recall: 0.0944 - auc: 0.5334 - prc: 0.0151 - val_loss: 0.0956 - val_tp: 0.0000e+00 - val_fp: 6.0000 - val_tn: 8859.0000 - val_fn: 116.0000 - val_accuracy: 0.9864 - val_precision: 0.0000e+00 - val_recall: 0.0000e+00 - val_auc: 0.5456 - val_prc: 0.0149\n",
      "Epoch 20/20\n",
      "11/11 [==============================] - 0s 24ms/step - loss: 0.2119 - tp: 28.0000 - fp: 1433.0000 - tn: 19236.0000 - fn: 258.0000 - accuracy: 0.9193 - precision: 0.0192 - recall: 0.0979 - auc: 0.5407 - prc: 0.0166 - val_loss: 0.0930 - val_tp: 0.0000e+00 - val_fp: 4.0000 - val_tn: 8861.0000 - val_fn: 116.0000 - val_accuracy: 0.9866 - val_precision: 0.0000e+00 - val_recall: 0.0000e+00 - val_auc: 0.5490 - val_prc: 0.0150\n"
     ]
    }
   ],
   "source": [
    "model = make_model()\n",
    "model.load_weights(initial_weights)\n",
    "model.layers[-1].bias.assign([0.0])\n",
    "zero_bias_history = model.fit(\n",
    "    train_features,\n",
    "    train_labels,\n",
    "    batch_size=BATCH_SIZE,\n",
    "    epochs=20,\n",
    "    validation_data=(val_features, val_labels), \n",
    "    verbose=1)"
   ]
  },
  {
   "cell_type": "code",
   "execution_count": 19,
   "id": "88c7947b",
   "metadata": {},
   "outputs": [
    {
     "name": "stdout",
     "output_type": "stream",
     "text": [
      "Epoch 1/20\n",
      "WARNING: AutoGraph could not transform <function Model.make_train_function.<locals>.train_function at 0x7f89ca70a950> and will run it as-is.\n",
      "Please report this to the TensorFlow team. When filing the bug, set the verbosity to 10 (on Linux, `export AUTOGRAPH_VERBOSITY=10`) and attach the full output.\n",
      "Cause: 'arguments' object has no attribute 'posonlyargs'\n",
      "To silence this warning, decorate the function with @tf.autograph.experimental.do_not_convert\n",
      " 8/11 [====================>.........] - ETA: 0s - loss: 0.1655 - tp: 17.0000 - fp: 559.0000 - tn: 24467.0000 - fn: 322.0000 - accuracy: 0.9653 - precision: 0.0295 - recall: 0.0501 - auc: 0.5502 - prc: 0.0177WARNING: AutoGraph could not transform <function Model.make_test_function.<locals>.test_function at 0x7f89cd38e9e0> and will run it as-is.\n",
      "Please report this to the TensorFlow team. When filing the bug, set the verbosity to 10 (on Linux, `export AUTOGRAPH_VERBOSITY=10`) and attach the full output.\n",
      "Cause: 'arguments' object has no attribute 'posonlyargs'\n",
      "To silence this warning, decorate the function with @tf.autograph.experimental.do_not_convert\n",
      "11/11 [==============================] - 18s 546ms/step - loss: 0.1626 - tp: 20.0000 - fp: 670.0000 - tn: 28864.0000 - fn: 382.0000 - accuracy: 0.9649 - precision: 0.0290 - recall: 0.0498 - auc: 0.5454 - prc: 0.0174 - val_loss: 0.0865 - val_tp: 0.0000e+00 - val_fp: 22.0000 - val_tn: 8843.0000 - val_fn: 116.0000 - val_accuracy: 0.9846 - val_precision: 0.0000e+00 - val_recall: 0.0000e+00 - val_auc: 0.5097 - val_prc: 0.0135\n",
      "Epoch 2/20\n",
      "11/11 [==============================] - 0s 23ms/step - loss: 0.1292 - tp: 12.0000 - fp: 375.0000 - tn: 20294.0000 - fn: 274.0000 - accuracy: 0.9690 - precision: 0.0310 - recall: 0.0420 - auc: 0.5209 - prc: 0.0159 - val_loss: 0.0787 - val_tp: 0.0000e+00 - val_fp: 7.0000 - val_tn: 8858.0000 - val_fn: 116.0000 - val_accuracy: 0.9863 - val_precision: 0.0000e+00 - val_recall: 0.0000e+00 - val_auc: 0.5005 - val_prc: 0.0131\n",
      "Epoch 3/20\n",
      "11/11 [==============================] - 0s 25ms/step - loss: 0.1131 - tp: 7.0000 - fp: 207.0000 - tn: 20462.0000 - fn: 279.0000 - accuracy: 0.9768 - precision: 0.0327 - recall: 0.0245 - auc: 0.5095 - prc: 0.0150 - val_loss: 0.0754 - val_tp: 0.0000e+00 - val_fp: 4.0000 - val_tn: 8861.0000 - val_fn: 116.0000 - val_accuracy: 0.9866 - val_precision: 0.0000e+00 - val_recall: 0.0000e+00 - val_auc: 0.5085 - val_prc: 0.0134\n",
      "Epoch 4/20\n",
      "11/11 [==============================] - 0s 22ms/step - loss: 0.0981 - tp: 3.0000 - fp: 117.0000 - tn: 20552.0000 - fn: 283.0000 - accuracy: 0.9809 - precision: 0.0250 - recall: 0.0105 - auc: 0.5496 - prc: 0.0172 - val_loss: 0.0742 - val_tp: 0.0000e+00 - val_fp: 4.0000 - val_tn: 8861.0000 - val_fn: 116.0000 - val_accuracy: 0.9866 - val_precision: 0.0000e+00 - val_recall: 0.0000e+00 - val_auc: 0.5062 - val_prc: 0.0132\n",
      "Epoch 5/20\n",
      "11/11 [==============================] - 0s 24ms/step - loss: 0.0967 - tp: 1.0000 - fp: 107.0000 - tn: 20562.0000 - fn: 285.0000 - accuracy: 0.9813 - precision: 0.0093 - recall: 0.0035 - auc: 0.5389 - prc: 0.0162 - val_loss: 0.0737 - val_tp: 0.0000e+00 - val_fp: 4.0000 - val_tn: 8861.0000 - val_fn: 116.0000 - val_accuracy: 0.9866 - val_precision: 0.0000e+00 - val_recall: 0.0000e+00 - val_auc: 0.5267 - val_prc: 0.0137\n",
      "Epoch 6/20\n",
      "11/11 [==============================] - 0s 32ms/step - loss: 0.0904 - tp: 1.0000 - fp: 68.0000 - tn: 20601.0000 - fn: 285.0000 - accuracy: 0.9832 - precision: 0.0145 - recall: 0.0035 - auc: 0.5656 - prc: 0.0182 - val_loss: 0.0733 - val_tp: 0.0000e+00 - val_fp: 2.0000 - val_tn: 8863.0000 - val_fn: 116.0000 - val_accuracy: 0.9869 - val_precision: 0.0000e+00 - val_recall: 0.0000e+00 - val_auc: 0.5336 - val_prc: 0.0141\n",
      "Epoch 7/20\n",
      "11/11 [==============================] - 0s 29ms/step - loss: 0.0907 - tp: 1.0000 - fp: 48.0000 - tn: 20621.0000 - fn: 285.0000 - accuracy: 0.9841 - precision: 0.0204 - recall: 0.0035 - auc: 0.5497 - prc: 0.0163 - val_loss: 0.0730 - val_tp: 0.0000e+00 - val_fp: 2.0000 - val_tn: 8863.0000 - val_fn: 116.0000 - val_accuracy: 0.9869 - val_precision: 0.0000e+00 - val_recall: 0.0000e+00 - val_auc: 0.5356 - val_prc: 0.0142\n",
      "Epoch 8/20\n",
      "11/11 [==============================] - 0s 32ms/step - loss: 0.0869 - tp: 1.0000 - fp: 54.0000 - tn: 20615.0000 - fn: 285.0000 - accuracy: 0.9838 - precision: 0.0182 - recall: 0.0035 - auc: 0.5621 - prc: 0.0188 - val_loss: 0.0727 - val_tp: 0.0000e+00 - val_fp: 1.0000 - val_tn: 8864.0000 - val_fn: 116.0000 - val_accuracy: 0.9870 - val_precision: 0.0000e+00 - val_recall: 0.0000e+00 - val_auc: 0.5338 - val_prc: 0.0141\n",
      "Epoch 9/20\n",
      "11/11 [==============================] - 0s 21ms/step - loss: 0.0861 - tp: 0.0000e+00 - fp: 42.0000 - tn: 20627.0000 - fn: 286.0000 - accuracy: 0.9843 - precision: 0.0000e+00 - recall: 0.0000e+00 - auc: 0.5757 - prc: 0.0175 - val_loss: 0.0725 - val_tp: 0.0000e+00 - val_fp: 1.0000 - val_tn: 8864.0000 - val_fn: 116.0000 - val_accuracy: 0.9870 - val_precision: 0.0000e+00 - val_recall: 0.0000e+00 - val_auc: 0.5447 - val_prc: 0.0148\n",
      "Epoch 10/20\n",
      "11/11 [==============================] - 0s 29ms/step - loss: 0.0832 - tp: 1.0000 - fp: 29.0000 - tn: 20640.0000 - fn: 285.0000 - accuracy: 0.9850 - precision: 0.0333 - recall: 0.0035 - auc: 0.5748 - prc: 0.0183 - val_loss: 0.0722 - val_tp: 0.0000e+00 - val_fp: 1.0000 - val_tn: 8864.0000 - val_fn: 116.0000 - val_accuracy: 0.9870 - val_precision: 0.0000e+00 - val_recall: 0.0000e+00 - val_auc: 0.5469 - val_prc: 0.0149\n",
      "Epoch 11/20\n",
      "11/11 [==============================] - 0s 23ms/step - loss: 0.0826 - tp: 0.0000e+00 - fp: 23.0000 - tn: 20646.0000 - fn: 286.0000 - accuracy: 0.9853 - precision: 0.0000e+00 - recall: 0.0000e+00 - auc: 0.5875 - prc: 0.0190 - val_loss: 0.0720 - val_tp: 0.0000e+00 - val_fp: 1.0000 - val_tn: 8864.0000 - val_fn: 116.0000 - val_accuracy: 0.9870 - val_precision: 0.0000e+00 - val_recall: 0.0000e+00 - val_auc: 0.5503 - val_prc: 0.0149\n",
      "Epoch 12/20\n",
      "11/11 [==============================] - 0s 23ms/step - loss: 0.0811 - tp: 1.0000 - fp: 19.0000 - tn: 20650.0000 - fn: 285.0000 - accuracy: 0.9855 - precision: 0.0500 - recall: 0.0035 - auc: 0.5920 - prc: 0.0214 - val_loss: 0.0718 - val_tp: 0.0000e+00 - val_fp: 1.0000 - val_tn: 8864.0000 - val_fn: 116.0000 - val_accuracy: 0.9870 - val_precision: 0.0000e+00 - val_recall: 0.0000e+00 - val_auc: 0.5577 - val_prc: 0.0155\n",
      "Epoch 13/20\n",
      "11/11 [==============================] - 0s 23ms/step - loss: 0.0809 - tp: 2.0000 - fp: 12.0000 - tn: 20657.0000 - fn: 284.0000 - accuracy: 0.9859 - precision: 0.1429 - recall: 0.0070 - auc: 0.5620 - prc: 0.0191 - val_loss: 0.0716 - val_tp: 0.0000e+00 - val_fp: 1.0000 - val_tn: 8864.0000 - val_fn: 116.0000 - val_accuracy: 0.9870 - val_precision: 0.0000e+00 - val_recall: 0.0000e+00 - val_auc: 0.5615 - val_prc: 0.0158\n",
      "Epoch 14/20\n",
      "11/11 [==============================] - 0s 29ms/step - loss: 0.0802 - tp: 1.0000 - fp: 17.0000 - tn: 20652.0000 - fn: 285.0000 - accuracy: 0.9856 - precision: 0.0556 - recall: 0.0035 - auc: 0.5825 - prc: 0.0229 - val_loss: 0.0715 - val_tp: 0.0000e+00 - val_fp: 1.0000 - val_tn: 8864.0000 - val_fn: 116.0000 - val_accuracy: 0.9870 - val_precision: 0.0000e+00 - val_recall: 0.0000e+00 - val_auc: 0.5593 - val_prc: 0.0156\n",
      "Epoch 15/20\n",
      "11/11 [==============================] - 0s 25ms/step - loss: 0.0784 - tp: 2.0000 - fp: 10.0000 - tn: 20659.0000 - fn: 284.0000 - accuracy: 0.9860 - precision: 0.1667 - recall: 0.0070 - auc: 0.5762 - prc: 0.0218 - val_loss: 0.0713 - val_tp: 0.0000e+00 - val_fp: 0.0000e+00 - val_tn: 8865.0000 - val_fn: 116.0000 - val_accuracy: 0.9871 - val_precision: 0.0000e+00 - val_recall: 0.0000e+00 - val_auc: 0.5634 - val_prc: 0.0159\n",
      "Epoch 16/20\n",
      "11/11 [==============================] - 0s 21ms/step - loss: 0.0789 - tp: 0.0000e+00 - fp: 8.0000 - tn: 20661.0000 - fn: 286.0000 - accuracy: 0.9860 - precision: 0.0000e+00 - recall: 0.0000e+00 - auc: 0.5838 - prc: 0.0195 - val_loss: 0.0712 - val_tp: 0.0000e+00 - val_fp: 0.0000e+00 - val_tn: 8865.0000 - val_fn: 116.0000 - val_accuracy: 0.9871 - val_precision: 0.0000e+00 - val_recall: 0.0000e+00 - val_auc: 0.5616 - val_prc: 0.0159\n",
      "Epoch 17/20\n"
     ]
    },
    {
     "name": "stdout",
     "output_type": "stream",
     "text": [
      "11/11 [==============================] - 0s 35ms/step - loss: 0.0790 - tp: 0.0000e+00 - fp: 10.0000 - tn: 20659.0000 - fn: 286.0000 - accuracy: 0.9859 - precision: 0.0000e+00 - recall: 0.0000e+00 - auc: 0.5825 - prc: 0.0198 - val_loss: 0.0709 - val_tp: 0.0000e+00 - val_fp: 0.0000e+00 - val_tn: 8865.0000 - val_fn: 116.0000 - val_accuracy: 0.9871 - val_precision: 0.0000e+00 - val_recall: 0.0000e+00 - val_auc: 0.5693 - val_prc: 0.0164\n",
      "Epoch 18/20\n",
      "11/11 [==============================] - 0s 36ms/step - loss: 0.0772 - tp: 1.0000 - fp: 9.0000 - tn: 20660.0000 - fn: 285.0000 - accuracy: 0.9860 - precision: 0.1000 - recall: 0.0035 - auc: 0.6113 - prc: 0.0219 - val_loss: 0.0707 - val_tp: 0.0000e+00 - val_fp: 0.0000e+00 - val_tn: 8865.0000 - val_fn: 116.0000 - val_accuracy: 0.9871 - val_precision: 0.0000e+00 - val_recall: 0.0000e+00 - val_auc: 0.5799 - val_prc: 0.0166\n",
      "Epoch 19/20\n",
      "11/11 [==============================] - 0s 25ms/step - loss: 0.0768 - tp: 0.0000e+00 - fp: 12.0000 - tn: 20657.0000 - fn: 286.0000 - accuracy: 0.9858 - precision: 0.0000e+00 - recall: 0.0000e+00 - auc: 0.6171 - prc: 0.0220 - val_loss: 0.0705 - val_tp: 0.0000e+00 - val_fp: 0.0000e+00 - val_tn: 8865.0000 - val_fn: 116.0000 - val_accuracy: 0.9871 - val_precision: 0.0000e+00 - val_recall: 0.0000e+00 - val_auc: 0.5823 - val_prc: 0.0171\n",
      "Epoch 20/20\n",
      "11/11 [==============================] - 0s 20ms/step - loss: 0.0747 - tp: 0.0000e+00 - fp: 10.0000 - tn: 20659.0000 - fn: 286.0000 - accuracy: 0.9859 - precision: 0.0000e+00 - recall: 0.0000e+00 - auc: 0.6414 - prc: 0.0233 - val_loss: 0.0704 - val_tp: 0.0000e+00 - val_fp: 0.0000e+00 - val_tn: 8865.0000 - val_fn: 116.0000 - val_accuracy: 0.9871 - val_precision: 0.0000e+00 - val_recall: 0.0000e+00 - val_auc: 0.5849 - val_prc: 0.0174\n"
     ]
    }
   ],
   "source": [
    "model = make_model()\n",
    "model.load_weights(initial_weights)\n",
    "careful_bias_history = model.fit(\n",
    "    train_features,\n",
    "    train_labels,\n",
    "    batch_size=BATCH_SIZE,\n",
    "    epochs=20,\n",
    "    validation_data=(val_features, val_labels), \n",
    "    verbose=1)"
   ]
  },
  {
   "cell_type": "code",
   "execution_count": 20,
   "id": "1e23538e",
   "metadata": {},
   "outputs": [],
   "source": [
    "def plot_loss(history, label, n):\n",
    "  # Use a log scale on y-axis to show the wide range of values.\n",
    "  plt.semilogy(history.epoch, history.history['loss'],\n",
    "               color=colors[n], label='Train ' + label)\n",
    "  plt.semilogy(history.epoch, history.history['val_loss'],\n",
    "               color=colors[n], label='Val ' + label,\n",
    "               linestyle=\"--\")\n",
    "  plt.xlabel('Epoch')\n",
    "  plt.ylabel('Loss')"
   ]
  },
  {
   "cell_type": "code",
   "execution_count": 21,
   "id": "d98f0dd2",
   "metadata": {},
   "outputs": [
    {
     "data": {
      "image/png": "[encoded data removed]",
      "text/plain": [
       "<Figure size 432x288 with 1 Axes>"
      ]
     },
     "metadata": {
      "needs_background": "light"
     },
     "output_type": "display_data"
    }
   ],
   "source": [
    "plot_loss(zero_bias_history, \"Zero Bias\", 0)\n",
    "plot_loss(careful_bias_history, \"Careful Bias\", 1)"
   ]
  },
  {
   "cell_type": "code",
   "execution_count": 22,
   "id": "6ecd05c0",
   "metadata": {},
   "outputs": [
    {
     "name": "stdout",
     "output_type": "stream",
     "text": [
      "Epoch 1/200\n",
      "WARNING: AutoGraph could not transform <function Model.make_train_function.<locals>.train_function at 0x7f89cfb30cb0> and will run it as-is.\n",
      "Please report this to the TensorFlow team. When filing the bug, set the verbosity to 10 (on Linux, `export AUTOGRAPH_VERBOSITY=10`) and attach the full output.\n",
      "Cause: 'arguments' object has no attribute 'posonlyargs'\n",
      "To silence this warning, decorate the function with @tf.autograph.experimental.do_not_convert\n",
      "11/11 [==============================] - ETA: 0s - loss: 0.1599 - tp: 20.0000 - fp: 661.0000 - tn: 28873.0000 - fn: 382.0000 - accuracy: 0.9652 - precision: 0.0294 - recall: 0.0498 - auc: 0.5389 - prc: 0.0171WARNING: AutoGraph could not transform <function Model.make_test_function.<locals>.test_function at 0x7f89ca670d40> and will run it as-is.\n",
      "Please report this to the TensorFlow team. When filing the bug, set the verbosity to 10 (on Linux, `export AUTOGRAPH_VERBOSITY=10`) and attach the full output.\n",
      "Cause: 'arguments' object has no attribute 'posonlyargs'\n",
      "To silence this warning, decorate the function with @tf.autograph.experimental.do_not_convert\n",
      "11/11 [==============================] - 20s 526ms/step - loss: 0.1599 - tp: 20.0000 - fp: 661.0000 - tn: 28873.0000 - fn: 382.0000 - accuracy: 0.9652 - precision: 0.0294 - recall: 0.0498 - auc: 0.5389 - prc: 0.0171 - val_loss: 0.0865 - val_tp: 0.0000e+00 - val_fp: 22.0000 - val_tn: 8843.0000 - val_fn: 116.0000 - val_accuracy: 0.9846 - val_precision: 0.0000e+00 - val_recall: 0.0000e+00 - val_auc: 0.5121 - val_prc: 0.0135\n",
      "Epoch 2/200\n",
      "11/11 [==============================] - 0s 24ms/step - loss: 0.1308 - tp: 12.0000 - fp: 373.0000 - tn: 20296.0000 - fn: 274.0000 - accuracy: 0.9691 - precision: 0.0312 - recall: 0.0420 - auc: 0.5066 - prc: 0.0158 - val_loss: 0.0789 - val_tp: 0.0000e+00 - val_fp: 6.0000 - val_tn: 8859.0000 - val_fn: 116.0000 - val_accuracy: 0.9864 - val_precision: 0.0000e+00 - val_recall: 0.0000e+00 - val_auc: 0.5061 - val_prc: 0.0131\n",
      "Epoch 3/200\n",
      "11/11 [==============================] - 0s 16ms/step - loss: 0.1124 - tp: 4.0000 - fp: 203.0000 - tn: 20466.0000 - fn: 282.0000 - accuracy: 0.9769 - precision: 0.0193 - recall: 0.0140 - auc: 0.5150 - prc: 0.0150 - val_loss: 0.0756 - val_tp: 0.0000e+00 - val_fp: 4.0000 - val_tn: 8861.0000 - val_fn: 116.0000 - val_accuracy: 0.9866 - val_precision: 0.0000e+00 - val_recall: 0.0000e+00 - val_auc: 0.5113 - val_prc: 0.0132\n",
      "Epoch 4/200\n",
      "11/11 [==============================] - 0s 16ms/step - loss: 0.0997 - tp: 1.0000 - fp: 123.0000 - tn: 20546.0000 - fn: 285.0000 - accuracy: 0.9805 - precision: 0.0081 - recall: 0.0035 - auc: 0.5535 - prc: 0.0186 - val_loss: 0.0743 - val_tp: 0.0000e+00 - val_fp: 4.0000 - val_tn: 8861.0000 - val_fn: 116.0000 - val_accuracy: 0.9866 - val_precision: 0.0000e+00 - val_recall: 0.0000e+00 - val_auc: 0.5147 - val_prc: 0.0133\n",
      "Epoch 5/200\n",
      "11/11 [==============================] - 0s 18ms/step - loss: 0.0942 - tp: 1.0000 - fp: 92.0000 - tn: 20577.0000 - fn: 285.0000 - accuracy: 0.9820 - precision: 0.0108 - recall: 0.0035 - auc: 0.5515 - prc: 0.0168 - val_loss: 0.0736 - val_tp: 0.0000e+00 - val_fp: 4.0000 - val_tn: 8861.0000 - val_fn: 116.0000 - val_accuracy: 0.9866 - val_precision: 0.0000e+00 - val_recall: 0.0000e+00 - val_auc: 0.5275 - val_prc: 0.0137\n",
      "Epoch 6/200\n",
      "11/11 [==============================] - 0s 21ms/step - loss: 0.0905 - tp: 0.0000e+00 - fp: 57.0000 - tn: 20612.0000 - fn: 286.0000 - accuracy: 0.9836 - precision: 0.0000e+00 - recall: 0.0000e+00 - auc: 0.5483 - prc: 0.0167 - val_loss: 0.0732 - val_tp: 0.0000e+00 - val_fp: 2.0000 - val_tn: 8863.0000 - val_fn: 116.0000 - val_accuracy: 0.9869 - val_precision: 0.0000e+00 - val_recall: 0.0000e+00 - val_auc: 0.5354 - val_prc: 0.0142\n",
      "Epoch 7/200\n",
      "11/11 [==============================] - 0s 19ms/step - loss: 0.0908 - tp: 1.0000 - fp: 57.0000 - tn: 20612.0000 - fn: 285.0000 - accuracy: 0.9837 - precision: 0.0172 - recall: 0.0035 - auc: 0.5402 - prc: 0.0162 - val_loss: 0.0730 - val_tp: 0.0000e+00 - val_fp: 1.0000 - val_tn: 8864.0000 - val_fn: 116.0000 - val_accuracy: 0.9870 - val_precision: 0.0000e+00 - val_recall: 0.0000e+00 - val_auc: 0.5431 - val_prc: 0.0145\n",
      "Epoch 8/200\n",
      "11/11 [==============================] - 0s 18ms/step - loss: 0.0884 - tp: 1.0000 - fp: 52.0000 - tn: 20617.0000 - fn: 285.0000 - accuracy: 0.9839 - precision: 0.0189 - recall: 0.0035 - auc: 0.5438 - prc: 0.0165 - val_loss: 0.0728 - val_tp: 0.0000e+00 - val_fp: 1.0000 - val_tn: 8864.0000 - val_fn: 116.0000 - val_accuracy: 0.9870 - val_precision: 0.0000e+00 - val_recall: 0.0000e+00 - val_auc: 0.5437 - val_prc: 0.0147\n",
      "Epoch 9/200\n",
      "11/11 [==============================] - 0s 19ms/step - loss: 0.0861 - tp: 1.0000 - fp: 29.0000 - tn: 20640.0000 - fn: 285.0000 - accuracy: 0.9850 - precision: 0.0333 - recall: 0.0035 - auc: 0.5521 - prc: 0.0184 - val_loss: 0.0725 - val_tp: 0.0000e+00 - val_fp: 1.0000 - val_tn: 8864.0000 - val_fn: 116.0000 - val_accuracy: 0.9870 - val_precision: 0.0000e+00 - val_recall: 0.0000e+00 - val_auc: 0.5487 - val_prc: 0.0149\n",
      "Epoch 10/200\n",
      "11/11 [==============================] - 0s 19ms/step - loss: 0.0867 - tp: 0.0000e+00 - fp: 27.0000 - tn: 20642.0000 - fn: 286.0000 - accuracy: 0.9851 - precision: 0.0000e+00 - recall: 0.0000e+00 - auc: 0.5311 - prc: 0.0168 - val_loss: 0.0721 - val_tp: 0.0000e+00 - val_fp: 1.0000 - val_tn: 8864.0000 - val_fn: 116.0000 - val_accuracy: 0.9870 - val_precision: 0.0000e+00 - val_recall: 0.0000e+00 - val_auc: 0.5567 - val_prc: 0.0151\n",
      "Epoch 11/200\n",
      "11/11 [==============================] - 0s 22ms/step - loss: 0.0837 - tp: 0.0000e+00 - fp: 26.0000 - tn: 20643.0000 - fn: 286.0000 - accuracy: 0.9851 - precision: 0.0000e+00 - recall: 0.0000e+00 - auc: 0.5788 - prc: 0.0190 - val_loss: 0.0719 - val_tp: 0.0000e+00 - val_fp: 1.0000 - val_tn: 8864.0000 - val_fn: 116.0000 - val_accuracy: 0.9870 - val_precision: 0.0000e+00 - val_recall: 0.0000e+00 - val_auc: 0.5683 - val_prc: 0.0156\n",
      "Epoch 12/200\n",
      "11/11 [==============================] - 0s 18ms/step - loss: 0.0801 - tp: 1.0000 - fp: 18.0000 - tn: 20651.0000 - fn: 285.0000 - accuracy: 0.9855 - precision: 0.0526 - recall: 0.0035 - auc: 0.5939 - prc: 0.0196 - val_loss: 0.0717 - val_tp: 0.0000e+00 - val_fp: 1.0000 - val_tn: 8864.0000 - val_fn: 116.0000 - val_accuracy: 0.9870 - val_precision: 0.0000e+00 - val_recall: 0.0000e+00 - val_auc: 0.5607 - val_prc: 0.0158\n",
      "Epoch 13/200\n",
      "11/11 [==============================] - 0s 19ms/step - loss: 0.0796 - tp: 0.0000e+00 - fp: 17.0000 - tn: 20652.0000 - fn: 286.0000 - accuracy: 0.9855 - precision: 0.0000e+00 - recall: 0.0000e+00 - auc: 0.6032 - prc: 0.0204 - val_loss: 0.0715 - val_tp: 0.0000e+00 - val_fp: 1.0000 - val_tn: 8864.0000 - val_fn: 116.0000 - val_accuracy: 0.9870 - val_precision: 0.0000e+00 - val_recall: 0.0000e+00 - val_auc: 0.5581 - val_prc: 0.0155\n",
      "Epoch 14/200\n",
      "11/11 [==============================] - 0s 23ms/step - loss: 0.0786 - tp: 2.0000 - fp: 21.0000 - tn: 20648.0000 - fn: 284.0000 - accuracy: 0.9854 - precision: 0.0870 - recall: 0.0070 - auc: 0.6028 - prc: 0.0227 - val_loss: 0.0715 - val_tp: 0.0000e+00 - val_fp: 1.0000 - val_tn: 8864.0000 - val_fn: 116.0000 - val_accuracy: 0.9870 - val_precision: 0.0000e+00 - val_recall: 0.0000e+00 - val_auc: 0.5607 - val_prc: 0.0158\n",
      "Epoch 15/200\n",
      "11/11 [==============================] - 0s 21ms/step - loss: 0.0776 - tp: 0.0000e+00 - fp: 11.0000 - tn: 20658.0000 - fn: 286.0000 - accuracy: 0.9858 - precision: 0.0000e+00 - recall: 0.0000e+00 - auc: 0.6179 - prc: 0.0218 - val_loss: 0.0713 - val_tp: 0.0000e+00 - val_fp: 1.0000 - val_tn: 8864.0000 - val_fn: 116.0000 - val_accuracy: 0.9870 - val_precision: 0.0000e+00 - val_recall: 0.0000e+00 - val_auc: 0.5644 - val_prc: 0.0160\n",
      "Epoch 16/200\n",
      "11/11 [==============================] - 0s 21ms/step - loss: 0.0789 - tp: 0.0000e+00 - fp: 19.0000 - tn: 20650.0000 - fn: 286.0000 - accuracy: 0.9854 - precision: 0.0000e+00 - recall: 0.0000e+00 - auc: 0.6156 - prc: 0.0202 - val_loss: 0.0712 - val_tp: 0.0000e+00 - val_fp: 1.0000 - val_tn: 8864.0000 - val_fn: 116.0000 - val_accuracy: 0.9870 - val_precision: 0.0000e+00 - val_recall: 0.0000e+00 - val_auc: 0.5657 - val_prc: 0.0160\n",
      "Epoch 17/200\n"
     ]
    },
    {
     "name": "stdout",
     "output_type": "stream",
     "text": [
      "11/11 [==============================] - 0s 27ms/step - loss: 0.0774 - tp: 1.0000 - fp: 10.0000 - tn: 20659.0000 - fn: 285.0000 - accuracy: 0.9859 - precision: 0.0909 - recall: 0.0035 - auc: 0.6026 - prc: 0.0228 - val_loss: 0.0711 - val_tp: 0.0000e+00 - val_fp: 0.0000e+00 - val_tn: 8865.0000 - val_fn: 116.0000 - val_accuracy: 0.9871 - val_precision: 0.0000e+00 - val_recall: 0.0000e+00 - val_auc: 0.5643 - val_prc: 0.0162\n",
      "Epoch 18/200\n",
      "11/11 [==============================] - 0s 32ms/step - loss: 0.0794 - tp: 1.0000 - fp: 11.0000 - tn: 20658.0000 - fn: 285.0000 - accuracy: 0.9859 - precision: 0.0833 - recall: 0.0035 - auc: 0.5867 - prc: 0.0183 - val_loss: 0.0709 - val_tp: 0.0000e+00 - val_fp: 0.0000e+00 - val_tn: 8865.0000 - val_fn: 116.0000 - val_accuracy: 0.9871 - val_precision: 0.0000e+00 - val_recall: 0.0000e+00 - val_auc: 0.5675 - val_prc: 0.0163\n",
      "Epoch 19/200\n",
      "11/11 [==============================] - 0s 21ms/step - loss: 0.0760 - tp: 0.0000e+00 - fp: 4.0000 - tn: 20665.0000 - fn: 286.0000 - accuracy: 0.9862 - precision: 0.0000e+00 - recall: 0.0000e+00 - auc: 0.6180 - prc: 0.0224 - val_loss: 0.0708 - val_tp: 0.0000e+00 - val_fp: 0.0000e+00 - val_tn: 8865.0000 - val_fn: 116.0000 - val_accuracy: 0.9871 - val_precision: 0.0000e+00 - val_recall: 0.0000e+00 - val_auc: 0.5666 - val_prc: 0.0162\n",
      "Epoch 20/200\n",
      "11/11 [==============================] - 1s 40ms/step - loss: 0.0745 - tp: 0.0000e+00 - fp: 6.0000 - tn: 20663.0000 - fn: 286.0000 - accuracy: 0.9861 - precision: 0.0000e+00 - recall: 0.0000e+00 - auc: 0.6453 - prc: 0.0257 - val_loss: 0.0706 - val_tp: 0.0000e+00 - val_fp: 0.0000e+00 - val_tn: 8865.0000 - val_fn: 116.0000 - val_accuracy: 0.9871 - val_precision: 0.0000e+00 - val_recall: 0.0000e+00 - val_auc: 0.5764 - val_prc: 0.0169\n",
      "Epoch 21/200\n",
      "11/11 [==============================] - 0s 28ms/step - loss: 0.0772 - tp: 0.0000e+00 - fp: 9.0000 - tn: 20660.0000 - fn: 286.0000 - accuracy: 0.9859 - precision: 0.0000e+00 - recall: 0.0000e+00 - auc: 0.6095 - prc: 0.0206 - val_loss: 0.0705 - val_tp: 0.0000e+00 - val_fp: 0.0000e+00 - val_tn: 8865.0000 - val_fn: 116.0000 - val_accuracy: 0.9871 - val_precision: 0.0000e+00 - val_recall: 0.0000e+00 - val_auc: 0.5783 - val_prc: 0.0169\n",
      "Epoch 22/200\n",
      "11/11 [==============================] - 0s 28ms/step - loss: 0.0765 - tp: 0.0000e+00 - fp: 9.0000 - tn: 20660.0000 - fn: 286.0000 - accuracy: 0.9859 - precision: 0.0000e+00 - recall: 0.0000e+00 - auc: 0.6298 - prc: 0.0209 - val_loss: 0.0704 - val_tp: 0.0000e+00 - val_fp: 0.0000e+00 - val_tn: 8865.0000 - val_fn: 116.0000 - val_accuracy: 0.9871 - val_precision: 0.0000e+00 - val_recall: 0.0000e+00 - val_auc: 0.5827 - val_prc: 0.0172\n",
      "Epoch 23/200\n",
      "11/11 [==============================] - 0s 28ms/step - loss: 0.0749 - tp: 0.0000e+00 - fp: 6.0000 - tn: 20663.0000 - fn: 286.0000 - accuracy: 0.9861 - precision: 0.0000e+00 - recall: 0.0000e+00 - auc: 0.6203 - prc: 0.0235 - val_loss: 0.0704 - val_tp: 0.0000e+00 - val_fp: 0.0000e+00 - val_tn: 8865.0000 - val_fn: 116.0000 - val_accuracy: 0.9871 - val_precision: 0.0000e+00 - val_recall: 0.0000e+00 - val_auc: 0.5834 - val_prc: 0.0171\n",
      "Epoch 24/200\n",
      "11/11 [==============================] - 0s 26ms/step - loss: 0.0729 - tp: 1.0000 - fp: 6.0000 - tn: 20663.0000 - fn: 285.0000 - accuracy: 0.9861 - precision: 0.1429 - recall: 0.0035 - auc: 0.6440 - prc: 0.0255 - val_loss: 0.0703 - val_tp: 0.0000e+00 - val_fp: 0.0000e+00 - val_tn: 8865.0000 - val_fn: 116.0000 - val_accuracy: 0.9871 - val_precision: 0.0000e+00 - val_recall: 0.0000e+00 - val_auc: 0.5902 - val_prc: 0.0172\n",
      "Epoch 25/200\n",
      "11/11 [==============================] - 0s 19ms/step - loss: 0.0762 - tp: 0.0000e+00 - fp: 7.0000 - tn: 20662.0000 - fn: 286.0000 - accuracy: 0.9860 - precision: 0.0000e+00 - recall: 0.0000e+00 - auc: 0.5904 - prc: 0.0225 - val_loss: 0.0702 - val_tp: 0.0000e+00 - val_fp: 0.0000e+00 - val_tn: 8865.0000 - val_fn: 116.0000 - val_accuracy: 0.9871 - val_precision: 0.0000e+00 - val_recall: 0.0000e+00 - val_auc: 0.5882 - val_prc: 0.0171\n",
      "Epoch 26/200\n",
      "11/11 [==============================] - 0s 23ms/step - loss: 0.0745 - tp: 0.0000e+00 - fp: 8.0000 - tn: 20661.0000 - fn: 286.0000 - accuracy: 0.9860 - precision: 0.0000e+00 - recall: 0.0000e+00 - auc: 0.6211 - prc: 0.0229 - val_loss: 0.0700 - val_tp: 0.0000e+00 - val_fp: 0.0000e+00 - val_tn: 8865.0000 - val_fn: 116.0000 - val_accuracy: 0.9871 - val_precision: 0.0000e+00 - val_recall: 0.0000e+00 - val_auc: 0.5900 - val_prc: 0.0171\n",
      "Epoch 27/200\n",
      "11/11 [==============================] - 0s 36ms/step - loss: 0.0729 - tp: 1.0000 - fp: 6.0000 - tn: 20663.0000 - fn: 285.0000 - accuracy: 0.9861 - precision: 0.1429 - recall: 0.0035 - auc: 0.6417 - prc: 0.0254 - val_loss: 0.0699 - val_tp: 0.0000e+00 - val_fp: 0.0000e+00 - val_tn: 8865.0000 - val_fn: 116.0000 - val_accuracy: 0.9871 - val_precision: 0.0000e+00 - val_recall: 0.0000e+00 - val_auc: 0.5999 - val_prc: 0.0174\n",
      "Epoch 28/200\n",
      "11/11 [==============================] - 0s 32ms/step - loss: 0.0735 - tp: 2.0000 - fp: 6.0000 - tn: 20663.0000 - fn: 284.0000 - accuracy: 0.9862 - precision: 0.2500 - recall: 0.0070 - auc: 0.6495 - prc: 0.0288 - val_loss: 0.0698 - val_tp: 0.0000e+00 - val_fp: 0.0000e+00 - val_tn: 8865.0000 - val_fn: 116.0000 - val_accuracy: 0.9871 - val_precision: 0.0000e+00 - val_recall: 0.0000e+00 - val_auc: 0.5996 - val_prc: 0.0177\n",
      "Epoch 29/200\n",
      "11/11 [==============================] - 0s 43ms/step - loss: 0.0730 - tp: 1.0000 - fp: 5.0000 - tn: 20664.0000 - fn: 285.0000 - accuracy: 0.9862 - precision: 0.1667 - recall: 0.0035 - auc: 0.6410 - prc: 0.0245 - val_loss: 0.0697 - val_tp: 0.0000e+00 - val_fp: 0.0000e+00 - val_tn: 8865.0000 - val_fn: 116.0000 - val_accuracy: 0.9871 - val_precision: 0.0000e+00 - val_recall: 0.0000e+00 - val_auc: 0.5922 - val_prc: 0.0172\n",
      "Epoch 30/200\n",
      "11/11 [==============================] - 0s 27ms/step - loss: 0.0731 - tp: 0.0000e+00 - fp: 4.0000 - tn: 20665.0000 - fn: 286.0000 - accuracy: 0.9862 - precision: 0.0000e+00 - recall: 0.0000e+00 - auc: 0.6402 - prc: 0.0270 - val_loss: 0.0697 - val_tp: 0.0000e+00 - val_fp: 0.0000e+00 - val_tn: 8865.0000 - val_fn: 116.0000 - val_accuracy: 0.9871 - val_precision: 0.0000e+00 - val_recall: 0.0000e+00 - val_auc: 0.5912 - val_prc: 0.0171\n",
      "Epoch 31/200\n",
      "11/11 [==============================] - 0s 33ms/step - loss: 0.0721 - tp: 0.0000e+00 - fp: 2.0000 - tn: 20667.0000 - fn: 286.0000 - accuracy: 0.9863 - precision: 0.0000e+00 - recall: 0.0000e+00 - auc: 0.6539 - prc: 0.0268 - val_loss: 0.0696 - val_tp: 0.0000e+00 - val_fp: 0.0000e+00 - val_tn: 8865.0000 - val_fn: 116.0000 - val_accuracy: 0.9871 - val_precision: 0.0000e+00 - val_recall: 0.0000e+00 - val_auc: 0.5930 - val_prc: 0.0172\n",
      "Epoch 32/200\n",
      "11/11 [==============================] - 0s 40ms/step - loss: 0.0720 - tp: 0.0000e+00 - fp: 5.0000 - tn: 20664.0000 - fn: 286.0000 - accuracy: 0.9861 - precision: 0.0000e+00 - recall: 0.0000e+00 - auc: 0.6570 - prc: 0.0279 - val_loss: 0.0695 - val_tp: 0.0000e+00 - val_fp: 0.0000e+00 - val_tn: 8865.0000 - val_fn: 116.0000 - val_accuracy: 0.9871 - val_precision: 0.0000e+00 - val_recall: 0.0000e+00 - val_auc: 0.5923 - val_prc: 0.0172\n",
      "Epoch 33/200\n",
      "11/11 [==============================] - 0s 20ms/step - loss: 0.0723 - tp: 0.0000e+00 - fp: 3.0000 - tn: 20666.0000 - fn: 286.0000 - accuracy: 0.9862 - precision: 0.0000e+00 - recall: 0.0000e+00 - auc: 0.6454 - prc: 0.0239 - val_loss: 0.0695 - val_tp: 0.0000e+00 - val_fp: 0.0000e+00 - val_tn: 8865.0000 - val_fn: 116.0000 - val_accuracy: 0.9871 - val_precision: 0.0000e+00 - val_recall: 0.0000e+00 - val_auc: 0.5941 - val_prc: 0.0175\n",
      "Epoch 34/200\n",
      "11/11 [==============================] - 0s 33ms/step - loss: 0.0725 - tp: 0.0000e+00 - fp: 4.0000 - tn: 20665.0000 - fn: 286.0000 - accuracy: 0.9862 - precision: 0.0000e+00 - recall: 0.0000e+00 - auc: 0.6519 - prc: 0.0254 - val_loss: 0.0695 - val_tp: 0.0000e+00 - val_fp: 0.0000e+00 - val_tn: 8865.0000 - val_fn: 116.0000 - val_accuracy: 0.9871 - val_precision: 0.0000e+00 - val_recall: 0.0000e+00 - val_auc: 0.5947 - val_prc: 0.0175\n",
      "Epoch 35/200\n"
     ]
    },
    {
     "name": "stdout",
     "output_type": "stream",
     "text": [
      "11/11 [==============================] - 0s 27ms/step - loss: 0.0710 - tp: 0.0000e+00 - fp: 2.0000 - tn: 20667.0000 - fn: 286.0000 - accuracy: 0.9863 - precision: 0.0000e+00 - recall: 0.0000e+00 - auc: 0.6625 - prc: 0.0260 - val_loss: 0.0694 - val_tp: 0.0000e+00 - val_fp: 0.0000e+00 - val_tn: 8865.0000 - val_fn: 116.0000 - val_accuracy: 0.9871 - val_precision: 0.0000e+00 - val_recall: 0.0000e+00 - val_auc: 0.5975 - val_prc: 0.0176\n",
      "Epoch 36/200\n",
      "11/11 [==============================] - 1s 63ms/step - loss: 0.0718 - tp: 1.0000 - fp: 3.0000 - tn: 20666.0000 - fn: 285.0000 - accuracy: 0.9863 - precision: 0.2500 - recall: 0.0035 - auc: 0.6665 - prc: 0.0277 - val_loss: 0.0693 - val_tp: 0.0000e+00 - val_fp: 0.0000e+00 - val_tn: 8865.0000 - val_fn: 116.0000 - val_accuracy: 0.9871 - val_precision: 0.0000e+00 - val_recall: 0.0000e+00 - val_auc: 0.5970 - val_prc: 0.0174\n",
      "Epoch 37/200\n",
      "11/11 [==============================] - 0s 29ms/step - loss: 0.0711 - tp: 1.0000 - fp: 3.0000 - tn: 20666.0000 - fn: 285.0000 - accuracy: 0.9863 - precision: 0.2500 - recall: 0.0035 - auc: 0.6636 - prc: 0.0282 - val_loss: 0.0693 - val_tp: 0.0000e+00 - val_fp: 0.0000e+00 - val_tn: 8865.0000 - val_fn: 116.0000 - val_accuracy: 0.9871 - val_precision: 0.0000e+00 - val_recall: 0.0000e+00 - val_auc: 0.5956 - val_prc: 0.0174\n",
      "Epoch 38/200\n",
      "11/11 [==============================] - 0s 26ms/step - loss: 0.0715 - tp: 0.0000e+00 - fp: 4.0000 - tn: 20665.0000 - fn: 286.0000 - accuracy: 0.9862 - precision: 0.0000e+00 - recall: 0.0000e+00 - auc: 0.6744 - prc: 0.0268 - val_loss: 0.0693 - val_tp: 0.0000e+00 - val_fp: 0.0000e+00 - val_tn: 8865.0000 - val_fn: 116.0000 - val_accuracy: 0.9871 - val_precision: 0.0000e+00 - val_recall: 0.0000e+00 - val_auc: 0.5997 - val_prc: 0.0177\n",
      "Epoch 39/200\n",
      "11/11 [==============================] - 1s 60ms/step - loss: 0.0699 - tp: 1.0000 - fp: 0.0000e+00 - tn: 20669.0000 - fn: 285.0000 - accuracy: 0.9864 - precision: 1.0000 - recall: 0.0035 - auc: 0.6752 - prc: 0.0328 - val_loss: 0.0692 - val_tp: 0.0000e+00 - val_fp: 0.0000e+00 - val_tn: 8865.0000 - val_fn: 116.0000 - val_accuracy: 0.9871 - val_precision: 0.0000e+00 - val_recall: 0.0000e+00 - val_auc: 0.6034 - val_prc: 0.0177\n",
      "Epoch 40/200\n",
      "11/11 [==============================] - 0s 31ms/step - loss: 0.0708 - tp: 1.0000 - fp: 4.0000 - tn: 20665.0000 - fn: 285.0000 - accuracy: 0.9862 - precision: 0.2000 - recall: 0.0035 - auc: 0.6815 - prc: 0.0302 - val_loss: 0.0691 - val_tp: 0.0000e+00 - val_fp: 0.0000e+00 - val_tn: 8865.0000 - val_fn: 116.0000 - val_accuracy: 0.9871 - val_precision: 0.0000e+00 - val_recall: 0.0000e+00 - val_auc: 0.6038 - val_prc: 0.0178\n",
      "Epoch 41/200\n",
      "11/11 [==============================] - 0s 20ms/step - loss: 0.0710 - tp: 0.0000e+00 - fp: 3.0000 - tn: 20666.0000 - fn: 286.0000 - accuracy: 0.9862 - precision: 0.0000e+00 - recall: 0.0000e+00 - auc: 0.6715 - prc: 0.0325 - val_loss: 0.0691 - val_tp: 0.0000e+00 - val_fp: 0.0000e+00 - val_tn: 8865.0000 - val_fn: 116.0000 - val_accuracy: 0.9871 - val_precision: 0.0000e+00 - val_recall: 0.0000e+00 - val_auc: 0.6034 - val_prc: 0.0176\n",
      "Epoch 42/200\n",
      "11/11 [==============================] - 0s 21ms/step - loss: 0.0716 - tp: 0.0000e+00 - fp: 5.0000 - tn: 20664.0000 - fn: 286.0000 - accuracy: 0.9861 - precision: 0.0000e+00 - recall: 0.0000e+00 - auc: 0.6576 - prc: 0.0271 - val_loss: 0.0690 - val_tp: 0.0000e+00 - val_fp: 0.0000e+00 - val_tn: 8865.0000 - val_fn: 116.0000 - val_accuracy: 0.9871 - val_precision: 0.0000e+00 - val_recall: 0.0000e+00 - val_auc: 0.6025 - val_prc: 0.0175\n",
      "Epoch 43/200\n",
      "11/11 [==============================] - 0s 29ms/step - loss: 0.0707 - tp: 0.0000e+00 - fp: 2.0000 - tn: 20667.0000 - fn: 286.0000 - accuracy: 0.9863 - precision: 0.0000e+00 - recall: 0.0000e+00 - auc: 0.6542 - prc: 0.0266 - val_loss: 0.0690 - val_tp: 0.0000e+00 - val_fp: 0.0000e+00 - val_tn: 8865.0000 - val_fn: 116.0000 - val_accuracy: 0.9871 - val_precision: 0.0000e+00 - val_recall: 0.0000e+00 - val_auc: 0.6074 - val_prc: 0.0181\n",
      "Epoch 44/200\n",
      "11/11 [==============================] - 0s 23ms/step - loss: 0.0694 - tp: 1.0000 - fp: 2.0000 - tn: 20667.0000 - fn: 285.0000 - accuracy: 0.9863 - precision: 0.3333 - recall: 0.0035 - auc: 0.6870 - prc: 0.0350 - val_loss: 0.0689 - val_tp: 0.0000e+00 - val_fp: 0.0000e+00 - val_tn: 8865.0000 - val_fn: 116.0000 - val_accuracy: 0.9871 - val_precision: 0.0000e+00 - val_recall: 0.0000e+00 - val_auc: 0.6070 - val_prc: 0.0182\n",
      "Epoch 45/200\n",
      "11/11 [==============================] - 0s 13ms/step - loss: 0.0701 - tp: 0.0000e+00 - fp: 2.0000 - tn: 20667.0000 - fn: 286.0000 - accuracy: 0.9863 - precision: 0.0000e+00 - recall: 0.0000e+00 - auc: 0.6725 - prc: 0.0321 - val_loss: 0.0689 - val_tp: 0.0000e+00 - val_fp: 0.0000e+00 - val_tn: 8865.0000 - val_fn: 116.0000 - val_accuracy: 0.9871 - val_precision: 0.0000e+00 - val_recall: 0.0000e+00 - val_auc: 0.6100 - val_prc: 0.0184\n",
      "Epoch 46/200\n",
      "11/11 [==============================] - 0s 18ms/step - loss: 0.0700 - tp: 1.0000 - fp: 2.0000 - tn: 20667.0000 - fn: 285.0000 - accuracy: 0.9863 - precision: 0.3333 - recall: 0.0035 - auc: 0.6773 - prc: 0.0372 - val_loss: 0.0688 - val_tp: 0.0000e+00 - val_fp: 0.0000e+00 - val_tn: 8865.0000 - val_fn: 116.0000 - val_accuracy: 0.9871 - val_precision: 0.0000e+00 - val_recall: 0.0000e+00 - val_auc: 0.6102 - val_prc: 0.0182\n",
      "Epoch 47/200\n",
      "11/11 [==============================] - 0s 16ms/step - loss: 0.0694 - tp: 0.0000e+00 - fp: 4.0000 - tn: 20665.0000 - fn: 286.0000 - accuracy: 0.9862 - precision: 0.0000e+00 - recall: 0.0000e+00 - auc: 0.6943 - prc: 0.0347 - val_loss: 0.0688 - val_tp: 0.0000e+00 - val_fp: 0.0000e+00 - val_tn: 8865.0000 - val_fn: 116.0000 - val_accuracy: 0.9871 - val_precision: 0.0000e+00 - val_recall: 0.0000e+00 - val_auc: 0.6050 - val_prc: 0.0181\n",
      "Epoch 48/200\n",
      "11/11 [==============================] - 0s 17ms/step - loss: 0.0708 - tp: 0.0000e+00 - fp: 3.0000 - tn: 20666.0000 - fn: 286.0000 - accuracy: 0.9862 - precision: 0.0000e+00 - recall: 0.0000e+00 - auc: 0.6586 - prc: 0.0259 - val_loss: 0.0688 - val_tp: 0.0000e+00 - val_fp: 0.0000e+00 - val_tn: 8865.0000 - val_fn: 116.0000 - val_accuracy: 0.9871 - val_precision: 0.0000e+00 - val_recall: 0.0000e+00 - val_auc: 0.6008 - val_prc: 0.0178\n",
      "Epoch 49/200\n",
      "11/11 [==============================] - 0s 18ms/step - loss: 0.0695 - tp: 0.0000e+00 - fp: 2.0000 - tn: 20667.0000 - fn: 286.0000 - accuracy: 0.9863 - precision: 0.0000e+00 - recall: 0.0000e+00 - auc: 0.6803 - prc: 0.0309 - val_loss: 0.0687 - val_tp: 0.0000e+00 - val_fp: 0.0000e+00 - val_tn: 8865.0000 - val_fn: 116.0000 - val_accuracy: 0.9871 - val_precision: 0.0000e+00 - val_recall: 0.0000e+00 - val_auc: 0.6057 - val_prc: 0.0184\n",
      "Epoch 50/200\n",
      "11/11 [==============================] - 0s 18ms/step - loss: 0.0695 - tp: 0.0000e+00 - fp: 1.0000 - tn: 20668.0000 - fn: 286.0000 - accuracy: 0.9863 - precision: 0.0000e+00 - recall: 0.0000e+00 - auc: 0.6911 - prc: 0.0314 - val_loss: 0.0687 - val_tp: 0.0000e+00 - val_fp: 0.0000e+00 - val_tn: 8865.0000 - val_fn: 116.0000 - val_accuracy: 0.9871 - val_precision: 0.0000e+00 - val_recall: 0.0000e+00 - val_auc: 0.6105 - val_prc: 0.0182\n",
      "Epoch 51/200\n",
      "11/11 [==============================] - 0s 20ms/step - loss: 0.0696 - tp: 1.0000 - fp: 3.0000 - tn: 20666.0000 - fn: 285.0000 - accuracy: 0.9863 - precision: 0.2500 - recall: 0.0035 - auc: 0.6918 - prc: 0.0339 - val_loss: 0.0687 - val_tp: 0.0000e+00 - val_fp: 0.0000e+00 - val_tn: 8865.0000 - val_fn: 116.0000 - val_accuracy: 0.9871 - val_precision: 0.0000e+00 - val_recall: 0.0000e+00 - val_auc: 0.6101 - val_prc: 0.0182\n",
      "Epoch 52/200\n",
      "11/11 [==============================] - 0s 20ms/step - loss: 0.0703 - tp: 1.0000 - fp: 2.0000 - tn: 20667.0000 - fn: 285.0000 - accuracy: 0.9863 - precision: 0.3333 - recall: 0.0035 - auc: 0.6510 - prc: 0.0346 - val_loss: 0.0686 - val_tp: 0.0000e+00 - val_fp: 0.0000e+00 - val_tn: 8865.0000 - val_fn: 116.0000 - val_accuracy: 0.9871 - val_precision: 0.0000e+00 - val_recall: 0.0000e+00 - val_auc: 0.6123 - val_prc: 0.0184\n",
      "Epoch 53/200\n",
      "11/11 [==============================] - 0s 46ms/step - loss: 0.0703 - tp: 0.0000e+00 - fp: 4.0000 - tn: 20665.0000 - fn: 286.0000 - accuracy: 0.9862 - precision: 0.0000e+00 - recall: 0.0000e+00 - auc: 0.6950 - prc: 0.0298 - val_loss: 0.0686 - val_tp: 0.0000e+00 - val_fp: 0.0000e+00 - val_tn: 8865.0000 - val_fn: 116.0000 - val_accuracy: 0.9871 - val_precision: 0.0000e+00 - val_recall: 0.0000e+00 - val_auc: 0.6125 - val_prc: 0.0189\n"
     ]
    },
    {
     "name": "stdout",
     "output_type": "stream",
     "text": [
      "Epoch 54/200\n",
      "11/11 [==============================] - 0s 25ms/step - loss: 0.0688 - tp: 1.0000 - fp: 1.0000 - tn: 20668.0000 - fn: 285.0000 - accuracy: 0.9864 - precision: 0.5000 - recall: 0.0035 - auc: 0.6947 - prc: 0.0405 - val_loss: 0.0686 - val_tp: 0.0000e+00 - val_fp: 0.0000e+00 - val_tn: 8865.0000 - val_fn: 116.0000 - val_accuracy: 0.9871 - val_precision: 0.0000e+00 - val_recall: 0.0000e+00 - val_auc: 0.6080 - val_prc: 0.0183\n",
      "Epoch 55/200\n",
      "11/11 [==============================] - 0s 22ms/step - loss: 0.0697 - tp: 0.0000e+00 - fp: 5.0000 - tn: 20664.0000 - fn: 286.0000 - accuracy: 0.9861 - precision: 0.0000e+00 - recall: 0.0000e+00 - auc: 0.6898 - prc: 0.0320 - val_loss: 0.0685 - val_tp: 0.0000e+00 - val_fp: 0.0000e+00 - val_tn: 8865.0000 - val_fn: 116.0000 - val_accuracy: 0.9871 - val_precision: 0.0000e+00 - val_recall: 0.0000e+00 - val_auc: 0.6070 - val_prc: 0.0187\n",
      "Epoch 56/200\n",
      "11/11 [==============================] - 0s 23ms/step - loss: 0.0682 - tp: 0.0000e+00 - fp: 1.0000 - tn: 20668.0000 - fn: 286.0000 - accuracy: 0.9863 - precision: 0.0000e+00 - recall: 0.0000e+00 - auc: 0.7201 - prc: 0.0380 - val_loss: 0.0685 - val_tp: 0.0000e+00 - val_fp: 0.0000e+00 - val_tn: 8865.0000 - val_fn: 116.0000 - val_accuracy: 0.9871 - val_precision: 0.0000e+00 - val_recall: 0.0000e+00 - val_auc: 0.6079 - val_prc: 0.0186\n",
      "Epoch 57/200\n",
      "11/11 [==============================] - 0s 17ms/step - loss: 0.0685 - tp: 0.0000e+00 - fp: 2.0000 - tn: 20667.0000 - fn: 286.0000 - accuracy: 0.9863 - precision: 0.0000e+00 - recall: 0.0000e+00 - auc: 0.6962 - prc: 0.0357 - val_loss: 0.0685 - val_tp: 0.0000e+00 - val_fp: 0.0000e+00 - val_tn: 8865.0000 - val_fn: 116.0000 - val_accuracy: 0.9871 - val_precision: 0.0000e+00 - val_recall: 0.0000e+00 - val_auc: 0.6058 - val_prc: 0.0184\n",
      "Epoch 58/200\n",
      "11/11 [==============================] - 0s 24ms/step - loss: 0.0682 - tp: 1.0000 - fp: 0.0000e+00 - tn: 20669.0000 - fn: 285.0000 - accuracy: 0.9864 - precision: 1.0000 - recall: 0.0035 - auc: 0.7025 - prc: 0.0409 - val_loss: 0.0685 - val_tp: 0.0000e+00 - val_fp: 0.0000e+00 - val_tn: 8865.0000 - val_fn: 116.0000 - val_accuracy: 0.9871 - val_precision: 0.0000e+00 - val_recall: 0.0000e+00 - val_auc: 0.6103 - val_prc: 0.0187\n",
      "Epoch 59/200\n",
      "11/11 [==============================] - 1s 77ms/step - loss: 0.0683 - tp: 1.0000 - fp: 0.0000e+00 - tn: 20669.0000 - fn: 285.0000 - accuracy: 0.9864 - precision: 1.0000 - recall: 0.0035 - auc: 0.7007 - prc: 0.0387 - val_loss: 0.0685 - val_tp: 0.0000e+00 - val_fp: 0.0000e+00 - val_tn: 8865.0000 - val_fn: 116.0000 - val_accuracy: 0.9871 - val_precision: 0.0000e+00 - val_recall: 0.0000e+00 - val_auc: 0.6113 - val_prc: 0.0189\n",
      "Epoch 60/200\n",
      "11/11 [==============================] - 0s 32ms/step - loss: 0.0677 - tp: 1.0000 - fp: 0.0000e+00 - tn: 20669.0000 - fn: 285.0000 - accuracy: 0.9864 - precision: 1.0000 - recall: 0.0035 - auc: 0.7117 - prc: 0.0413 - val_loss: 0.0685 - val_tp: 0.0000e+00 - val_fp: 0.0000e+00 - val_tn: 8865.0000 - val_fn: 116.0000 - val_accuracy: 0.9871 - val_precision: 0.0000e+00 - val_recall: 0.0000e+00 - val_auc: 0.6113 - val_prc: 0.0187\n",
      "Epoch 61/200\n",
      "11/11 [==============================] - 0s 22ms/step - loss: 0.0687 - tp: 1.0000 - fp: 2.0000 - tn: 20667.0000 - fn: 285.0000 - accuracy: 0.9863 - precision: 0.3333 - recall: 0.0035 - auc: 0.6918 - prc: 0.0412 - val_loss: 0.0685 - val_tp: 0.0000e+00 - val_fp: 0.0000e+00 - val_tn: 8865.0000 - val_fn: 116.0000 - val_accuracy: 0.9871 - val_precision: 0.0000e+00 - val_recall: 0.0000e+00 - val_auc: 0.6156 - val_prc: 0.0190\n",
      "Epoch 62/200\n",
      "11/11 [==============================] - 0s 27ms/step - loss: 0.0689 - tp: 0.0000e+00 - fp: 1.0000 - tn: 20668.0000 - fn: 286.0000 - accuracy: 0.9863 - precision: 0.0000e+00 - recall: 0.0000e+00 - auc: 0.6909 - prc: 0.0320 - val_loss: 0.0684 - val_tp: 0.0000e+00 - val_fp: 0.0000e+00 - val_tn: 8865.0000 - val_fn: 116.0000 - val_accuracy: 0.9871 - val_precision: 0.0000e+00 - val_recall: 0.0000e+00 - val_auc: 0.6178 - val_prc: 0.0191\n",
      "Epoch 63/200\n",
      "11/11 [==============================] - 0s 39ms/step - loss: 0.0677 - tp: 0.0000e+00 - fp: 0.0000e+00 - tn: 20669.0000 - fn: 286.0000 - accuracy: 0.9864 - precision: 0.0000e+00 - recall: 0.0000e+00 - auc: 0.7180 - prc: 0.0391 - val_loss: 0.0684 - val_tp: 0.0000e+00 - val_fp: 0.0000e+00 - val_tn: 8865.0000 - val_fn: 116.0000 - val_accuracy: 0.9871 - val_precision: 0.0000e+00 - val_recall: 0.0000e+00 - val_auc: 0.6177 - val_prc: 0.0192\n",
      "Epoch 64/200\n",
      "11/11 [==============================] - 0s 22ms/step - loss: 0.0689 - tp: 0.0000e+00 - fp: 1.0000 - tn: 20668.0000 - fn: 286.0000 - accuracy: 0.9863 - precision: 0.0000e+00 - recall: 0.0000e+00 - auc: 0.6998 - prc: 0.0331 - val_loss: 0.0684 - val_tp: 0.0000e+00 - val_fp: 0.0000e+00 - val_tn: 8865.0000 - val_fn: 116.0000 - val_accuracy: 0.9871 - val_precision: 0.0000e+00 - val_recall: 0.0000e+00 - val_auc: 0.6184 - val_prc: 0.0191\n",
      "Epoch 65/200\n",
      "11/11 [==============================] - 0s 25ms/step - loss: 0.0687 - tp: 0.0000e+00 - fp: 3.0000 - tn: 20666.0000 - fn: 286.0000 - accuracy: 0.9862 - precision: 0.0000e+00 - recall: 0.0000e+00 - auc: 0.7064 - prc: 0.0328 - val_loss: 0.0684 - val_tp: 0.0000e+00 - val_fp: 0.0000e+00 - val_tn: 8865.0000 - val_fn: 116.0000 - val_accuracy: 0.9871 - val_precision: 0.0000e+00 - val_recall: 0.0000e+00 - val_auc: 0.6195 - val_prc: 0.0193\n",
      "Epoch 66/200\n",
      "11/11 [==============================] - 0s 28ms/step - loss: 0.0687 - tp: 1.0000 - fp: 0.0000e+00 - tn: 20669.0000 - fn: 285.0000 - accuracy: 0.9864 - precision: 1.0000 - recall: 0.0035 - auc: 0.6909 - prc: 0.0384 - val_loss: 0.0684 - val_tp: 0.0000e+00 - val_fp: 0.0000e+00 - val_tn: 8865.0000 - val_fn: 116.0000 - val_accuracy: 0.9871 - val_precision: 0.0000e+00 - val_recall: 0.0000e+00 - val_auc: 0.6193 - val_prc: 0.0190\n",
      "Epoch 67/200\n",
      "11/11 [==============================] - 0s 18ms/step - loss: 0.0684 - tp: 1.0000 - fp: 4.0000 - tn: 20665.0000 - fn: 285.0000 - accuracy: 0.9862 - precision: 0.2000 - recall: 0.0035 - auc: 0.7010 - prc: 0.0391 - val_loss: 0.0684 - val_tp: 0.0000e+00 - val_fp: 0.0000e+00 - val_tn: 8865.0000 - val_fn: 116.0000 - val_accuracy: 0.9871 - val_precision: 0.0000e+00 - val_recall: 0.0000e+00 - val_auc: 0.6216 - val_prc: 0.0192\n",
      "Epoch 68/200\n",
      "11/11 [==============================] - 0s 21ms/step - loss: 0.0685 - tp: 0.0000e+00 - fp: 2.0000 - tn: 20667.0000 - fn: 286.0000 - accuracy: 0.9863 - precision: 0.0000e+00 - recall: 0.0000e+00 - auc: 0.7127 - prc: 0.0358 - val_loss: 0.0685 - val_tp: 0.0000e+00 - val_fp: 0.0000e+00 - val_tn: 8865.0000 - val_fn: 116.0000 - val_accuracy: 0.9871 - val_precision: 0.0000e+00 - val_recall: 0.0000e+00 - val_auc: 0.6177 - val_prc: 0.0191\n",
      "Epoch 69/200\n",
      "11/11 [==============================] - 0s 18ms/step - loss: 0.0665 - tp: 0.0000e+00 - fp: 2.0000 - tn: 20667.0000 - fn: 286.0000 - accuracy: 0.9863 - precision: 0.0000e+00 - recall: 0.0000e+00 - auc: 0.7414 - prc: 0.0457 - val_loss: 0.0685 - val_tp: 0.0000e+00 - val_fp: 0.0000e+00 - val_tn: 8865.0000 - val_fn: 116.0000 - val_accuracy: 0.9871 - val_precision: 0.0000e+00 - val_recall: 0.0000e+00 - val_auc: 0.6193 - val_prc: 0.0193\n",
      "Epoch 70/200\n",
      "11/11 [==============================] - 0s 24ms/step - loss: 0.0681 - tp: 0.0000e+00 - fp: 1.0000 - tn: 20668.0000 - fn: 286.0000 - accuracy: 0.9863 - precision: 0.0000e+00 - recall: 0.0000e+00 - auc: 0.7184 - prc: 0.0358 - val_loss: 0.0685 - val_tp: 0.0000e+00 - val_fp: 0.0000e+00 - val_tn: 8865.0000 - val_fn: 116.0000 - val_accuracy: 0.9871 - val_precision: 0.0000e+00 - val_recall: 0.0000e+00 - val_auc: 0.6177 - val_prc: 0.0195\n",
      "Epoch 71/200\n",
      "11/11 [==============================] - 0s 18ms/step - loss: 0.0675 - tp: 0.0000e+00 - fp: 4.0000 - tn: 20665.0000 - fn: 286.0000 - accuracy: 0.9862 - precision: 0.0000e+00 - recall: 0.0000e+00 - auc: 0.7258 - prc: 0.0444 - val_loss: 0.0685 - val_tp: 0.0000e+00 - val_fp: 0.0000e+00 - val_tn: 8865.0000 - val_fn: 116.0000 - val_accuracy: 0.9871 - val_precision: 0.0000e+00 - val_recall: 0.0000e+00 - val_auc: 0.6155 - val_prc: 0.0193\n",
      "Epoch 72/200\n"
     ]
    },
    {
     "name": "stdout",
     "output_type": "stream",
     "text": [
      "11/11 [==============================] - 0s 19ms/step - loss: 0.0679 - tp: 0.0000e+00 - fp: 2.0000 - tn: 20667.0000 - fn: 286.0000 - accuracy: 0.9863 - precision: 0.0000e+00 - recall: 0.0000e+00 - auc: 0.7153 - prc: 0.0450 - val_loss: 0.0684 - val_tp: 0.0000e+00 - val_fp: 0.0000e+00 - val_tn: 8865.0000 - val_fn: 116.0000 - val_accuracy: 0.9871 - val_precision: 0.0000e+00 - val_recall: 0.0000e+00 - val_auc: 0.6175 - val_prc: 0.0196\n",
      "Epoch 73/200\n",
      "11/11 [==============================] - 0s 17ms/step - loss: 0.0678 - tp: 1.0000 - fp: 0.0000e+00 - tn: 20669.0000 - fn: 285.0000 - accuracy: 0.9864 - precision: 1.0000 - recall: 0.0035 - auc: 0.7049 - prc: 0.0402 - val_loss: 0.0684 - val_tp: 0.0000e+00 - val_fp: 0.0000e+00 - val_tn: 8865.0000 - val_fn: 116.0000 - val_accuracy: 0.9871 - val_precision: 0.0000e+00 - val_recall: 0.0000e+00 - val_auc: 0.6193 - val_prc: 0.0198\n",
      "Epoch 74/200\n",
      "11/11 [==============================] - 0s 25ms/step - loss: 0.0684 - tp: 0.0000e+00 - fp: 4.0000 - tn: 20665.0000 - fn: 286.0000 - accuracy: 0.9862 - precision: 0.0000e+00 - recall: 0.0000e+00 - auc: 0.7069 - prc: 0.0368 - val_loss: 0.0685 - val_tp: 0.0000e+00 - val_fp: 0.0000e+00 - val_tn: 8865.0000 - val_fn: 116.0000 - val_accuracy: 0.9871 - val_precision: 0.0000e+00 - val_recall: 0.0000e+00 - val_auc: 0.6170 - val_prc: 0.0194\n",
      "Epoch 75/200\n",
      "11/11 [==============================] - 0s 27ms/step - loss: 0.0670 - tp: 1.0000 - fp: 4.0000 - tn: 20665.0000 - fn: 285.0000 - accuracy: 0.9862 - precision: 0.2000 - recall: 0.0035 - auc: 0.7318 - prc: 0.0535 - val_loss: 0.0684 - val_tp: 0.0000e+00 - val_fp: 0.0000e+00 - val_tn: 8865.0000 - val_fn: 116.0000 - val_accuracy: 0.9871 - val_precision: 0.0000e+00 - val_recall: 0.0000e+00 - val_auc: 0.6136 - val_prc: 0.0189\n",
      "Epoch 76/200\n",
      "11/11 [==============================] - 0s 34ms/step - loss: 0.0678 - tp: 1.0000 - fp: 0.0000e+00 - tn: 20669.0000 - fn: 285.0000 - accuracy: 0.9864 - precision: 1.0000 - recall: 0.0035 - auc: 0.7054 - prc: 0.0442 - val_loss: 0.0684 - val_tp: 0.0000e+00 - val_fp: 0.0000e+00 - val_tn: 8865.0000 - val_fn: 116.0000 - val_accuracy: 0.9871 - val_precision: 0.0000e+00 - val_recall: 0.0000e+00 - val_auc: 0.6140 - val_prc: 0.0189\n",
      "Epoch 77/200\n",
      "11/11 [==============================] - 0s 21ms/step - loss: 0.0676 - tp: 0.0000e+00 - fp: 3.0000 - tn: 20666.0000 - fn: 286.0000 - accuracy: 0.9862 - precision: 0.0000e+00 - recall: 0.0000e+00 - auc: 0.7272 - prc: 0.0451 - val_loss: 0.0684 - val_tp: 0.0000e+00 - val_fp: 0.0000e+00 - val_tn: 8865.0000 - val_fn: 116.0000 - val_accuracy: 0.9871 - val_precision: 0.0000e+00 - val_recall: 0.0000e+00 - val_auc: 0.6125 - val_prc: 0.0190\n",
      "Epoch 78/200\n",
      "11/11 [==============================] - 0s 46ms/step - loss: 0.0676 - tp: 0.0000e+00 - fp: 1.0000 - tn: 20668.0000 - fn: 286.0000 - accuracy: 0.9863 - precision: 0.0000e+00 - recall: 0.0000e+00 - auc: 0.7278 - prc: 0.0384 - val_loss: 0.0684 - val_tp: 0.0000e+00 - val_fp: 0.0000e+00 - val_tn: 8865.0000 - val_fn: 116.0000 - val_accuracy: 0.9871 - val_precision: 0.0000e+00 - val_recall: 0.0000e+00 - val_auc: 0.6103 - val_prc: 0.0192\n",
      "Epoch 79/200\n",
      "11/11 [==============================] - 0s 47ms/step - loss: 0.0673 - tp: 1.0000 - fp: 2.0000 - tn: 20667.0000 - fn: 285.0000 - accuracy: 0.9863 - precision: 0.3333 - recall: 0.0035 - auc: 0.7325 - prc: 0.0449 - val_loss: 0.0684 - val_tp: 0.0000e+00 - val_fp: 0.0000e+00 - val_tn: 8865.0000 - val_fn: 116.0000 - val_accuracy: 0.9871 - val_precision: 0.0000e+00 - val_recall: 0.0000e+00 - val_auc: 0.6112 - val_prc: 0.0191\n",
      "Epoch 80/200\n",
      "11/11 [==============================] - 0s 25ms/step - loss: 0.0678 - tp: 0.0000e+00 - fp: 0.0000e+00 - tn: 20669.0000 - fn: 286.0000 - accuracy: 0.9864 - precision: 0.0000e+00 - recall: 0.0000e+00 - auc: 0.7134 - prc: 0.0401 - val_loss: 0.0684 - val_tp: 0.0000e+00 - val_fp: 0.0000e+00 - val_tn: 8865.0000 - val_fn: 116.0000 - val_accuracy: 0.9871 - val_precision: 0.0000e+00 - val_recall: 0.0000e+00 - val_auc: 0.6089 - val_prc: 0.0193\n",
      "Epoch 81/200\n",
      "11/11 [==============================] - 0s 31ms/step - loss: 0.0673 - tp: 1.0000 - fp: 2.0000 - tn: 20667.0000 - fn: 285.0000 - accuracy: 0.9863 - precision: 0.3333 - recall: 0.0035 - auc: 0.7323 - prc: 0.0444 - val_loss: 0.0684 - val_tp: 0.0000e+00 - val_fp: 0.0000e+00 - val_tn: 8865.0000 - val_fn: 116.0000 - val_accuracy: 0.9871 - val_precision: 0.0000e+00 - val_recall: 0.0000e+00 - val_auc: 0.6090 - val_prc: 0.0192\n",
      "Epoch 82/200\n",
      "11/11 [==============================] - 0s 27ms/step - loss: 0.0679 - tp: 0.0000e+00 - fp: 1.0000 - tn: 20668.0000 - fn: 286.0000 - accuracy: 0.9863 - precision: 0.0000e+00 - recall: 0.0000e+00 - auc: 0.7117 - prc: 0.0399 - val_loss: 0.0684 - val_tp: 0.0000e+00 - val_fp: 0.0000e+00 - val_tn: 8865.0000 - val_fn: 116.0000 - val_accuracy: 0.9871 - val_precision: 0.0000e+00 - val_recall: 0.0000e+00 - val_auc: 0.6136 - val_prc: 0.0196\n",
      "Epoch 83/200\n",
      " 5/11 [============>.................] - ETA: 0s - loss: 0.0666 - tp: 0.0000e+00 - fp: 1.0000 - tn: 10103.0000 - fn: 136.0000 - accuracy: 0.9866 - precision: 0.0000e+00 - recall: 0.0000e+00 - auc: 0.7170 - prc: 0.0345Restoring model weights from the end of the best epoch: 73.\n",
      "11/11 [==============================] - 0s 40ms/step - loss: 0.0680 - tp: 1.0000 - fp: 2.0000 - tn: 20667.0000 - fn: 285.0000 - accuracy: 0.9863 - precision: 0.3333 - recall: 0.0035 - auc: 0.7098 - prc: 0.0379 - val_loss: 0.0683 - val_tp: 0.0000e+00 - val_fp: 0.0000e+00 - val_tn: 8865.0000 - val_fn: 116.0000 - val_accuracy: 0.9871 - val_precision: 0.0000e+00 - val_recall: 0.0000e+00 - val_auc: 0.6120 - val_prc: 0.0197\n",
      "Epoch 83: early stopping\n"
     ]
    }
   ],
   "source": [
    "model = make_model()\n",
    "model.load_weights(initial_weights)\n",
    "baseline_history = model.fit(\n",
    "    train_features,\n",
    "    train_labels,\n",
    "    batch_size=BATCH_SIZE,\n",
    "    epochs=EPOCHS,\n",
    "    callbacks=[early_stopping],\n",
    "    validation_data=(val_features, val_labels))"
   ]
  },
  {
   "cell_type": "code",
   "execution_count": 23,
   "id": "1a25b1c5",
   "metadata": {},
   "outputs": [],
   "source": [
    "def plot_metrics(history):\n",
    "  metrics = ['loss', 'prc', 'precision', 'recall']\n",
    "  for n, metric in enumerate(metrics):\n",
    "    name = metric.replace(\"_\",\" \").capitalize()\n",
    "    plt.subplot(2,2,n+1)\n",
    "    plt.plot(history.epoch, history.history[metric], color=colors[0], label='Train')\n",
    "    plt.plot(history.epoch, history.history['val_'+metric],\n",
    "             color=colors[0], linestyle=\"--\", label='Val')\n",
    "    plt.xlabel('Epoch')\n",
    "    plt.ylabel(name)\n",
    "    if metric == 'loss':\n",
    "      plt.ylim([0, 0.2])\n",
    "    elif metric == 'auc':\n",
    "      plt.ylim([1,1])\n",
    "    elif metric == 'precision':\n",
    "      plt.ylim([0,2])\n",
    "    else:\n",
    "      plt.ylim([0,0.1])\n",
    "\n",
    "    plt.legend()"
   ]
  },
  {
   "cell_type": "code",
   "execution_count": 24,
   "id": "caf01d2a",
   "metadata": {},
   "outputs": [
    {
     "data": {
      "image/png": "[encoded data removed]",
      "text/plain": [
       "<Figure size 432x288 with 4 Axes>"
      ]
     },
     "metadata": {
      "needs_background": "light"
     },
     "output_type": "display_data"
    }
   ],
   "source": [
    "plot_metrics(baseline_history)"
   ]
  },
  {
   "cell_type": "code",
   "execution_count": 25,
   "id": "b3a2077e",
   "metadata": {},
   "outputs": [
    {
     "name": "stdout",
     "output_type": "stream",
     "text": [
      "WARNING: AutoGraph could not transform <function Model.make_predict_function.<locals>.predict_function at 0x7f89cbbe6950> and will run it as-is.\n",
      "Please report this to the TensorFlow team. When filing the bug, set the verbosity to 10 (on Linux, `export AUTOGRAPH_VERBOSITY=10`) and attach the full output.\n",
      "Cause: 'arguments' object has no attribute 'posonlyargs'\n",
      "To silence this warning, decorate the function with @tf.autograph.experimental.do_not_convert\n",
      "11/11 [==============================] - 0s 3ms/step\n",
      "7/7 [==============================] - 0s 5ms/step\n"
     ]
    }
   ],
   "source": [
    "train_predictions_baseline = model.predict(train_features, batch_size=BATCH_SIZE)\n",
    "test_predictions_baseline = model.predict(test_features, batch_size=BATCH_SIZE)"
   ]
  },
  {
   "cell_type": "code",
   "execution_count": 26,
   "id": "c4199b9c",
   "metadata": {},
   "outputs": [],
   "source": [
    "def plot_cm(labels, predictions, p=0.5):\n",
    "  cm = confusion_matrix(labels, predictions > p)\n",
    "  plt.figure(figsize=(5,5))\n",
    "  sns.heatmap(cm, annot=True, fmt=\"d\")\n",
    "  plt.title('Confusion matrix @{:.2f}'.format(p))\n",
    "  plt.ylabel('Actual label')\n",
    "  plt.xlabel('Predicted label')\n",
    "\n",
    "  print('Legitimate Transactions Detected (True Negatives): ', cm[0][0])\n",
    "  print('Legitimate Transactions Incorrectly Detected (False Positives): ', cm[0][1])\n",
    "  print('Fraudulent Transactions Missed (False Negatives): ', cm[1][0])\n",
    "  print('Fraudulent Transactions Detected (True Positives): ', cm[1][1])\n",
    "  print('Total Fraudulent Transactions: ', np.sum(cm[1]))"
   ]
  },
  {
   "cell_type": "code",
   "execution_count": 27,
   "id": "696cafed",
   "metadata": {},
   "outputs": [
    {
     "name": "stdout",
     "output_type": "stream",
     "text": [
      "loss :  0.07457385957241058\n",
      "tp :  0.0\n",
      "fp :  1.0\n",
      "tn :  12648.0\n",
      "fn :  181.0\n",
      "accuracy :  0.9858145117759705\n",
      "precision :  0.0\n",
      "recall :  0.0\n",
      "auc :  0.6009399890899658\n",
      "prc :  0.02049091085791588\n",
      "\n",
      "Legitimate Transactions Detected (True Negatives):  12648\n",
      "Legitimate Transactions Incorrectly Detected (False Positives):  1\n",
      "Fraudulent Transactions Missed (False Negatives):  181\n",
      "Fraudulent Transactions Detected (True Positives):  0\n",
      "Total Fraudulent Transactions:  181\n"
     ]
    },
    {
     "data": {
      "image/png": "[encoded data removed]",
      "text/plain": [
       "<Figure size 360x360 with 2 Axes>"
      ]
     },
     "metadata": {
      "needs_background": "light"
     },
     "output_type": "display_data"
    }
   ],
   "source": [
    "baseline_results = model.evaluate(test_features, test_labels,\n",
    "                                  batch_size=BATCH_SIZE, verbose=0)\n",
    "for name, value in zip(model.metrics_names, baseline_results):\n",
    "  print(name, ': ', value)\n",
    "print()\n",
    "\n",
    "plot_cm(test_labels, test_predictions_baseline)"
   ]
  },
  {
   "cell_type": "code",
   "execution_count": 28,
   "id": "3ddd8d19",
   "metadata": {},
   "outputs": [],
   "source": [
    "def plot_roc(name, labels, predictions, **kwargs):\n",
    "  fp, tp, _ = sklearn.metrics.roc_curve(labels, predictions)\n",
    "\n",
    "  plt.plot(100*fp, 100*tp, label=name, linewidth=2, **kwargs)\n",
    "  plt.xlabel('False positives [%]')\n",
    "  plt.ylabel('True positives [%]')\n",
    "  plt.xlim([-0.5,100])\n",
    "  plt.ylim([0,100])\n",
    "  plt.grid(True)\n",
    "  ax = plt.gca()\n",
    "  ax.set_aspect('equal')"
   ]
  },
  {
   "cell_type": "code",
   "execution_count": 29,
   "id": "248fb76d",
   "metadata": {},
   "outputs": [
    {
     "data": {
      "image/png": "[encoded data removed]",
      "text/plain": [
       "<Figure size 432x288 with 1 Axes>"
      ]
     },
     "metadata": {
      "needs_background": "light"
     },
     "output_type": "display_data"
    }
   ],
   "source": [
    "plot_roc(\"Train Baseline\", train_labels, train_predictions_baseline, color=colors[0])\n",
    "plot_roc(\"Test Baseline\", test_labels, test_predictions_baseline, color=colors[0], linestyle='--')\n",
    "plt.legend(loc='lower right');"
   ]
  },
  {
   "cell_type": "code",
   "execution_count": 30,
   "id": "5fc7d91a",
   "metadata": {},
   "outputs": [
    {
     "name": "stdout",
     "output_type": "stream",
     "text": [
      "Weight for class 0: 0.51\n",
      "Weight for class 1: 36.68\n"
     ]
    }
   ],
   "source": [
    "# Scaling by total/2 helps keep the loss to a similar magnitude.\n",
    "# The sum of the weights of all examples stays the same.\n",
    "weight_for_0 = (1 / neg) * (total / 2.0)\n",
    "weight_for_1 = (1 / pos) * (total / 2.0)\n",
    "\n",
    "class_weight = {0: weight_for_0, 1: weight_for_1}\n",
    "\n",
    "print('Weight for class 0: {:.2f}'.format(weight_for_0))\n",
    "print('Weight for class 1: {:.2f}'.format(weight_for_1))"
   ]
  },
  {
   "cell_type": "code",
   "execution_count": 31,
   "id": "e5cce658",
   "metadata": {},
   "outputs": [
    {
     "name": "stdout",
     "output_type": "stream",
     "text": [
      "Epoch 1/200\n",
      "WARNING: AutoGraph could not transform <function Model.make_train_function.<locals>.train_function at 0x7f89cc797440> and will run it as-is.\n",
      "Please report this to the TensorFlow team. When filing the bug, set the verbosity to 10 (on Linux, `export AUTOGRAPH_VERBOSITY=10`) and attach the full output.\n",
      "Cause: 'arguments' object has no attribute 'posonlyargs'\n",
      "To silence this warning, decorate the function with @tf.autograph.experimental.do_not_convert\n",
      " 1/11 [=>............................] - ETA: 1:32 - loss: 1.2392 - tp: 1.0000 - fp: 84.0000 - tn: 14589.0000 - fn: 204.0000 - accuracy: 0.9806 - precision: 0.0118 - recall: 0.0049 - auc: 0.6009 - prc: 0.0198WARNING: AutoGraph could not transform <function Model.make_test_function.<locals>.test_function at 0x7f89d1a9bb00> and will run it as-is.\n",
      "Please report this to the TensorFlow team. When filing the bug, set the verbosity to 10 (on Linux, `export AUTOGRAPH_VERBOSITY=10`) and attach the full output.\n",
      "Cause: 'arguments' object has no attribute 'posonlyargs'\n",
      "To silence this warning, decorate the function with @tf.autograph.experimental.do_not_convert\n",
      "11/11 [==============================] - 14s 506ms/step - loss: 1.8462 - tp: 18.0000 - fp: 944.0000 - tn: 32374.0000 - fn: 449.0000 - accuracy: 0.9588 - precision: 0.0187 - recall: 0.0385 - auc: 0.5540 - prc: 0.0168 - val_loss: 0.1194 - val_tp: 1.0000 - val_fp: 139.0000 - val_tn: 8726.0000 - val_fn: 115.0000 - val_accuracy: 0.9717 - val_precision: 0.0071 - val_recall: 0.0086 - val_auc: 0.5421 - val_prc: 0.0144\n",
      "Epoch 2/200\n",
      "11/11 [==============================] - 0s 19ms/step - loss: 1.8404 - tp: 31.0000 - fp: 1290.0000 - tn: 19379.0000 - fn: 255.0000 - accuracy: 0.9263 - precision: 0.0235 - recall: 0.1084 - auc: 0.5287 - prc: 0.0171 - val_loss: 0.1375 - val_tp: 3.0000 - val_fp: 217.0000 - val_tn: 8648.0000 - val_fn: 113.0000 - val_accuracy: 0.9633 - val_precision: 0.0136 - val_recall: 0.0259 - val_auc: 0.5567 - val_prc: 0.0149\n",
      "Epoch 3/200\n",
      "11/11 [==============================] - 0s 20ms/step - loss: 1.6798 - tp: 42.0000 - fp: 1544.0000 - tn: 19125.0000 - fn: 244.0000 - accuracy: 0.9147 - precision: 0.0265 - recall: 0.1469 - auc: 0.5569 - prc: 0.0188 - val_loss: 0.1616 - val_tp: 4.0000 - val_fp: 312.0000 - val_tn: 8553.0000 - val_fn: 112.0000 - val_accuracy: 0.9528 - val_precision: 0.0127 - val_recall: 0.0345 - val_auc: 0.5693 - val_prc: 0.0153\n",
      "Epoch 4/200\n",
      "11/11 [==============================] - 0s 25ms/step - loss: 1.5771 - tp: 52.0000 - fp: 1922.0000 - tn: 18747.0000 - fn: 234.0000 - accuracy: 0.8971 - precision: 0.0263 - recall: 0.1818 - auc: 0.5720 - prc: 0.0200 - val_loss: 0.1849 - val_tp: 8.0000 - val_fp: 429.0000 - val_tn: 8436.0000 - val_fn: 108.0000 - val_accuracy: 0.9402 - val_precision: 0.0183 - val_recall: 0.0690 - val_auc: 0.5824 - val_prc: 0.0159\n",
      "Epoch 5/200\n",
      "11/11 [==============================] - 0s 41ms/step - loss: 1.5608 - tp: 39.0000 - fp: 2337.0000 - tn: 18332.0000 - fn: 247.0000 - accuracy: 0.8767 - precision: 0.0164 - recall: 0.1364 - auc: 0.5601 - prc: 0.0172 - val_loss: 0.2128 - val_tp: 9.0000 - val_fp: 578.0000 - val_tn: 8287.0000 - val_fn: 107.0000 - val_accuracy: 0.9237 - val_precision: 0.0153 - val_recall: 0.0776 - val_auc: 0.5870 - val_prc: 0.0161\n",
      "Epoch 6/200\n",
      "11/11 [==============================] - 0s 25ms/step - loss: 1.5281 - tp: 55.0000 - fp: 2565.0000 - tn: 18104.0000 - fn: 231.0000 - accuracy: 0.8666 - precision: 0.0210 - recall: 0.1923 - auc: 0.5587 - prc: 0.0176 - val_loss: 0.2390 - val_tp: 15.0000 - val_fp: 717.0000 - val_tn: 8148.0000 - val_fn: 101.0000 - val_accuracy: 0.9089 - val_precision: 0.0205 - val_recall: 0.1293 - val_auc: 0.5916 - val_prc: 0.0164\n",
      "Epoch 7/200\n",
      "11/11 [==============================] - 0s 20ms/step - loss: 1.4311 - tp: 69.0000 - fp: 2838.0000 - tn: 17831.0000 - fn: 217.0000 - accuracy: 0.8542 - precision: 0.0237 - recall: 0.2413 - auc: 0.5744 - prc: 0.0184 - val_loss: 0.2606 - val_tp: 17.0000 - val_fp: 833.0000 - val_tn: 8032.0000 - val_fn: 99.0000 - val_accuracy: 0.8962 - val_precision: 0.0200 - val_recall: 0.1466 - val_auc: 0.5923 - val_prc: 0.0166\n",
      "Epoch 8/200\n",
      "11/11 [==============================] - 0s 39ms/step - loss: 1.4008 - tp: 59.0000 - fp: 3147.0000 - tn: 17522.0000 - fn: 227.0000 - accuracy: 0.8390 - precision: 0.0184 - recall: 0.2063 - auc: 0.5739 - prc: 0.0180 - val_loss: 0.2830 - val_tp: 18.0000 - val_fp: 934.0000 - val_tn: 7931.0000 - val_fn: 98.0000 - val_accuracy: 0.8851 - val_precision: 0.0189 - val_recall: 0.1552 - val_auc: 0.5982 - val_prc: 0.0168\n",
      "Epoch 9/200\n",
      "11/11 [==============================] - 0s 30ms/step - loss: 1.2832 - tp: 86.0000 - fp: 3329.0000 - tn: 17340.0000 - fn: 200.0000 - accuracy: 0.8316 - precision: 0.0252 - recall: 0.3007 - auc: 0.6099 - prc: 0.0232 - val_loss: 0.2950 - val_tp: 18.0000 - val_fp: 985.0000 - val_tn: 7880.0000 - val_fn: 98.0000 - val_accuracy: 0.8794 - val_precision: 0.0179 - val_recall: 0.1552 - val_auc: 0.6018 - val_prc: 0.0170\n",
      "Epoch 10/200\n",
      "11/11 [==============================] - 0s 47ms/step - loss: 1.2851 - tp: 84.0000 - fp: 3441.0000 - tn: 17228.0000 - fn: 202.0000 - accuracy: 0.8262 - precision: 0.0238 - recall: 0.2937 - auc: 0.5937 - prc: 0.0209 - val_loss: 0.3026 - val_tp: 18.0000 - val_fp: 1013.0000 - val_tn: 7852.0000 - val_fn: 98.0000 - val_accuracy: 0.8763 - val_precision: 0.0175 - val_recall: 0.1552 - val_auc: 0.6007 - val_prc: 0.0170\n",
      "Epoch 11/200\n",
      "11/11 [==============================] - 0s 21ms/step - loss: 1.2798 - tp: 82.0000 - fp: 3633.0000 - tn: 17036.0000 - fn: 204.0000 - accuracy: 0.8169 - precision: 0.0221 - recall: 0.2867 - auc: 0.5843 - prc: 0.0185 - val_loss: 0.3110 - val_tp: 17.0000 - val_fp: 1037.0000 - val_tn: 7828.0000 - val_fn: 99.0000 - val_accuracy: 0.8735 - val_precision: 0.0161 - val_recall: 0.1466 - val_auc: 0.6001 - val_prc: 0.0170\n",
      "Epoch 12/200\n",
      "11/11 [==============================] - 0s 23ms/step - loss: 1.2459 - tp: 89.0000 - fp: 3699.0000 - tn: 16970.0000 - fn: 197.0000 - accuracy: 0.8141 - precision: 0.0235 - recall: 0.3112 - auc: 0.5956 - prc: 0.0205 - val_loss: 0.3247 - val_tp: 18.0000 - val_fp: 1121.0000 - val_tn: 7744.0000 - val_fn: 98.0000 - val_accuracy: 0.8643 - val_precision: 0.0158 - val_recall: 0.1552 - val_auc: 0.6007 - val_prc: 0.0171\n",
      "Epoch 13/200\n",
      "11/11 [==============================] - 0s 26ms/step - loss: 1.1824 - tp: 101.0000 - fp: 3921.0000 - tn: 16748.0000 - fn: 185.0000 - accuracy: 0.8041 - precision: 0.0251 - recall: 0.3531 - auc: 0.6083 - prc: 0.0213 - val_loss: 0.3346 - val_tp: 21.0000 - val_fp: 1160.0000 - val_tn: 7705.0000 - val_fn: 95.0000 - val_accuracy: 0.8603 - val_precision: 0.0178 - val_recall: 0.1810 - val_auc: 0.5983 - val_prc: 0.0171\n",
      "Epoch 14/200\n",
      "11/11 [==============================] - 0s 20ms/step - loss: 1.1440 - tp: 104.0000 - fp: 4051.0000 - tn: 16618.0000 - fn: 182.0000 - accuracy: 0.7980 - precision: 0.0250 - recall: 0.3636 - auc: 0.6167 - prc: 0.0221 - val_loss: 0.3434 - val_tp: 22.0000 - val_fp: 1193.0000 - val_tn: 7672.0000 - val_fn: 94.0000 - val_accuracy: 0.8567 - val_precision: 0.0181 - val_recall: 0.1897 - val_auc: 0.5989 - val_prc: 0.0172\n",
      "Epoch 15/200\n",
      "11/11 [==============================] - 0s 19ms/step - loss: 1.1936 - tp: 86.0000 - fp: 4327.0000 - tn: 16342.0000 - fn: 200.0000 - accuracy: 0.7840 - precision: 0.0195 - recall: 0.3007 - auc: 0.5857 - prc: 0.0177 - val_loss: 0.3541 - val_tp: 23.0000 - val_fp: 1238.0000 - val_tn: 7627.0000 - val_fn: 93.0000 - val_accuracy: 0.8518 - val_precision: 0.0182 - val_recall: 0.1983 - val_auc: 0.5993 - val_prc: 0.0172\n",
      "Epoch 16/200\n",
      "11/11 [==============================] - 0s 27ms/step - loss: 1.1924 - tp: 95.0000 - fp: 4464.0000 - tn: 16205.0000 - fn: 191.0000 - accuracy: 0.7779 - precision: 0.0208 - recall: 0.3322 - auc: 0.5910 - prc: 0.0195 - val_loss: 0.3666 - val_tp: 26.0000 - val_fp: 1273.0000 - val_tn: 7592.0000 - val_fn: 90.0000 - val_accuracy: 0.8482 - val_precision: 0.0200 - val_recall: 0.2241 - val_auc: 0.5996 - val_prc: 0.0173\n",
      "Epoch 17/200\n",
      "11/11 [==============================] - 0s 25ms/step - loss: 1.1824 - tp: 87.0000 - fp: 4566.0000 - tn: 16103.0000 - fn: 199.0000 - accuracy: 0.7726 - precision: 0.0187 - recall: 0.3042 - auc: 0.5872 - prc: 0.0205 - val_loss: 0.3739 - val_tp: 27.0000 - val_fp: 1308.0000 - val_tn: 7557.0000 - val_fn: 89.0000 - val_accuracy: 0.8444 - val_precision: 0.0202 - val_recall: 0.2328 - val_auc: 0.6002 - val_prc: 0.0173\n"
     ]
    },
    {
     "name": "stdout",
     "output_type": "stream",
     "text": [
      "Epoch 18/200\n",
      "11/11 [==============================] - 0s 31ms/step - loss: 1.1050 - tp: 115.0000 - fp: 4613.0000 - tn: 16056.0000 - fn: 171.0000 - accuracy: 0.7717 - precision: 0.0243 - recall: 0.4021 - auc: 0.6159 - prc: 0.0224 - val_loss: 0.3719 - val_tp: 27.0000 - val_fp: 1298.0000 - val_tn: 7567.0000 - val_fn: 89.0000 - val_accuracy: 0.8456 - val_precision: 0.0204 - val_recall: 0.2328 - val_auc: 0.6001 - val_prc: 0.0173\n",
      "Epoch 19/200\n",
      "11/11 [==============================] - 0s 30ms/step - loss: 1.1309 - tp: 108.0000 - fp: 4616.0000 - tn: 16053.0000 - fn: 178.0000 - accuracy: 0.7712 - precision: 0.0229 - recall: 0.3776 - auc: 0.5997 - prc: 0.0210 - val_loss: 0.3736 - val_tp: 26.0000 - val_fp: 1302.0000 - val_tn: 7563.0000 - val_fn: 90.0000 - val_accuracy: 0.8450 - val_precision: 0.0196 - val_recall: 0.2241 - val_auc: 0.6022 - val_prc: 0.0173\n",
      "Epoch 20/200\n",
      "11/11 [==============================] - 0s 41ms/step - loss: 1.1620 - tp: 100.0000 - fp: 4671.0000 - tn: 15998.0000 - fn: 186.0000 - accuracy: 0.7682 - precision: 0.0210 - recall: 0.3497 - auc: 0.5881 - prc: 0.0210 - val_loss: 0.3717 - val_tp: 28.0000 - val_fp: 1285.0000 - val_tn: 7580.0000 - val_fn: 88.0000 - val_accuracy: 0.8471 - val_precision: 0.0213 - val_recall: 0.2414 - val_auc: 0.6029 - val_prc: 0.0174\n",
      "Epoch 21/200\n",
      "11/11 [==============================] - 0s 32ms/step - loss: 1.0514 - tp: 100.0000 - fp: 4689.0000 - tn: 15980.0000 - fn: 186.0000 - accuracy: 0.7674 - precision: 0.0209 - recall: 0.3497 - auc: 0.6237 - prc: 0.0208 - val_loss: 0.3764 - val_tp: 27.0000 - val_fp: 1308.0000 - val_tn: 7557.0000 - val_fn: 89.0000 - val_accuracy: 0.8444 - val_precision: 0.0202 - val_recall: 0.2328 - val_auc: 0.6051 - val_prc: 0.0175\n",
      "Epoch 22/200\n",
      "11/11 [==============================] - 0s 21ms/step - loss: 1.0458 - tp: 113.0000 - fp: 4686.0000 - tn: 15983.0000 - fn: 173.0000 - accuracy: 0.7681 - precision: 0.0235 - recall: 0.3951 - auc: 0.6257 - prc: 0.0222 - val_loss: 0.3781 - val_tp: 28.0000 - val_fp: 1311.0000 - val_tn: 7554.0000 - val_fn: 88.0000 - val_accuracy: 0.8442 - val_precision: 0.0209 - val_recall: 0.2414 - val_auc: 0.6055 - val_prc: 0.0175\n",
      "Epoch 23/200\n",
      "11/11 [==============================] - 0s 22ms/step - loss: 1.1486 - tp: 93.0000 - fp: 4836.0000 - tn: 15833.0000 - fn: 193.0000 - accuracy: 0.7600 - precision: 0.0189 - recall: 0.3252 - auc: 0.5830 - prc: 0.0203 - val_loss: 0.3805 - val_tp: 29.0000 - val_fp: 1321.0000 - val_tn: 7544.0000 - val_fn: 87.0000 - val_accuracy: 0.8432 - val_precision: 0.0215 - val_recall: 0.2500 - val_auc: 0.6054 - val_prc: 0.0175\n",
      "Epoch 24/200\n",
      "11/11 [==============================] - 0s 24ms/step - loss: 1.0936 - tp: 103.0000 - fp: 4888.0000 - tn: 15781.0000 - fn: 183.0000 - accuracy: 0.7580 - precision: 0.0206 - recall: 0.3601 - auc: 0.6007 - prc: 0.0206 - val_loss: 0.3800 - val_tp: 26.0000 - val_fp: 1314.0000 - val_tn: 7551.0000 - val_fn: 90.0000 - val_accuracy: 0.8437 - val_precision: 0.0194 - val_recall: 0.2241 - val_auc: 0.6051 - val_prc: 0.0175\n",
      "Epoch 25/200\n",
      "11/11 [==============================] - 0s 36ms/step - loss: 1.0993 - tp: 101.0000 - fp: 4865.0000 - tn: 15804.0000 - fn: 185.0000 - accuracy: 0.7590 - precision: 0.0203 - recall: 0.3531 - auc: 0.5943 - prc: 0.0208 - val_loss: 0.3855 - val_tp: 29.0000 - val_fp: 1345.0000 - val_tn: 7520.0000 - val_fn: 87.0000 - val_accuracy: 0.8406 - val_precision: 0.0211 - val_recall: 0.2500 - val_auc: 0.6067 - val_prc: 0.0175\n",
      "Epoch 26/200\n",
      "11/11 [==============================] - 0s 49ms/step - loss: 0.9468 - tp: 129.0000 - fp: 4932.0000 - tn: 15737.0000 - fn: 157.0000 - accuracy: 0.7571 - precision: 0.0255 - recall: 0.4510 - auc: 0.6578 - prc: 0.0261 - val_loss: 0.3911 - val_tp: 28.0000 - val_fp: 1381.0000 - val_tn: 7484.0000 - val_fn: 88.0000 - val_accuracy: 0.8364 - val_precision: 0.0199 - val_recall: 0.2414 - val_auc: 0.6059 - val_prc: 0.0175\n",
      "Epoch 27/200\n",
      "11/11 [==============================] - 0s 24ms/step - loss: 1.1498 - tp: 109.0000 - fp: 5012.0000 - tn: 15657.0000 - fn: 177.0000 - accuracy: 0.7524 - precision: 0.0213 - recall: 0.3811 - auc: 0.5772 - prc: 0.0210 - val_loss: 0.3942 - val_tp: 27.0000 - val_fp: 1397.0000 - val_tn: 7468.0000 - val_fn: 89.0000 - val_accuracy: 0.8345 - val_precision: 0.0190 - val_recall: 0.2328 - val_auc: 0.6059 - val_prc: 0.0175\n",
      "Epoch 28/200\n",
      "11/11 [==============================] - 0s 21ms/step - loss: 1.0198 - tp: 118.0000 - fp: 5033.0000 - tn: 15636.0000 - fn: 168.0000 - accuracy: 0.7518 - precision: 0.0229 - recall: 0.4126 - auc: 0.6245 - prc: 0.0220 - val_loss: 0.4018 - val_tp: 28.0000 - val_fp: 1441.0000 - val_tn: 7424.0000 - val_fn: 88.0000 - val_accuracy: 0.8298 - val_precision: 0.0191 - val_recall: 0.2414 - val_auc: 0.6063 - val_prc: 0.0175\n",
      "Epoch 29/200\n",
      "11/11 [==============================] - 0s 21ms/step - loss: 0.9865 - tp: 118.0000 - fp: 5061.0000 - tn: 15608.0000 - fn: 168.0000 - accuracy: 0.7505 - precision: 0.0228 - recall: 0.4126 - auc: 0.6368 - prc: 0.0215 - val_loss: 0.4123 - val_tp: 28.0000 - val_fp: 1508.0000 - val_tn: 7357.0000 - val_fn: 88.0000 - val_accuracy: 0.8223 - val_precision: 0.0182 - val_recall: 0.2414 - val_auc: 0.6084 - val_prc: 0.0177\n",
      "Epoch 30/200\n",
      "11/11 [==============================] - 0s 28ms/step - loss: 1.0122 - tp: 126.0000 - fp: 5071.0000 - tn: 15598.0000 - fn: 160.0000 - accuracy: 0.7504 - precision: 0.0242 - recall: 0.4406 - auc: 0.6272 - prc: 0.0230 - val_loss: 0.4148 - val_tp: 31.0000 - val_fp: 1519.0000 - val_tn: 7346.0000 - val_fn: 85.0000 - val_accuracy: 0.8214 - val_precision: 0.0200 - val_recall: 0.2672 - val_auc: 0.6084 - val_prc: 0.0177\n",
      "Epoch 31/200\n",
      "11/11 [==============================] - 0s 22ms/step - loss: 1.0038 - tp: 128.0000 - fp: 5117.0000 - tn: 15552.0000 - fn: 158.0000 - accuracy: 0.7483 - precision: 0.0244 - recall: 0.4476 - auc: 0.6287 - prc: 0.0251 - val_loss: 0.4110 - val_tp: 29.0000 - val_fp: 1482.0000 - val_tn: 7383.0000 - val_fn: 87.0000 - val_accuracy: 0.8253 - val_precision: 0.0192 - val_recall: 0.2500 - val_auc: 0.6085 - val_prc: 0.0178\n",
      "Epoch 32/200\n",
      "11/11 [==============================] - 0s 32ms/step - loss: 1.0556 - tp: 111.0000 - fp: 4987.0000 - tn: 15682.0000 - fn: 175.0000 - accuracy: 0.7537 - precision: 0.0218 - recall: 0.3881 - auc: 0.6045 - prc: 0.0236 - val_loss: 0.4099 - val_tp: 29.0000 - val_fp: 1470.0000 - val_tn: 7395.0000 - val_fn: 87.0000 - val_accuracy: 0.8266 - val_precision: 0.0193 - val_recall: 0.2500 - val_auc: 0.6077 - val_prc: 0.0179\n",
      "Epoch 33/200\n",
      "11/11 [==============================] - 1s 51ms/step - loss: 0.9472 - tp: 132.0000 - fp: 4993.0000 - tn: 15676.0000 - fn: 154.0000 - accuracy: 0.7544 - precision: 0.0258 - recall: 0.4615 - auc: 0.6516 - prc: 0.0285 - val_loss: 0.4052 - val_tp: 28.0000 - val_fp: 1440.0000 - val_tn: 7425.0000 - val_fn: 88.0000 - val_accuracy: 0.8299 - val_precision: 0.0191 - val_recall: 0.2414 - val_auc: 0.6075 - val_prc: 0.0179\n",
      "Epoch 34/200\n",
      "11/11 [==============================] - 0s 20ms/step - loss: 1.0293 - tp: 108.0000 - fp: 4965.0000 - tn: 15704.0000 - fn: 178.0000 - accuracy: 0.7546 - precision: 0.0213 - recall: 0.3776 - auc: 0.6107 - prc: 0.0222 - val_loss: 0.3969 - val_tp: 26.0000 - val_fp: 1391.0000 - val_tn: 7474.0000 - val_fn: 90.0000 - val_accuracy: 0.8351 - val_precision: 0.0183 - val_recall: 0.2241 - val_auc: 0.6064 - val_prc: 0.0179\n",
      "Epoch 35/200\n",
      "11/11 [==============================] - 0s 21ms/step - loss: 1.0641 - tp: 106.0000 - fp: 5019.0000 - tn: 15650.0000 - fn: 180.0000 - accuracy: 0.7519 - precision: 0.0207 - recall: 0.3706 - auc: 0.5907 - prc: 0.0204 - val_loss: 0.4019 - val_tp: 26.0000 - val_fp: 1432.0000 - val_tn: 7433.0000 - val_fn: 90.0000 - val_accuracy: 0.8305 - val_precision: 0.0178 - val_recall: 0.2241 - val_auc: 0.6077 - val_prc: 0.0180\n",
      "Epoch 36/200\n",
      "11/11 [==============================] - 0s 19ms/step - loss: 0.9828 - tp: 119.0000 - fp: 5058.0000 - tn: 15611.0000 - fn: 167.0000 - accuracy: 0.7507 - precision: 0.0230 - recall: 0.4161 - auc: 0.6295 - prc: 0.0260 - val_loss: 0.4014 - val_tp: 26.0000 - val_fp: 1419.0000 - val_tn: 7446.0000 - val_fn: 90.0000 - val_accuracy: 0.8320 - val_precision: 0.0180 - val_recall: 0.2241 - val_auc: 0.6079 - val_prc: 0.0180\n",
      "Epoch 37/200\n"
     ]
    },
    {
     "name": "stdout",
     "output_type": "stream",
     "text": [
      "11/11 [==============================] - 0s 32ms/step - loss: 0.9829 - tp: 124.0000 - fp: 5084.0000 - tn: 15585.0000 - fn: 162.0000 - accuracy: 0.7497 - precision: 0.0238 - recall: 0.4336 - auc: 0.6315 - prc: 0.0255 - val_loss: 0.3960 - val_tp: 26.0000 - val_fp: 1379.0000 - val_tn: 7486.0000 - val_fn: 90.0000 - val_accuracy: 0.8364 - val_precision: 0.0185 - val_recall: 0.2241 - val_auc: 0.6064 - val_prc: 0.0180\n",
      "Epoch 38/200\n",
      "11/11 [==============================] - 0s 30ms/step - loss: 0.9432 - tp: 128.0000 - fp: 5024.0000 - tn: 15645.0000 - fn: 158.0000 - accuracy: 0.7527 - precision: 0.0248 - recall: 0.4476 - auc: 0.6472 - prc: 0.0272 - val_loss: 0.3922 - val_tp: 24.0000 - val_fp: 1341.0000 - val_tn: 7524.0000 - val_fn: 92.0000 - val_accuracy: 0.8404 - val_precision: 0.0176 - val_recall: 0.2069 - val_auc: 0.6061 - val_prc: 0.0180\n",
      "Epoch 39/200\n",
      "11/11 [==============================] - 0s 21ms/step - loss: 0.9877 - tp: 125.0000 - fp: 5006.0000 - tn: 15663.0000 - fn: 161.0000 - accuracy: 0.7534 - precision: 0.0244 - recall: 0.4371 - auc: 0.6258 - prc: 0.0250 - val_loss: 0.3915 - val_tp: 25.0000 - val_fp: 1334.0000 - val_tn: 7531.0000 - val_fn: 91.0000 - val_accuracy: 0.8413 - val_precision: 0.0184 - val_recall: 0.2155 - val_auc: 0.6059 - val_prc: 0.0181\n",
      "Epoch 40/200\n",
      "11/11 [==============================] - 0s 26ms/step - loss: 0.9672 - tp: 112.0000 - fp: 5023.0000 - tn: 15646.0000 - fn: 174.0000 - accuracy: 0.7520 - precision: 0.0218 - recall: 0.3916 - auc: 0.6273 - prc: 0.0237 - val_loss: 0.3950 - val_tp: 25.0000 - val_fp: 1367.0000 - val_tn: 7498.0000 - val_fn: 91.0000 - val_accuracy: 0.8377 - val_precision: 0.0180 - val_recall: 0.2155 - val_auc: 0.6088 - val_prc: 0.0182\n",
      "Epoch 41/200\n",
      "11/11 [==============================] - 0s 24ms/step - loss: 0.9729 - tp: 131.0000 - fp: 4899.0000 - tn: 15770.0000 - fn: 155.0000 - accuracy: 0.7588 - precision: 0.0260 - recall: 0.4580 - auc: 0.6293 - prc: 0.0233 - val_loss: 0.3941 - val_tp: 25.0000 - val_fp: 1364.0000 - val_tn: 7501.0000 - val_fn: 91.0000 - val_accuracy: 0.8380 - val_precision: 0.0180 - val_recall: 0.2155 - val_auc: 0.6088 - val_prc: 0.0182\n",
      "Epoch 42/200\n",
      "11/11 [==============================] - 1s 53ms/step - loss: 0.9733 - tp: 121.0000 - fp: 5023.0000 - tn: 15646.0000 - fn: 165.0000 - accuracy: 0.7524 - precision: 0.0235 - recall: 0.4231 - auc: 0.6249 - prc: 0.0226 - val_loss: 0.3954 - val_tp: 25.0000 - val_fp: 1359.0000 - val_tn: 7506.0000 - val_fn: 91.0000 - val_accuracy: 0.8385 - val_precision: 0.0181 - val_recall: 0.2155 - val_auc: 0.6100 - val_prc: 0.0182\n",
      "Epoch 43/200\n",
      "11/11 [==============================] - 0s 24ms/step - loss: 0.9814 - tp: 123.0000 - fp: 4953.0000 - tn: 15716.0000 - fn: 163.0000 - accuracy: 0.7559 - precision: 0.0242 - recall: 0.4301 - auc: 0.6222 - prc: 0.0232 - val_loss: 0.3957 - val_tp: 25.0000 - val_fp: 1369.0000 - val_tn: 7496.0000 - val_fn: 91.0000 - val_accuracy: 0.8374 - val_precision: 0.0179 - val_recall: 0.2155 - val_auc: 0.6111 - val_prc: 0.0182\n",
      "Epoch 44/200\n",
      "11/11 [==============================] - 1s 71ms/step - loss: 1.0258 - tp: 123.0000 - fp: 4913.0000 - tn: 15756.0000 - fn: 163.0000 - accuracy: 0.7578 - precision: 0.0244 - recall: 0.4301 - auc: 0.6068 - prc: 0.0205 - val_loss: 0.3977 - val_tp: 26.0000 - val_fp: 1374.0000 - val_tn: 7491.0000 - val_fn: 90.0000 - val_accuracy: 0.8370 - val_precision: 0.0186 - val_recall: 0.2241 - val_auc: 0.6124 - val_prc: 0.0183\n",
      "Epoch 45/200\n",
      "11/11 [==============================] - 0s 26ms/step - loss: 0.9677 - tp: 117.0000 - fp: 4883.0000 - tn: 15786.0000 - fn: 169.0000 - accuracy: 0.7589 - precision: 0.0234 - recall: 0.4091 - auc: 0.6291 - prc: 0.0220 - val_loss: 0.3972 - val_tp: 27.0000 - val_fp: 1371.0000 - val_tn: 7494.0000 - val_fn: 89.0000 - val_accuracy: 0.8374 - val_precision: 0.0193 - val_recall: 0.2328 - val_auc: 0.6123 - val_prc: 0.0184\n",
      "Epoch 46/200\n",
      "11/11 [==============================] - 1s 85ms/step - loss: 0.8844 - tp: 133.0000 - fp: 4874.0000 - tn: 15795.0000 - fn: 153.0000 - accuracy: 0.7601 - precision: 0.0266 - recall: 0.4650 - auc: 0.6677 - prc: 0.0280 - val_loss: 0.3959 - val_tp: 26.0000 - val_fp: 1359.0000 - val_tn: 7506.0000 - val_fn: 90.0000 - val_accuracy: 0.8387 - val_precision: 0.0188 - val_recall: 0.2241 - val_auc: 0.6134 - val_prc: 0.0185\n",
      "Epoch 47/200\n",
      "11/11 [==============================] - 0s 34ms/step - loss: 0.9868 - tp: 116.0000 - fp: 4984.0000 - tn: 15685.0000 - fn: 170.0000 - accuracy: 0.7540 - precision: 0.0227 - recall: 0.4056 - auc: 0.6186 - prc: 0.0254 - val_loss: 0.3924 - val_tp: 26.0000 - val_fp: 1332.0000 - val_tn: 7533.0000 - val_fn: 90.0000 - val_accuracy: 0.8417 - val_precision: 0.0191 - val_recall: 0.2241 - val_auc: 0.6122 - val_prc: 0.0183\n",
      "Epoch 48/200\n",
      "11/11 [==============================] - 0s 43ms/step - loss: 0.9501 - tp: 120.0000 - fp: 4896.0000 - tn: 15773.0000 - fn: 166.0000 - accuracy: 0.7584 - precision: 0.0239 - recall: 0.4196 - auc: 0.6269 - prc: 0.0228 - val_loss: 0.3927 - val_tp: 26.0000 - val_fp: 1327.0000 - val_tn: 7538.0000 - val_fn: 90.0000 - val_accuracy: 0.8422 - val_precision: 0.0192 - val_recall: 0.2241 - val_auc: 0.6112 - val_prc: 0.0184\n",
      "Epoch 49/200\n",
      "11/11 [==============================] - 0s 31ms/step - loss: 0.9294 - tp: 123.0000 - fp: 4843.0000 - tn: 15826.0000 - fn: 163.0000 - accuracy: 0.7611 - precision: 0.0248 - recall: 0.4301 - auc: 0.6422 - prc: 0.0233 - val_loss: 0.3960 - val_tp: 27.0000 - val_fp: 1358.0000 - val_tn: 7507.0000 - val_fn: 89.0000 - val_accuracy: 0.8389 - val_precision: 0.0195 - val_recall: 0.2328 - val_auc: 0.6128 - val_prc: 0.0185\n",
      "Epoch 50/200\n",
      "11/11 [==============================] - 0s 28ms/step - loss: 0.9475 - tp: 119.0000 - fp: 5021.0000 - tn: 15648.0000 - fn: 167.0000 - accuracy: 0.7524 - precision: 0.0232 - recall: 0.4161 - auc: 0.6351 - prc: 0.0233 - val_loss: 0.3983 - val_tp: 28.0000 - val_fp: 1359.0000 - val_tn: 7506.0000 - val_fn: 88.0000 - val_accuracy: 0.8389 - val_precision: 0.0202 - val_recall: 0.2414 - val_auc: 0.6123 - val_prc: 0.0185\n",
      "Epoch 51/200\n",
      "11/11 [==============================] - 0s 31ms/step - loss: 0.9721 - tp: 120.0000 - fp: 4985.0000 - tn: 15684.0000 - fn: 166.0000 - accuracy: 0.7542 - precision: 0.0235 - recall: 0.4196 - auc: 0.6251 - prc: 0.0215 - val_loss: 0.4030 - val_tp: 28.0000 - val_fp: 1377.0000 - val_tn: 7488.0000 - val_fn: 88.0000 - val_accuracy: 0.8369 - val_precision: 0.0199 - val_recall: 0.2414 - val_auc: 0.6103 - val_prc: 0.0185\n",
      "Epoch 52/200\n",
      "11/11 [==============================] - 0s 29ms/step - loss: 0.8974 - tp: 126.0000 - fp: 5001.0000 - tn: 15668.0000 - fn: 160.0000 - accuracy: 0.7537 - precision: 0.0246 - recall: 0.4406 - auc: 0.6531 - prc: 0.0253 - val_loss: 0.4050 - val_tp: 29.0000 - val_fp: 1382.0000 - val_tn: 7483.0000 - val_fn: 87.0000 - val_accuracy: 0.8364 - val_precision: 0.0206 - val_recall: 0.2500 - val_auc: 0.6111 - val_prc: 0.0185\n",
      "Epoch 53/200\n",
      "11/11 [==============================] - 1s 37ms/step - loss: 0.9272 - tp: 123.0000 - fp: 5124.0000 - tn: 15545.0000 - fn: 163.0000 - accuracy: 0.7477 - precision: 0.0234 - recall: 0.4301 - auc: 0.6336 - prc: 0.0215 - val_loss: 0.4112 - val_tp: 30.0000 - val_fp: 1420.0000 - val_tn: 7445.0000 - val_fn: 86.0000 - val_accuracy: 0.8323 - val_precision: 0.0207 - val_recall: 0.2586 - val_auc: 0.6117 - val_prc: 0.0186\n",
      "Epoch 54/200\n",
      "11/11 [==============================] - 0s 23ms/step - loss: 0.8800 - tp: 128.0000 - fp: 5042.0000 - tn: 15627.0000 - fn: 158.0000 - accuracy: 0.7518 - precision: 0.0248 - recall: 0.4476 - auc: 0.6597 - prc: 0.0248 - val_loss: 0.4128 - val_tp: 31.0000 - val_fp: 1435.0000 - val_tn: 7430.0000 - val_fn: 85.0000 - val_accuracy: 0.8308 - val_precision: 0.0211 - val_recall: 0.2672 - val_auc: 0.6132 - val_prc: 0.0187\n",
      "Epoch 55/200\n",
      "11/11 [==============================] - 0s 24ms/step - loss: 0.9232 - tp: 107.0000 - fp: 5110.0000 - tn: 15559.0000 - fn: 179.0000 - accuracy: 0.7476 - precision: 0.0205 - recall: 0.3741 - auc: 0.6325 - prc: 0.0236 - val_loss: 0.4145 - val_tp: 31.0000 - val_fp: 1429.0000 - val_tn: 7436.0000 - val_fn: 85.0000 - val_accuracy: 0.8314 - val_precision: 0.0212 - val_recall: 0.2672 - val_auc: 0.6133 - val_prc: 0.0187\n",
      "Epoch 56/200\n"
     ]
    },
    {
     "name": "stdout",
     "output_type": "stream",
     "text": [
      "11/11 [==============================] - 0s 24ms/step - loss: 0.9114 - tp: 119.0000 - fp: 5143.0000 - tn: 15526.0000 - fn: 167.0000 - accuracy: 0.7466 - precision: 0.0226 - recall: 0.4161 - auc: 0.6394 - prc: 0.0217 - val_loss: 0.4187 - val_tp: 31.0000 - val_fp: 1461.0000 - val_tn: 7404.0000 - val_fn: 85.0000 - val_accuracy: 0.8279 - val_precision: 0.0208 - val_recall: 0.2672 - val_auc: 0.6155 - val_prc: 0.0189\n",
      "Epoch 57/200\n",
      "11/11 [==============================] - 0s 21ms/step - loss: 0.8274 - tp: 142.0000 - fp: 5200.0000 - tn: 15469.0000 - fn: 144.0000 - accuracy: 0.7450 - precision: 0.0266 - recall: 0.4965 - auc: 0.6817 - prc: 0.0307 - val_loss: 0.4139 - val_tp: 31.0000 - val_fp: 1429.0000 - val_tn: 7436.0000 - val_fn: 85.0000 - val_accuracy: 0.8314 - val_precision: 0.0212 - val_recall: 0.2672 - val_auc: 0.6165 - val_prc: 0.0190\n",
      "Epoch 58/200\n",
      "11/11 [==============================] - 0s 22ms/step - loss: 0.9157 - tp: 125.0000 - fp: 5194.0000 - tn: 15475.0000 - fn: 161.0000 - accuracy: 0.7445 - precision: 0.0235 - recall: 0.4371 - auc: 0.6373 - prc: 0.0248 - val_loss: 0.4110 - val_tp: 30.0000 - val_fp: 1388.0000 - val_tn: 7477.0000 - val_fn: 86.0000 - val_accuracy: 0.8359 - val_precision: 0.0212 - val_recall: 0.2586 - val_auc: 0.6148 - val_prc: 0.0190\n",
      "Epoch 59/200\n",
      "11/11 [==============================] - 0s 18ms/step - loss: 0.9535 - tp: 122.0000 - fp: 5092.0000 - tn: 15577.0000 - fn: 164.0000 - accuracy: 0.7492 - precision: 0.0234 - recall: 0.4266 - auc: 0.6189 - prc: 0.0237 - val_loss: 0.4095 - val_tp: 29.0000 - val_fp: 1388.0000 - val_tn: 7477.0000 - val_fn: 87.0000 - val_accuracy: 0.8358 - val_precision: 0.0205 - val_recall: 0.2500 - val_auc: 0.6167 - val_prc: 0.0190\n",
      "Epoch 60/200\n",
      "11/11 [==============================] - 0s 38ms/step - loss: 0.9025 - tp: 127.0000 - fp: 5119.0000 - tn: 15550.0000 - fn: 159.0000 - accuracy: 0.7481 - precision: 0.0242 - recall: 0.4441 - auc: 0.6454 - prc: 0.0240 - val_loss: 0.4135 - val_tp: 30.0000 - val_fp: 1408.0000 - val_tn: 7457.0000 - val_fn: 86.0000 - val_accuracy: 0.8336 - val_precision: 0.0209 - val_recall: 0.2586 - val_auc: 0.6174 - val_prc: 0.0190\n",
      "Epoch 61/200\n",
      "11/11 [==============================] - 0s 25ms/step - loss: 0.8964 - tp: 135.0000 - fp: 5043.0000 - tn: 15626.0000 - fn: 151.0000 - accuracy: 0.7521 - precision: 0.0261 - recall: 0.4720 - auc: 0.6517 - prc: 0.0303 - val_loss: 0.4052 - val_tp: 28.0000 - val_fp: 1345.0000 - val_tn: 7520.0000 - val_fn: 88.0000 - val_accuracy: 0.8404 - val_precision: 0.0204 - val_recall: 0.2414 - val_auc: 0.6158 - val_prc: 0.0190\n",
      "Epoch 62/200\n",
      "11/11 [==============================] - 0s 19ms/step - loss: 0.9199 - tp: 126.0000 - fp: 4953.0000 - tn: 15716.0000 - fn: 160.0000 - accuracy: 0.7560 - precision: 0.0248 - recall: 0.4406 - auc: 0.6326 - prc: 0.0248 - val_loss: 0.4015 - val_tp: 26.0000 - val_fp: 1326.0000 - val_tn: 7539.0000 - val_fn: 90.0000 - val_accuracy: 0.8423 - val_precision: 0.0192 - val_recall: 0.2241 - val_auc: 0.6157 - val_prc: 0.0191\n",
      "Epoch 63/200\n",
      "11/11 [==============================] - 0s 25ms/step - loss: 0.8805 - tp: 132.0000 - fp: 4936.0000 - tn: 15733.0000 - fn: 154.0000 - accuracy: 0.7571 - precision: 0.0260 - recall: 0.4615 - auc: 0.6539 - prc: 0.0266 - val_loss: 0.4029 - val_tp: 26.0000 - val_fp: 1328.0000 - val_tn: 7537.0000 - val_fn: 90.0000 - val_accuracy: 0.8421 - val_precision: 0.0192 - val_recall: 0.2241 - val_auc: 0.6153 - val_prc: 0.0190\n",
      "Epoch 64/200\n",
      "11/11 [==============================] - 0s 35ms/step - loss: 0.8655 - tp: 135.0000 - fp: 5064.0000 - tn: 15605.0000 - fn: 151.0000 - accuracy: 0.7511 - precision: 0.0260 - recall: 0.4720 - auc: 0.6594 - prc: 0.0255 - val_loss: 0.4079 - val_tp: 26.0000 - val_fp: 1349.0000 - val_tn: 7516.0000 - val_fn: 90.0000 - val_accuracy: 0.8398 - val_precision: 0.0189 - val_recall: 0.2241 - val_auc: 0.6160 - val_prc: 0.0191\n",
      "Epoch 65/200\n",
      "11/11 [==============================] - 0s 33ms/step - loss: 0.9012 - tp: 124.0000 - fp: 5082.0000 - tn: 15587.0000 - fn: 162.0000 - accuracy: 0.7497 - precision: 0.0238 - recall: 0.4336 - auc: 0.6424 - prc: 0.0259 - val_loss: 0.4118 - val_tp: 29.0000 - val_fp: 1371.0000 - val_tn: 7494.0000 - val_fn: 87.0000 - val_accuracy: 0.8377 - val_precision: 0.0207 - val_recall: 0.2500 - val_auc: 0.6147 - val_prc: 0.0190\n",
      "Epoch 66/200\n",
      "11/11 [==============================] - 0s 26ms/step - loss: 0.8935 - tp: 126.0000 - fp: 5112.0000 - tn: 15557.0000 - fn: 160.0000 - accuracy: 0.7484 - precision: 0.0241 - recall: 0.4406 - auc: 0.6437 - prc: 0.0265 - val_loss: 0.4187 - val_tp: 31.0000 - val_fp: 1413.0000 - val_tn: 7452.0000 - val_fn: 85.0000 - val_accuracy: 0.8332 - val_precision: 0.0215 - val_recall: 0.2672 - val_auc: 0.6159 - val_prc: 0.0190\n",
      "Epoch 67/200\n",
      "11/11 [==============================] - 0s 24ms/step - loss: 0.8884 - tp: 134.0000 - fp: 5098.0000 - tn: 15571.0000 - fn: 152.0000 - accuracy: 0.7495 - precision: 0.0256 - recall: 0.4685 - auc: 0.6514 - prc: 0.0254 - val_loss: 0.4183 - val_tp: 31.0000 - val_fp: 1422.0000 - val_tn: 7443.0000 - val_fn: 85.0000 - val_accuracy: 0.8322 - val_precision: 0.0213 - val_recall: 0.2672 - val_auc: 0.6170 - val_prc: 0.0190\n",
      "Epoch 68/200\n",
      "11/11 [==============================] - 0s 35ms/step - loss: 0.9180 - tp: 124.0000 - fp: 5008.0000 - tn: 15661.0000 - fn: 162.0000 - accuracy: 0.7533 - precision: 0.0242 - recall: 0.4336 - auc: 0.6310 - prc: 0.0235 - val_loss: 0.4163 - val_tp: 32.0000 - val_fp: 1425.0000 - val_tn: 7440.0000 - val_fn: 84.0000 - val_accuracy: 0.8320 - val_precision: 0.0220 - val_recall: 0.2759 - val_auc: 0.6183 - val_prc: 0.0191\n",
      "Epoch 69/200\n",
      "11/11 [==============================] - 0s 24ms/step - loss: 0.8984 - tp: 122.0000 - fp: 5066.0000 - tn: 15603.0000 - fn: 164.0000 - accuracy: 0.7504 - precision: 0.0235 - recall: 0.4266 - auc: 0.6405 - prc: 0.0237 - val_loss: 0.4169 - val_tp: 31.0000 - val_fp: 1426.0000 - val_tn: 7439.0000 - val_fn: 85.0000 - val_accuracy: 0.8318 - val_precision: 0.0213 - val_recall: 0.2672 - val_auc: 0.6182 - val_prc: 0.0190\n",
      "Epoch 70/200\n",
      "11/11 [==============================] - 0s 27ms/step - loss: 0.8585 - tp: 141.0000 - fp: 4951.0000 - tn: 15718.0000 - fn: 145.0000 - accuracy: 0.7568 - precision: 0.0277 - recall: 0.4930 - auc: 0.6628 - prc: 0.0260 - val_loss: 0.4176 - val_tp: 32.0000 - val_fp: 1418.0000 - val_tn: 7447.0000 - val_fn: 84.0000 - val_accuracy: 0.8328 - val_precision: 0.0221 - val_recall: 0.2759 - val_auc: 0.6189 - val_prc: 0.0190\n",
      "Epoch 71/200\n",
      "11/11 [==============================] - 0s 23ms/step - loss: 0.8728 - tp: 134.0000 - fp: 5103.0000 - tn: 15566.0000 - fn: 152.0000 - accuracy: 0.7492 - precision: 0.0256 - recall: 0.4685 - auc: 0.6532 - prc: 0.0289 - val_loss: 0.4153 - val_tp: 29.0000 - val_fp: 1390.0000 - val_tn: 7475.0000 - val_fn: 87.0000 - val_accuracy: 0.8355 - val_precision: 0.0204 - val_recall: 0.2500 - val_auc: 0.6170 - val_prc: 0.0189\n",
      "Epoch 72/200\n",
      " 7/11 [==================>...........] - ETA: 0s - loss: 0.8289 - tp: 101.0000 - fp: 3455.0000 - tn: 10685.0000 - fn: 95.0000 - accuracy: 0.7524 - precision: 0.0284 - recall: 0.5153 - auc: 0.6768 - prc: 0.0323Restoring model weights from the end of the best epoch: 62.\n",
      "11/11 [==============================] - 0s 20ms/step - loss: 0.8431 - tp: 137.0000 - fp: 4990.0000 - tn: 15679.0000 - fn: 149.0000 - accuracy: 0.7548 - precision: 0.0267 - recall: 0.4790 - auc: 0.6647 - prc: 0.0288 - val_loss: 0.4106 - val_tp: 29.0000 - val_fp: 1360.0000 - val_tn: 7505.0000 - val_fn: 87.0000 - val_accuracy: 0.8389 - val_precision: 0.0209 - val_recall: 0.2500 - val_auc: 0.6159 - val_prc: 0.0189\n",
      "Epoch 72: early stopping\n"
     ]
    }
   ],
   "source": [
    "weighted_model = make_model()\n",
    "weighted_model.load_weights(initial_weights)\n",
    "\n",
    "weighted_history = weighted_model.fit(\n",
    "    train_features,\n",
    "    train_labels,\n",
    "    batch_size=BATCH_SIZE,\n",
    "    epochs=EPOCHS,\n",
    "    callbacks=[early_stopping],\n",
    "    validation_data=(val_features, val_labels),\n",
    "    # The class weights go here\n",
    "    class_weight=class_weight)"
   ]
  },
  {
   "cell_type": "code",
   "execution_count": 32,
   "id": "eb34db5e",
   "metadata": {},
   "outputs": [
    {
     "data": {
      "image/png": "[encoded data removed]",
      "text/plain": [
       "<Figure size 432x288 with 4 Axes>"
      ]
     },
     "metadata": {
      "needs_background": "light"
     },
     "output_type": "display_data"
    }
   ],
   "source": [
    "plot_metrics(weighted_history)"
   ]
  },
  {
   "cell_type": "code",
   "execution_count": 33,
   "id": "1b6f7927",
   "metadata": {},
   "outputs": [
    {
     "name": "stdout",
     "output_type": "stream",
     "text": [
      "WARNING: AutoGraph could not transform <function Model.make_predict_function.<locals>.predict_function at 0x7f89d1c40dd0> and will run it as-is.\n",
      "Please report this to the TensorFlow team. When filing the bug, set the verbosity to 10 (on Linux, `export AUTOGRAPH_VERBOSITY=10`) and attach the full output.\n",
      "Cause: 'arguments' object has no attribute 'posonlyargs'\n",
      "To silence this warning, decorate the function with @tf.autograph.experimental.do_not_convert\n",
      "11/11 [==============================] - 0s 5ms/step\n",
      "7/7 [==============================] - 0s 5ms/step\n"
     ]
    }
   ],
   "source": [
    "train_predictions_weighted = weighted_model.predict(train_features, batch_size=BATCH_SIZE)\n",
    "test_predictions_weighted = weighted_model.predict(test_features, batch_size=BATCH_SIZE)"
   ]
  },
  {
   "cell_type": "code",
   "execution_count": 34,
   "id": "b222d817",
   "metadata": {},
   "outputs": [
    {
     "name": "stdout",
     "output_type": "stream",
     "text": [
      "loss :  0.4043472707271576\n",
      "tp :  48.0\n",
      "fp :  1828.0\n",
      "tn :  10821.0\n",
      "fn :  133.0\n",
      "accuracy :  0.8471550941467285\n",
      "precision :  0.025586353614926338\n",
      "recall :  0.265193372964859\n",
      "auc :  0.6171313524246216\n",
      "prc :  0.021213583648204803\n",
      "\n",
      "Legitimate Transactions Detected (True Negatives):  10821\n",
      "Legitimate Transactions Incorrectly Detected (False Positives):  1828\n",
      "Fraudulent Transactions Missed (False Negatives):  133\n",
      "Fraudulent Transactions Detected (True Positives):  48\n",
      "Total Fraudulent Transactions:  181\n"
     ]
    },
    {
     "data": {
      "image/png": "[encoded data removed]",
      "text/plain": [
       "<Figure size 360x360 with 2 Axes>"
      ]
     },
     "metadata": {
      "needs_background": "light"
     },
     "output_type": "display_data"
    }
   ],
   "source": [
    "weighted_results = weighted_model.evaluate(test_features, test_labels,\n",
    "                                           batch_size=BATCH_SIZE, verbose=0)\n",
    "for name, value in zip(weighted_model.metrics_names, weighted_results):\n",
    "  print(name, ': ', value)\n",
    "print()\n",
    "\n",
    "plot_cm(test_labels, test_predictions_weighted)"
   ]
  },
  {
   "cell_type": "code",
   "execution_count": 35,
   "id": "1bececd8",
   "metadata": {},
   "outputs": [
    {
     "data": {
      "image/png": "[encoded data removed]",
      "text/plain": [
       "<Figure size 432x288 with 1 Axes>"
      ]
     },
     "metadata": {
      "needs_background": "light"
     },
     "output_type": "display_data"
    }
   ],
   "source": [
    "plot_roc(\"Train Baseline\", train_labels, train_predictions_baseline, color=colors[0])\n",
    "plot_roc(\"Test Baseline\", test_labels, test_predictions_baseline, color=colors[0], linestyle='--')\n",
    "\n",
    "plot_roc(\"Train Weighted\", train_labels, train_predictions_weighted, color=colors[1])\n",
    "plot_roc(\"Test Weighted\", test_labels, test_predictions_weighted, color=colors[1], linestyle='--')\n",
    "\n",
    "\n",
    "plt.legend(loc='lower right');"
   ]
  },
  {
   "cell_type": "code",
   "execution_count": null,
   "id": "5398b7b6",
   "metadata": {},
   "outputs": [],
   "source": []
  }
 ],
 "metadata": {
  "kernelspec": {
   "display_name": "super-env",
   "language": "python",
   "name": "super-env"
  },
  "language_info": {
   "codemirror_mode": {
    "name": "ipython",
    "version": 3
   },
   "file_extension": ".py",
   "mimetype": "text/x-python",
   "name": "python",
   "nbconvert_exporter": "python",
   "pygments_lexer": "ipython3",
   "version": "3.7.13"
  }
 },
 "nbformat": 4,
 "nbformat_minor": 5
}
