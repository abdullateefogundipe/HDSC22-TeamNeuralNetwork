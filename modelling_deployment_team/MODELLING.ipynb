{
  "metadata": {
    "kernelspec": {
      "language": "python",
      "display_name": "Python 3",
      "name": "python3"
    },
    "language_info": {
      "name": "python",
      "version": "3.7.12",
      "mimetype": "text/x-python",
      "codemirror_mode": {
        "name": "ipython",
        "version": 3
      },
      "pygments_lexer": "ipython3",
      "nbconvert_exporter": "python",
      "file_extension": ".py"
    },
    "colab": {
      "provenance": []
    }
  },
  "nbformat_minor": 0,
  "nbformat": 4,
  "cells": [
    {
      "cell_type": "code",
      "source": [
        "import numpy as np \n",
        "import pandas as pd "
      ],
      "metadata": {
        "_uuid": "8f2839f25d086af736a60e9eeb907d3b93b6e0e5",
        "_cell_guid": "b1076dfc-b9ad-4769-8c92-a6c4dae69d19",
        "execution": {
          "iopub.status.busy": "2022-10-08T13:57:02.280153Z",
          "iopub.execute_input": "2022-10-08T13:57:02.280662Z",
          "iopub.status.idle": "2022-10-08T13:57:02.314981Z",
          "shell.execute_reply.started": "2022-10-08T13:57:02.280561Z",
          "shell.execute_reply": "2022-10-08T13:57:02.314116Z"
        },
        "trusted": true,
        "id": "387RrOLLSuN-"
      },
      "execution_count": 4,
      "outputs": []
    },
    {
      "cell_type": "code",
      "source": [
        "from google.colab import files\n",
        "data_to_load = files.upload()"
      ],
      "metadata": {
        "colab": {
          "base_uri": "https://localhost:8080/",
          "height": 74
        },
        "id": "wqb5U2IaYgiC",
        "outputId": "85cc5158-71c5-4bc6-ea68-92adb8d418b9"
      },
      "execution_count": 2,
      "outputs": [
        {
          "output_type": "display_data",
          "data": {
            "text/plain": [
              "<IPython.core.display.HTML object>"
            ],
            "text/html": [
              "\n",
              "     <input type=\"file\" id=\"files-3639e9ac-bc66-4081-a341-506d68187431\" name=\"files[]\" multiple disabled\n",
              "        style=\"border:none\" />\n",
              "     <output id=\"result-3639e9ac-bc66-4081-a341-506d68187431\">\n",
              "      Upload widget is only available when the cell has been executed in the\n",
              "      current browser session. Please rerun this cell to enable.\n",
              "      </output>\n",
              "      <script>// Copyright 2017 Google LLC\n",
              "//\n",
              "// Licensed under the Apache License, Version 2.0 (the \"License\");\n",
              "// you may not use this file except in compliance with the License.\n",
              "// You may obtain a copy of the License at\n",
              "//\n",
              "//      http://www.apache.org/licenses/LICENSE-2.0\n",
              "//\n",
              "// Unless required by applicable law or agreed to in writing, software\n",
              "// distributed under the License is distributed on an \"AS IS\" BASIS,\n",
              "// WITHOUT WARRANTIES OR CONDITIONS OF ANY KIND, either express or implied.\n",
              "// See the License for the specific language governing permissions and\n",
              "// limitations under the License.\n",
              "\n",
              "/**\n",
              " * @fileoverview Helpers for google.colab Python module.\n",
              " */\n",
              "(function(scope) {\n",
              "function span(text, styleAttributes = {}) {\n",
              "  const element = document.createElement('span');\n",
              "  element.textContent = text;\n",
              "  for (const key of Object.keys(styleAttributes)) {\n",
              "    element.style[key] = styleAttributes[key];\n",
              "  }\n",
              "  return element;\n",
              "}\n",
              "\n",
              "// Max number of bytes which will be uploaded at a time.\n",
              "const MAX_PAYLOAD_SIZE = 100 * 1024;\n",
              "\n",
              "function _uploadFiles(inputId, outputId) {\n",
              "  const steps = uploadFilesStep(inputId, outputId);\n",
              "  const outputElement = document.getElementById(outputId);\n",
              "  // Cache steps on the outputElement to make it available for the next call\n",
              "  // to uploadFilesContinue from Python.\n",
              "  outputElement.steps = steps;\n",
              "\n",
              "  return _uploadFilesContinue(outputId);\n",
              "}\n",
              "\n",
              "// This is roughly an async generator (not supported in the browser yet),\n",
              "// where there are multiple asynchronous steps and the Python side is going\n",
              "// to poll for completion of each step.\n",
              "// This uses a Promise to block the python side on completion of each step,\n",
              "// then passes the result of the previous step as the input to the next step.\n",
              "function _uploadFilesContinue(outputId) {\n",
              "  const outputElement = document.getElementById(outputId);\n",
              "  const steps = outputElement.steps;\n",
              "\n",
              "  const next = steps.next(outputElement.lastPromiseValue);\n",
              "  return Promise.resolve(next.value.promise).then((value) => {\n",
              "    // Cache the last promise value to make it available to the next\n",
              "    // step of the generator.\n",
              "    outputElement.lastPromiseValue = value;\n",
              "    return next.value.response;\n",
              "  });\n",
              "}\n",
              "\n",
              "/**\n",
              " * Generator function which is called between each async step of the upload\n",
              " * process.\n",
              " * @param {string} inputId Element ID of the input file picker element.\n",
              " * @param {string} outputId Element ID of the output display.\n",
              " * @return {!Iterable<!Object>} Iterable of next steps.\n",
              " */\n",
              "function* uploadFilesStep(inputId, outputId) {\n",
              "  const inputElement = document.getElementById(inputId);\n",
              "  inputElement.disabled = false;\n",
              "\n",
              "  const outputElement = document.getElementById(outputId);\n",
              "  outputElement.innerHTML = '';\n",
              "\n",
              "  const pickedPromise = new Promise((resolve) => {\n",
              "    inputElement.addEventListener('change', (e) => {\n",
              "      resolve(e.target.files);\n",
              "    });\n",
              "  });\n",
              "\n",
              "  const cancel = document.createElement('button');\n",
              "  inputElement.parentElement.appendChild(cancel);\n",
              "  cancel.textContent = 'Cancel upload';\n",
              "  const cancelPromise = new Promise((resolve) => {\n",
              "    cancel.onclick = () => {\n",
              "      resolve(null);\n",
              "    };\n",
              "  });\n",
              "\n",
              "  // Wait for the user to pick the files.\n",
              "  const files = yield {\n",
              "    promise: Promise.race([pickedPromise, cancelPromise]),\n",
              "    response: {\n",
              "      action: 'starting',\n",
              "    }\n",
              "  };\n",
              "\n",
              "  cancel.remove();\n",
              "\n",
              "  // Disable the input element since further picks are not allowed.\n",
              "  inputElement.disabled = true;\n",
              "\n",
              "  if (!files) {\n",
              "    return {\n",
              "      response: {\n",
              "        action: 'complete',\n",
              "      }\n",
              "    };\n",
              "  }\n",
              "\n",
              "  for (const file of files) {\n",
              "    const li = document.createElement('li');\n",
              "    li.append(span(file.name, {fontWeight: 'bold'}));\n",
              "    li.append(span(\n",
              "        `(${file.type || 'n/a'}) - ${file.size} bytes, ` +\n",
              "        `last modified: ${\n",
              "            file.lastModifiedDate ? file.lastModifiedDate.toLocaleDateString() :\n",
              "                                    'n/a'} - `));\n",
              "    const percent = span('0% done');\n",
              "    li.appendChild(percent);\n",
              "\n",
              "    outputElement.appendChild(li);\n",
              "\n",
              "    const fileDataPromise = new Promise((resolve) => {\n",
              "      const reader = new FileReader();\n",
              "      reader.onload = (e) => {\n",
              "        resolve(e.target.result);\n",
              "      };\n",
              "      reader.readAsArrayBuffer(file);\n",
              "    });\n",
              "    // Wait for the data to be ready.\n",
              "    let fileData = yield {\n",
              "      promise: fileDataPromise,\n",
              "      response: {\n",
              "        action: 'continue',\n",
              "      }\n",
              "    };\n",
              "\n",
              "    // Use a chunked sending to avoid message size limits. See b/62115660.\n",
              "    let position = 0;\n",
              "    do {\n",
              "      const length = Math.min(fileData.byteLength - position, MAX_PAYLOAD_SIZE);\n",
              "      const chunk = new Uint8Array(fileData, position, length);\n",
              "      position += length;\n",
              "\n",
              "      const base64 = btoa(String.fromCharCode.apply(null, chunk));\n",
              "      yield {\n",
              "        response: {\n",
              "          action: 'append',\n",
              "          file: file.name,\n",
              "          data: base64,\n",
              "        },\n",
              "      };\n",
              "\n",
              "      let percentDone = fileData.byteLength === 0 ?\n",
              "          100 :\n",
              "          Math.round((position / fileData.byteLength) * 100);\n",
              "      percent.textContent = `${percentDone}% done`;\n",
              "\n",
              "    } while (position < fileData.byteLength);\n",
              "  }\n",
              "\n",
              "  // All done.\n",
              "  yield {\n",
              "    response: {\n",
              "      action: 'complete',\n",
              "    }\n",
              "  };\n",
              "}\n",
              "\n",
              "scope.google = scope.google || {};\n",
              "scope.google.colab = scope.google.colab || {};\n",
              "scope.google.colab._files = {\n",
              "  _uploadFiles,\n",
              "  _uploadFilesContinue,\n",
              "};\n",
              "})(self);\n",
              "</script> "
            ]
          },
          "metadata": {}
        },
        {
          "output_type": "stream",
          "name": "stdout",
          "text": [
            "Saving day_approach_maskedID_timeseries.csv to day_approach_maskedID_timeseries.csv\n"
          ]
        }
      ]
    },
    {
      "cell_type": "code",
      "source": [
        "df_day = pd.read_csv('day_approach_maskedID_timeseries.csv')"
      ],
      "metadata": {
        "execution": {
          "iopub.status.busy": "2022-10-08T13:57:02.316558Z",
          "iopub.execute_input": "2022-10-08T13:57:02.317057Z",
          "iopub.status.idle": "2022-10-08T13:57:02.872075Z",
          "shell.execute_reply.started": "2022-10-08T13:57:02.317026Z",
          "shell.execute_reply": "2022-10-08T13:57:02.870883Z"
        },
        "trusted": true,
        "id": "E5p7wiWLSuOB"
      },
      "execution_count": 5,
      "outputs": []
    },
    {
      "cell_type": "code",
      "source": [
        "df_day.head()"
      ],
      "metadata": {
        "execution": {
          "iopub.status.busy": "2022-10-08T13:57:02.874169Z",
          "iopub.execute_input": "2022-10-08T13:57:02.874506Z",
          "iopub.status.idle": "2022-10-08T13:57:02.920215Z",
          "shell.execute_reply.started": "2022-10-08T13:57:02.874475Z",
          "shell.execute_reply": "2022-10-08T13:57:02.919071Z"
        },
        "trusted": true,
        "id": "_M7-aUbZSuOC",
        "outputId": "fc1800d1-061c-445b-b7b7-46feb0273889",
        "colab": {
          "base_uri": "https://localhost:8080/",
          "height": 351
        }
      },
      "execution_count": 6,
      "outputs": [
        {
          "output_type": "execute_result",
          "data": {
            "text/plain": [
              "   nr. sessions  total km  km Z3-4  km Z5-T1-T2  km sprinting  \\\n",
              "0           1.0       5.8      0.0          0.6           1.2   \n",
              "1           0.0       0.0      0.0          0.0           0.0   \n",
              "2           1.0       0.0      0.0          0.0           0.0   \n",
              "3           0.0       0.0      0.0          0.0           0.0   \n",
              "4           1.0       0.0      0.0          0.0           0.0   \n",
              "\n",
              "   strength training  hours alternative  perceived exertion  \\\n",
              "0                0.0               0.00                0.11   \n",
              "1                0.0               0.00               -0.01   \n",
              "2                1.0               0.00                0.10   \n",
              "3                0.0               0.00               -0.01   \n",
              "4                0.0               1.08                0.08   \n",
              "\n",
              "   perceived trainingSuccess  perceived recovery  ...  km Z5-T1-T2.6  \\\n",
              "0                       0.00                0.18  ...            0.0   \n",
              "1                      -0.01               -0.01  ...            0.5   \n",
              "2                       0.00                0.17  ...            0.0   \n",
              "3                      -0.01               -0.01  ...            0.0   \n",
              "4                       0.00                0.18  ...            0.0   \n",
              "\n",
              "   km sprinting.6  strength training.6  hours alternative.6  \\\n",
              "0             0.0                  0.0                  1.0   \n",
              "1             1.2                  0.0                  0.0   \n",
              "2             0.0                  0.0                  0.0   \n",
              "3             0.0                  1.0                  0.0   \n",
              "4             0.0                  0.0                  0.0   \n",
              "\n",
              "   perceived exertion.6  perceived trainingSuccess.6  perceived recovery.6  \\\n",
              "0                  0.10                         0.00                  0.15   \n",
              "1                  0.10                         0.00                  0.17   \n",
              "2                 -0.01                        -0.01                 -0.01   \n",
              "3                  0.10                         0.00                  0.17   \n",
              "4                  0.11                         0.00                  0.17   \n",
              "\n",
              "   Athlete ID  injury  Date  \n",
              "0           0       0     0  \n",
              "1           0       0     1  \n",
              "2           0       0     2  \n",
              "3           0       0     3  \n",
              "4           0       0     4  \n",
              "\n",
              "[5 rows x 73 columns]"
            ],
            "text/html": [
              "\n",
              "  <div id=\"df-72d8dfa2-2f61-4674-be63-6ccb63a0350c\">\n",
              "    <div class=\"colab-df-container\">\n",
              "      <div>\n",
              "<style scoped>\n",
              "    .dataframe tbody tr th:only-of-type {\n",
              "        vertical-align: middle;\n",
              "    }\n",
              "\n",
              "    .dataframe tbody tr th {\n",
              "        vertical-align: top;\n",
              "    }\n",
              "\n",
              "    .dataframe thead th {\n",
              "        text-align: right;\n",
              "    }\n",
              "</style>\n",
              "<table border=\"1\" class=\"dataframe\">\n",
              "  <thead>\n",
              "    <tr style=\"text-align: right;\">\n",
              "      <th></th>\n",
              "      <th>nr. sessions</th>\n",
              "      <th>total km</th>\n",
              "      <th>km Z3-4</th>\n",
              "      <th>km Z5-T1-T2</th>\n",
              "      <th>km sprinting</th>\n",
              "      <th>strength training</th>\n",
              "      <th>hours alternative</th>\n",
              "      <th>perceived exertion</th>\n",
              "      <th>perceived trainingSuccess</th>\n",
              "      <th>perceived recovery</th>\n",
              "      <th>...</th>\n",
              "      <th>km Z5-T1-T2.6</th>\n",
              "      <th>km sprinting.6</th>\n",
              "      <th>strength training.6</th>\n",
              "      <th>hours alternative.6</th>\n",
              "      <th>perceived exertion.6</th>\n",
              "      <th>perceived trainingSuccess.6</th>\n",
              "      <th>perceived recovery.6</th>\n",
              "      <th>Athlete ID</th>\n",
              "      <th>injury</th>\n",
              "      <th>Date</th>\n",
              "    </tr>\n",
              "  </thead>\n",
              "  <tbody>\n",
              "    <tr>\n",
              "      <th>0</th>\n",
              "      <td>1.0</td>\n",
              "      <td>5.8</td>\n",
              "      <td>0.0</td>\n",
              "      <td>0.6</td>\n",
              "      <td>1.2</td>\n",
              "      <td>0.0</td>\n",
              "      <td>0.00</td>\n",
              "      <td>0.11</td>\n",
              "      <td>0.00</td>\n",
              "      <td>0.18</td>\n",
              "      <td>...</td>\n",
              "      <td>0.0</td>\n",
              "      <td>0.0</td>\n",
              "      <td>0.0</td>\n",
              "      <td>1.0</td>\n",
              "      <td>0.10</td>\n",
              "      <td>0.00</td>\n",
              "      <td>0.15</td>\n",
              "      <td>0</td>\n",
              "      <td>0</td>\n",
              "      <td>0</td>\n",
              "    </tr>\n",
              "    <tr>\n",
              "      <th>1</th>\n",
              "      <td>0.0</td>\n",
              "      <td>0.0</td>\n",
              "      <td>0.0</td>\n",
              "      <td>0.0</td>\n",
              "      <td>0.0</td>\n",
              "      <td>0.0</td>\n",
              "      <td>0.00</td>\n",
              "      <td>-0.01</td>\n",
              "      <td>-0.01</td>\n",
              "      <td>-0.01</td>\n",
              "      <td>...</td>\n",
              "      <td>0.5</td>\n",
              "      <td>1.2</td>\n",
              "      <td>0.0</td>\n",
              "      <td>0.0</td>\n",
              "      <td>0.10</td>\n",
              "      <td>0.00</td>\n",
              "      <td>0.17</td>\n",
              "      <td>0</td>\n",
              "      <td>0</td>\n",
              "      <td>1</td>\n",
              "    </tr>\n",
              "    <tr>\n",
              "      <th>2</th>\n",
              "      <td>1.0</td>\n",
              "      <td>0.0</td>\n",
              "      <td>0.0</td>\n",
              "      <td>0.0</td>\n",
              "      <td>0.0</td>\n",
              "      <td>1.0</td>\n",
              "      <td>0.00</td>\n",
              "      <td>0.10</td>\n",
              "      <td>0.00</td>\n",
              "      <td>0.17</td>\n",
              "      <td>...</td>\n",
              "      <td>0.0</td>\n",
              "      <td>0.0</td>\n",
              "      <td>0.0</td>\n",
              "      <td>0.0</td>\n",
              "      <td>-0.01</td>\n",
              "      <td>-0.01</td>\n",
              "      <td>-0.01</td>\n",
              "      <td>0</td>\n",
              "      <td>0</td>\n",
              "      <td>2</td>\n",
              "    </tr>\n",
              "    <tr>\n",
              "      <th>3</th>\n",
              "      <td>0.0</td>\n",
              "      <td>0.0</td>\n",
              "      <td>0.0</td>\n",
              "      <td>0.0</td>\n",
              "      <td>0.0</td>\n",
              "      <td>0.0</td>\n",
              "      <td>0.00</td>\n",
              "      <td>-0.01</td>\n",
              "      <td>-0.01</td>\n",
              "      <td>-0.01</td>\n",
              "      <td>...</td>\n",
              "      <td>0.0</td>\n",
              "      <td>0.0</td>\n",
              "      <td>1.0</td>\n",
              "      <td>0.0</td>\n",
              "      <td>0.10</td>\n",
              "      <td>0.00</td>\n",
              "      <td>0.17</td>\n",
              "      <td>0</td>\n",
              "      <td>0</td>\n",
              "      <td>3</td>\n",
              "    </tr>\n",
              "    <tr>\n",
              "      <th>4</th>\n",
              "      <td>1.0</td>\n",
              "      <td>0.0</td>\n",
              "      <td>0.0</td>\n",
              "      <td>0.0</td>\n",
              "      <td>0.0</td>\n",
              "      <td>0.0</td>\n",
              "      <td>1.08</td>\n",
              "      <td>0.08</td>\n",
              "      <td>0.00</td>\n",
              "      <td>0.18</td>\n",
              "      <td>...</td>\n",
              "      <td>0.0</td>\n",
              "      <td>0.0</td>\n",
              "      <td>0.0</td>\n",
              "      <td>0.0</td>\n",
              "      <td>0.11</td>\n",
              "      <td>0.00</td>\n",
              "      <td>0.17</td>\n",
              "      <td>0</td>\n",
              "      <td>0</td>\n",
              "      <td>4</td>\n",
              "    </tr>\n",
              "  </tbody>\n",
              "</table>\n",
              "<p>5 rows × 73 columns</p>\n",
              "</div>\n",
              "      <button class=\"colab-df-convert\" onclick=\"convertToInteractive('df-72d8dfa2-2f61-4674-be63-6ccb63a0350c')\"\n",
              "              title=\"Convert this dataframe to an interactive table.\"\n",
              "              style=\"display:none;\">\n",
              "        \n",
              "  <svg xmlns=\"http://www.w3.org/2000/svg\" height=\"24px\"viewBox=\"0 0 24 24\"\n",
              "       width=\"24px\">\n",
              "    <path d=\"M0 0h24v24H0V0z\" fill=\"none\"/>\n",
              "    <path d=\"M18.56 5.44l.94 2.06.94-2.06 2.06-.94-2.06-.94-.94-2.06-.94 2.06-2.06.94zm-11 1L8.5 8.5l.94-2.06 2.06-.94-2.06-.94L8.5 2.5l-.94 2.06-2.06.94zm10 10l.94 2.06.94-2.06 2.06-.94-2.06-.94-.94-2.06-.94 2.06-2.06.94z\"/><path d=\"M17.41 7.96l-1.37-1.37c-.4-.4-.92-.59-1.43-.59-.52 0-1.04.2-1.43.59L10.3 9.45l-7.72 7.72c-.78.78-.78 2.05 0 2.83L4 21.41c.39.39.9.59 1.41.59.51 0 1.02-.2 1.41-.59l7.78-7.78 2.81-2.81c.8-.78.8-2.07 0-2.86zM5.41 20L4 18.59l7.72-7.72 1.47 1.35L5.41 20z\"/>\n",
              "  </svg>\n",
              "      </button>\n",
              "      \n",
              "  <style>\n",
              "    .colab-df-container {\n",
              "      display:flex;\n",
              "      flex-wrap:wrap;\n",
              "      gap: 12px;\n",
              "    }\n",
              "\n",
              "    .colab-df-convert {\n",
              "      background-color: #E8F0FE;\n",
              "      border: none;\n",
              "      border-radius: 50%;\n",
              "      cursor: pointer;\n",
              "      display: none;\n",
              "      fill: #1967D2;\n",
              "      height: 32px;\n",
              "      padding: 0 0 0 0;\n",
              "      width: 32px;\n",
              "    }\n",
              "\n",
              "    .colab-df-convert:hover {\n",
              "      background-color: #E2EBFA;\n",
              "      box-shadow: 0px 1px 2px rgba(60, 64, 67, 0.3), 0px 1px 3px 1px rgba(60, 64, 67, 0.15);\n",
              "      fill: #174EA6;\n",
              "    }\n",
              "\n",
              "    [theme=dark] .colab-df-convert {\n",
              "      background-color: #3B4455;\n",
              "      fill: #D2E3FC;\n",
              "    }\n",
              "\n",
              "    [theme=dark] .colab-df-convert:hover {\n",
              "      background-color: #434B5C;\n",
              "      box-shadow: 0px 1px 3px 1px rgba(0, 0, 0, 0.15);\n",
              "      filter: drop-shadow(0px 1px 2px rgba(0, 0, 0, 0.3));\n",
              "      fill: #FFFFFF;\n",
              "    }\n",
              "  </style>\n",
              "\n",
              "      <script>\n",
              "        const buttonEl =\n",
              "          document.querySelector('#df-72d8dfa2-2f61-4674-be63-6ccb63a0350c button.colab-df-convert');\n",
              "        buttonEl.style.display =\n",
              "          google.colab.kernel.accessAllowed ? 'block' : 'none';\n",
              "\n",
              "        async function convertToInteractive(key) {\n",
              "          const element = document.querySelector('#df-72d8dfa2-2f61-4674-be63-6ccb63a0350c');\n",
              "          const dataTable =\n",
              "            await google.colab.kernel.invokeFunction('convertToInteractive',\n",
              "                                                     [key], {});\n",
              "          if (!dataTable) return;\n",
              "\n",
              "          const docLinkHtml = 'Like what you see? Visit the ' +\n",
              "            '<a target=\"_blank\" href=https://colab.research.google.com/notebooks/data_table.ipynb>data table notebook</a>'\n",
              "            + ' to learn more about interactive tables.';\n",
              "          element.innerHTML = '';\n",
              "          dataTable['output_type'] = 'display_data';\n",
              "          await google.colab.output.renderOutput(dataTable, element);\n",
              "          const docLink = document.createElement('div');\n",
              "          docLink.innerHTML = docLinkHtml;\n",
              "          element.appendChild(docLink);\n",
              "        }\n",
              "      </script>\n",
              "    </div>\n",
              "  </div>\n",
              "  "
            ]
          },
          "metadata": {},
          "execution_count": 6
        }
      ]
    },
    {
      "cell_type": "code",
      "source": [
        "df_day.shape"
      ],
      "metadata": {
        "execution": {
          "iopub.status.busy": "2022-10-08T13:57:02.921612Z",
          "iopub.execute_input": "2022-10-08T13:57:02.921934Z",
          "iopub.status.idle": "2022-10-08T13:57:02.929596Z",
          "shell.execute_reply.started": "2022-10-08T13:57:02.921906Z",
          "shell.execute_reply": "2022-10-08T13:57:02.928766Z"
        },
        "trusted": true,
        "id": "ISRAwNOBSuOC",
        "outputId": "7763907d-bd54-46c0-c534-2ba30f842b77",
        "colab": {
          "base_uri": "https://localhost:8080/"
        }
      },
      "execution_count": 7,
      "outputs": [
        {
          "output_type": "execute_result",
          "data": {
            "text/plain": [
              "(42766, 73)"
            ]
          },
          "metadata": {},
          "execution_count": 7
        }
      ]
    },
    {
      "cell_type": "code",
      "source": [
        "#Convert nr sessions to int.\n",
        "df_day.info()"
      ],
      "metadata": {
        "execution": {
          "iopub.status.busy": "2022-10-08T13:57:02.931882Z",
          "iopub.execute_input": "2022-10-08T13:57:02.932704Z",
          "iopub.status.idle": "2022-10-08T13:57:02.972048Z",
          "shell.execute_reply.started": "2022-10-08T13:57:02.932668Z",
          "shell.execute_reply": "2022-10-08T13:57:02.970648Z"
        },
        "trusted": true,
        "id": "whHCs-pDSuOO",
        "outputId": "8ec88ec6-b4d2-4a36-8d72-5c44c2b4c1b4"
      },
      "execution_count": null,
      "outputs": [
        {
          "name": "stdout",
          "text": "<class 'pandas.core.frame.DataFrame'>\nRangeIndex: 42766 entries, 0 to 42765\nData columns (total 73 columns):\n #   Column                       Non-Null Count  Dtype  \n---  ------                       --------------  -----  \n 0   nr. sessions                 42766 non-null  float64\n 1   total km                     42766 non-null  float64\n 2   km Z3-4                      42766 non-null  float64\n 3   km Z5-T1-T2                  42766 non-null  float64\n 4   km sprinting                 42766 non-null  float64\n 5   strength training            42766 non-null  float64\n 6   hours alternative            42766 non-null  float64\n 7   perceived exertion           42766 non-null  float64\n 8   perceived trainingSuccess    42766 non-null  float64\n 9   perceived recovery           42766 non-null  float64\n 10  nr. sessions.1               42766 non-null  float64\n 11  total km.1                   42766 non-null  float64\n 12  km Z3-4.1                    42766 non-null  float64\n 13  km Z5-T1-T2.1                42766 non-null  float64\n 14  km sprinting.1               42766 non-null  float64\n 15  strength training.1          42766 non-null  float64\n 16  hours alternative.1          42766 non-null  float64\n 17  perceived exertion.1         42766 non-null  float64\n 18  perceived trainingSuccess.1  42766 non-null  float64\n 19  perceived recovery.1         42766 non-null  float64\n 20  nr. sessions.2               42766 non-null  float64\n 21  total km.2                   42766 non-null  float64\n 22  km Z3-4.2                    42766 non-null  float64\n 23  km Z5-T1-T2.2                42766 non-null  float64\n 24  km sprinting.2               42766 non-null  float64\n 25  strength training.2          42766 non-null  float64\n 26  hours alternative.2          42766 non-null  float64\n 27  perceived exertion.2         42766 non-null  float64\n 28  perceived trainingSuccess.2  42766 non-null  float64\n 29  perceived recovery.2         42766 non-null  float64\n 30  nr. sessions.3               42766 non-null  float64\n 31  total km.3                   42766 non-null  float64\n 32  km Z3-4.3                    42766 non-null  float64\n 33  km Z5-T1-T2.3                42766 non-null  float64\n 34  km sprinting.3               42766 non-null  float64\n 35  strength training.3          42766 non-null  float64\n 36  hours alternative.3          42766 non-null  float64\n 37  perceived exertion.3         42766 non-null  float64\n 38  perceived trainingSuccess.3  42766 non-null  float64\n 39  perceived recovery.3         42766 non-null  float64\n 40  nr. sessions.4               42766 non-null  float64\n 41  total km.4                   42766 non-null  float64\n 42  km Z3-4.4                    42766 non-null  float64\n 43  km Z5-T1-T2.4                42766 non-null  float64\n 44  km sprinting.4               42766 non-null  float64\n 45  strength training.4          42766 non-null  float64\n 46  hours alternative.4          42766 non-null  float64\n 47  perceived exertion.4         42766 non-null  float64\n 48  perceived trainingSuccess.4  42766 non-null  float64\n 49  perceived recovery.4         42766 non-null  float64\n 50  nr. sessions.5               42766 non-null  float64\n 51  total km.5                   42766 non-null  float64\n 52  km Z3-4.5                    42766 non-null  float64\n 53  km Z5-T1-T2.5                42766 non-null  float64\n 54  km sprinting.5               42766 non-null  float64\n 55  strength training.5          42766 non-null  float64\n 56  hours alternative.5          42766 non-null  float64\n 57  perceived exertion.5         42766 non-null  float64\n 58  perceived trainingSuccess.5  42766 non-null  float64\n 59  perceived recovery.5         42766 non-null  float64\n 60  nr. sessions.6               42766 non-null  float64\n 61  total km.6                   42766 non-null  float64\n 62  km Z3-4.6                    42766 non-null  float64\n 63  km Z5-T1-T2.6                42766 non-null  float64\n 64  km sprinting.6               42766 non-null  float64\n 65  strength training.6          42766 non-null  float64\n 66  hours alternative.6          42766 non-null  float64\n 67  perceived exertion.6         42766 non-null  float64\n 68  perceived trainingSuccess.6  42766 non-null  float64\n 69  perceived recovery.6         42766 non-null  float64\n 70  Athlete ID                   42766 non-null  int64  \n 71  injury                       42766 non-null  int64  \n 72  Date                         42766 non-null  int64  \ndtypes: float64(70), int64(3)\nmemory usage: 23.8 MB\n",
          "output_type": "stream"
        }
      ]
    },
    {
      "cell_type": "markdown",
      "source": [
        "All the variables seem to be either in float or int format. This looks goods and no change is required."
      ],
      "metadata": {
        "id": "hUi3JgJeSuOP"
      }
    },
    {
      "cell_type": "code",
      "source": [
        "df_day.isnull().sum()"
      ],
      "metadata": {
        "execution": {
          "iopub.status.busy": "2022-10-08T13:57:02.973704Z",
          "iopub.execute_input": "2022-10-08T13:57:02.974061Z",
          "iopub.status.idle": "2022-10-08T13:57:02.992189Z",
          "shell.execute_reply.started": "2022-10-08T13:57:02.974030Z",
          "shell.execute_reply": "2022-10-08T13:57:02.991096Z"
        },
        "trusted": true,
        "id": "buPH9TY3SuOP",
        "outputId": "ac98ca36-b628-46a7-bdc0-fc69c9576479"
      },
      "execution_count": null,
      "outputs": [
        {
          "execution_count": 6,
          "output_type": "execute_result",
          "data": {
            "text/plain": "nr. sessions                   0\ntotal km                       0\nkm Z3-4                        0\nkm Z5-T1-T2                    0\nkm sprinting                   0\n                              ..\nperceived trainingSuccess.6    0\nperceived recovery.6           0\nAthlete ID                     0\ninjury                         0\nDate                           0\nLength: 73, dtype: int64"
          },
          "metadata": {}
        }
      ]
    },
    {
      "cell_type": "code",
      "source": [
        "import seaborn as sns\n",
        "print(df_day['injury'].value_counts())\n",
        "sns.countplot(df_day['injury'])"
      ],
      "metadata": {
        "execution": {
          "iopub.status.busy": "2022-10-08T14:07:30.878498Z",
          "iopub.execute_input": "2022-10-08T14:07:30.879058Z",
          "iopub.status.idle": "2022-10-08T14:07:31.093672Z",
          "shell.execute_reply.started": "2022-10-08T14:07:30.879021Z",
          "shell.execute_reply": "2022-10-08T14:07:31.092587Z"
        },
        "trusted": true,
        "id": "IlGkCXAxSuOY",
        "outputId": "6434ab10-b7a3-4c8c-fc98-4e20f8cc9459",
        "colab": {
          "base_uri": "https://localhost:8080/",
          "height": 410
        }
      },
      "execution_count": 8,
      "outputs": [
        {
          "output_type": "stream",
          "name": "stdout",
          "text": [
            "0    42183\n",
            "1      583\n",
            "Name: injury, dtype: int64\n"
          ]
        },
        {
          "output_type": "stream",
          "name": "stderr",
          "text": [
            "/usr/local/lib/python3.7/dist-packages/seaborn/_decorators.py:43: FutureWarning: Pass the following variable as a keyword arg: x. From version 0.12, the only valid positional argument will be `data`, and passing other arguments without an explicit keyword will result in an error or misinterpretation.\n",
            "  FutureWarning\n"
          ]
        },
        {
          "output_type": "execute_result",
          "data": {
            "text/plain": [
              "<matplotlib.axes._subplots.AxesSubplot at 0x7fc98b7838d0>"
            ]
          },
          "metadata": {},
          "execution_count": 8
        },
        {
          "output_type": "display_data",
          "data": {
            "text/plain": [
              "<Figure size 432x288 with 1 Axes>"
            ],
            "image/png": "[encoded data removed]"
          },
          "metadata": {
            "needs_background": "light"
          }
        }
      ]
    },
    {
      "cell_type": "markdown",
      "source": [
        "In our entire dataset, there are a total of 42183 times when an athlete didn't got injured, and 583 times when an athlete got injured."
      ],
      "metadata": {
        "id": "q5qRlnLqSuOY"
      }
    },
    {
      "cell_type": "code",
      "source": [
        "df_day.drop(['Athlete ID', 'Date'], axis=1, inplace=True)"
      ],
      "metadata": {
        "id": "z74zouLESuOY"
      },
      "execution_count": 9,
      "outputs": []
    },
    {
      "cell_type": "code",
      "source": [
        "df_day['injury'] = df_day['injury'].astype('category')"
      ],
      "metadata": {
        "id": "s6ZW5HRaSuOZ"
      },
      "execution_count": 11,
      "outputs": []
    },
    {
      "cell_type": "code",
      "source": [
        "df_day.info()"
      ],
      "metadata": {
        "colab": {
          "base_uri": "https://localhost:8080/"
        },
        "id": "ooMBs5Z_gUai",
        "outputId": "406ce712-dbf3-4af2-cca0-d950aa6114c0"
      },
      "execution_count": 13,
      "outputs": [
        {
          "output_type": "stream",
          "name": "stdout",
          "text": [
            "<class 'pandas.core.frame.DataFrame'>\n",
            "RangeIndex: 42766 entries, 0 to 42765\n",
            "Data columns (total 71 columns):\n",
            " #   Column                       Non-Null Count  Dtype   \n",
            "---  ------                       --------------  -----   \n",
            " 0   nr. sessions                 42766 non-null  float64 \n",
            " 1   total km                     42766 non-null  float64 \n",
            " 2   km Z3-4                      42766 non-null  float64 \n",
            " 3   km Z5-T1-T2                  42766 non-null  float64 \n",
            " 4   km sprinting                 42766 non-null  float64 \n",
            " 5   strength training            42766 non-null  float64 \n",
            " 6   hours alternative            42766 non-null  float64 \n",
            " 7   perceived exertion           42766 non-null  float64 \n",
            " 8   perceived trainingSuccess    42766 non-null  float64 \n",
            " 9   perceived recovery           42766 non-null  float64 \n",
            " 10  nr. sessions.1               42766 non-null  float64 \n",
            " 11  total km.1                   42766 non-null  float64 \n",
            " 12  km Z3-4.1                    42766 non-null  float64 \n",
            " 13  km Z5-T1-T2.1                42766 non-null  float64 \n",
            " 14  km sprinting.1               42766 non-null  float64 \n",
            " 15  strength training.1          42766 non-null  float64 \n",
            " 16  hours alternative.1          42766 non-null  float64 \n",
            " 17  perceived exertion.1         42766 non-null  float64 \n",
            " 18  perceived trainingSuccess.1  42766 non-null  float64 \n",
            " 19  perceived recovery.1         42766 non-null  float64 \n",
            " 20  nr. sessions.2               42766 non-null  float64 \n",
            " 21  total km.2                   42766 non-null  float64 \n",
            " 22  km Z3-4.2                    42766 non-null  float64 \n",
            " 23  km Z5-T1-T2.2                42766 non-null  float64 \n",
            " 24  km sprinting.2               42766 non-null  float64 \n",
            " 25  strength training.2          42766 non-null  float64 \n",
            " 26  hours alternative.2          42766 non-null  float64 \n",
            " 27  perceived exertion.2         42766 non-null  float64 \n",
            " 28  perceived trainingSuccess.2  42766 non-null  float64 \n",
            " 29  perceived recovery.2         42766 non-null  float64 \n",
            " 30  nr. sessions.3               42766 non-null  float64 \n",
            " 31  total km.3                   42766 non-null  float64 \n",
            " 32  km Z3-4.3                    42766 non-null  float64 \n",
            " 33  km Z5-T1-T2.3                42766 non-null  float64 \n",
            " 34  km sprinting.3               42766 non-null  float64 \n",
            " 35  strength training.3          42766 non-null  float64 \n",
            " 36  hours alternative.3          42766 non-null  float64 \n",
            " 37  perceived exertion.3         42766 non-null  float64 \n",
            " 38  perceived trainingSuccess.3  42766 non-null  float64 \n",
            " 39  perceived recovery.3         42766 non-null  float64 \n",
            " 40  nr. sessions.4               42766 non-null  float64 \n",
            " 41  total km.4                   42766 non-null  float64 \n",
            " 42  km Z3-4.4                    42766 non-null  float64 \n",
            " 43  km Z5-T1-T2.4                42766 non-null  float64 \n",
            " 44  km sprinting.4               42766 non-null  float64 \n",
            " 45  strength training.4          42766 non-null  float64 \n",
            " 46  hours alternative.4          42766 non-null  float64 \n",
            " 47  perceived exertion.4         42766 non-null  float64 \n",
            " 48  perceived trainingSuccess.4  42766 non-null  float64 \n",
            " 49  perceived recovery.4         42766 non-null  float64 \n",
            " 50  nr. sessions.5               42766 non-null  float64 \n",
            " 51  total km.5                   42766 non-null  float64 \n",
            " 52  km Z3-4.5                    42766 non-null  float64 \n",
            " 53  km Z5-T1-T2.5                42766 non-null  float64 \n",
            " 54  km sprinting.5               42766 non-null  float64 \n",
            " 55  strength training.5          42766 non-null  float64 \n",
            " 56  hours alternative.5          42766 non-null  float64 \n",
            " 57  perceived exertion.5         42766 non-null  float64 \n",
            " 58  perceived trainingSuccess.5  42766 non-null  float64 \n",
            " 59  perceived recovery.5         42766 non-null  float64 \n",
            " 60  nr. sessions.6               42766 non-null  float64 \n",
            " 61  total km.6                   42766 non-null  float64 \n",
            " 62  km Z3-4.6                    42766 non-null  float64 \n",
            " 63  km Z5-T1-T2.6                42766 non-null  float64 \n",
            " 64  km sprinting.6               42766 non-null  float64 \n",
            " 65  strength training.6          42766 non-null  float64 \n",
            " 66  hours alternative.6          42766 non-null  float64 \n",
            " 67  perceived exertion.6         42766 non-null  float64 \n",
            " 68  perceived trainingSuccess.6  42766 non-null  float64 \n",
            " 69  perceived recovery.6         42766 non-null  float64 \n",
            " 70  injury                       42766 non-null  category\n",
            "dtypes: category(1), float64(70)\n",
            "memory usage: 22.9 MB\n"
          ]
        }
      ]
    },
    {
      "cell_type": "code",
      "source": [
        "#baseline model"
      ],
      "metadata": {
        "id": "BHjWrs1ZgYT4"
      },
      "execution_count": 14,
      "outputs": []
    },
    {
      "cell_type": "code",
      "source": [
        "# Split dataset into a training and testing set.\n",
        "from sklearn.model_selection import train_test_split\n",
        "X_train , X_test , y_train , y_test = train_test_split(df_day.drop(['injury'] , axis=1) , df_day['injury'] , test_size=0.3, random_state=2)"
      ],
      "metadata": {
        "id": "Gf7HeAV8ghu1"
      },
      "execution_count": 15,
      "outputs": []
    },
    {
      "cell_type": "code",
      "source": [
        "X_train.shape, X_test.shape"
      ],
      "metadata": {
        "colab": {
          "base_uri": "https://localhost:8080/"
        },
        "id": "EA1Nd2q7g1Ub",
        "outputId": "5bb33782-3c17-44df-9707-36c67220f041"
      },
      "execution_count": 16,
      "outputs": [
        {
          "output_type": "execute_result",
          "data": {
            "text/plain": [
              "((29936, 70), (12830, 70))"
            ]
          },
          "metadata": {},
          "execution_count": 16
        }
      ]
    },
    {
      "cell_type": "code",
      "source": [
        "#RE-SAMPLING THE TRAINING DATA\n",
        "# Balance the distribution of classes in the target variable with an oversampling of minority classes.\n",
        "from imblearn.over_sampling import RandomOverSampler\n",
        "\n",
        "print ('Number of observations in the target variable before oversampling of the minority class:', np.bincount (y_train) )\n",
        "\n",
        "ros = RandomOverSampler (random_state=2)\n",
        "X_train, y_train = ros.fit_resample (X_train, y_train)\n",
        "\n",
        "print ('\\nNumber of observations in the target variable after oversampling of the minority class:', np.bincount (y_train) )"
      ],
      "metadata": {
        "colab": {
          "base_uri": "https://localhost:8080/"
        },
        "id": "S1OoLV4Eg1Kp",
        "outputId": "e0238cbe-ef5e-4ad3-863b-c82023074cf6"
      },
      "execution_count": 17,
      "outputs": [
        {
          "output_type": "stream",
          "name": "stdout",
          "text": [
            "Number of observations in the target variable before oversampling of the minority class: [29523   413]\n",
            "\n",
            "Number of observations in the target variable after oversampling of the minority class: [29523 29523]\n"
          ]
        }
      ]
    },
    {
      "cell_type": "code",
      "source": [
        "#FEATURE SCALING (STANDARDIZATION)\n",
        "from sklearn.preprocessing import StandardScaler\n",
        "\n",
        "std_scaler = StandardScaler()\n",
        "X_train_std = std_scaler.fit_transform ( X_train )\n",
        "X_test_std = std_scaler.transform ( X_test )"
      ],
      "metadata": {
        "id": "4vgLHVVphOtS"
      },
      "execution_count": 18,
      "outputs": []
    },
    {
      "cell_type": "code",
      "source": [
        "#FEATURE SCALING (NORMALIZATION)\n",
        "from sklearn.preprocessing import MinMaxScaler\n",
        "\n",
        "scaler = MinMaxScaler()\n",
        "X_train_norm = scaler.fit_transform ( X_train )\n",
        "X_test_norm = scaler.transform ( X_test )"
      ],
      "metadata": {
        "id": "SCoRjIBXhOpy"
      },
      "execution_count": 19,
      "outputs": []
    },
    {
      "cell_type": "markdown",
      "source": [
        "#MODELLING"
      ],
      "metadata": {
        "id": "Z_Jfppbei52O"
      }
    },
    {
      "cell_type": "markdown",
      "source": [
        "##BASELINE MODEL WITH LOGISTIC REGRESSION"
      ],
      "metadata": {
        "id": "t1TI9fk_sGoP"
      }
    },
    {
      "cell_type": "code",
      "source": [
        "#RAW\n",
        "from sklearn.linear_model import LogisticRegression\n",
        "base_model = LogisticRegression()\n",
        "base_model.fit(X_train,y_train)\n",
        "\n",
        "print(f1_score(y_test,base_model.predict(X_test), average='weighted'))"
      ],
      "metadata": {
        "colab": {
          "base_uri": "https://localhost:8080/"
        },
        "id": "6H3dyFGcrsqx",
        "outputId": "74820af4-59cc-40f2-cbc6-56fd2c99dd02"
      },
      "execution_count": 35,
      "outputs": [
        {
          "output_type": "stream",
          "name": "stdout",
          "text": [
            "0.7676199104068688\n"
          ]
        },
        {
          "output_type": "stream",
          "name": "stderr",
          "text": [
            "/usr/local/lib/python3.7/dist-packages/sklearn/linear_model/_logistic.py:818: ConvergenceWarning: lbfgs failed to converge (status=1):\n",
            "STOP: TOTAL NO. of ITERATIONS REACHED LIMIT.\n",
            "\n",
            "Increase the number of iterations (max_iter) or scale the data as shown in:\n",
            "    https://scikit-learn.org/stable/modules/preprocessing.html\n",
            "Please also refer to the documentation for alternative solver options:\n",
            "    https://scikit-learn.org/stable/modules/linear_model.html#logistic-regression\n",
            "  extra_warning_msg=_LOGISTIC_SOLVER_CONVERGENCE_MSG,\n"
          ]
        }
      ]
    },
    {
      "cell_type": "markdown",
      "source": [],
      "metadata": {
        "id": "kwdd4YmQrF-h"
      }
    },
    {
      "cell_type": "code",
      "source": [
        "#STANDARDIZED\n",
        "from sklearn.linear_model import LogisticRegression\n",
        "base_model = LogisticRegression()\n",
        "base_model.fit(X_train_std,y_train)\n",
        "\n",
        "print(f1_score(y_test,base_model.predict(X_test_std), average='weighted'))"
      ],
      "metadata": {
        "colab": {
          "base_uri": "https://localhost:8080/"
        },
        "id": "mtgmaBQuqcTq",
        "outputId": "64a6b612-eca6-4c57-9885-7cf2679719a7"
      },
      "execution_count": 33,
      "outputs": [
        {
          "output_type": "stream",
          "name": "stdout",
          "text": [
            "0.7704617189541463\n"
          ]
        }
      ]
    },
    {
      "cell_type": "code",
      "source": [
        "#NORMALIZED\n",
        "from sklearn.linear_model import LogisticRegression\n",
        "base_model = LogisticRegression()\n",
        "base_model.fit(X_train_norm,y_train)\n",
        "\n",
        "print(f1_score(y_test,base_model.predict(X_test_norm), average='weighted'))"
      ],
      "metadata": {
        "colab": {
          "base_uri": "https://localhost:8080/"
        },
        "id": "iTbbZETvrp15",
        "outputId": "13a71d73-60b0-44ae-8d01-f8db0988e6ee"
      },
      "execution_count": 34,
      "outputs": [
        {
          "output_type": "stream",
          "name": "stdout",
          "text": [
            "0.7685057340873905\n"
          ]
        },
        {
          "output_type": "stream",
          "name": "stderr",
          "text": [
            "/usr/local/lib/python3.7/dist-packages/sklearn/linear_model/_logistic.py:818: ConvergenceWarning: lbfgs failed to converge (status=1):\n",
            "STOP: TOTAL NO. of ITERATIONS REACHED LIMIT.\n",
            "\n",
            "Increase the number of iterations (max_iter) or scale the data as shown in:\n",
            "    https://scikit-learn.org/stable/modules/preprocessing.html\n",
            "Please also refer to the documentation for alternative solver options:\n",
            "    https://scikit-learn.org/stable/modules/linear_model.html#logistic-regression\n",
            "  extra_warning_msg=_LOGISTIC_SOLVER_CONVERGENCE_MSG,\n"
          ]
        }
      ]
    },
    {
      "cell_type": "markdown",
      "source": [
        "#RANDOM FOREST CLASSIFIER"
      ],
      "metadata": {
        "id": "J799_REFjeMu"
      }
    },
    {
      "cell_type": "code",
      "source": [
        "from sklearn.metrics import accuracy_score, f1_score\n",
        "from sklearn.model_selection import cross_val_score\n",
        "from sklearn.ensemble import RandomForestClassifier\n",
        "\n"
      ],
      "metadata": {
        "id": "z7kJK8iSi5pn"
      },
      "execution_count": 21,
      "outputs": []
    },
    {
      "cell_type": "markdown",
      "source": [
        "#MODELLING USING WITH RAW DATA"
      ],
      "metadata": {
        "id": "98G1UuFll_qp"
      }
    },
    {
      "cell_type": "code",
      "source": [
        "rfc = RandomForestClassifier(n_estimators=100,\n",
        "                           max_depth=7,random_state = 7)\n",
        "rfc.fit(X_train,y_train)\n",
        "\n",
        "print(f1_score(y_test,rfc.predict(X_test), average='weighted'))"
      ],
      "metadata": {
        "colab": {
          "base_uri": "https://localhost:8080/"
        },
        "id": "8L1Md6T7mIEP",
        "outputId": "cd025f88-51ed-42cf-d619-856e034f8a9e"
      },
      "execution_count": 27,
      "outputs": [
        {
          "output_type": "stream",
          "name": "stdout",
          "text": [
            "0.8923913378697189\n"
          ]
        }
      ]
    },
    {
      "cell_type": "markdown",
      "source": [
        "#MODELLING USING NORMALIZED SET"
      ],
      "metadata": {
        "id": "W-ZhoJ9Yl0nq"
      }
    },
    {
      "cell_type": "code",
      "source": [
        "rfc1 = RandomForestClassifier(n_estimators=100,\n",
        "                           max_depth=7,random_state = 7)\n",
        "rfc1.fit(X_train_norm,y_train)\n",
        "\n",
        "print(f1_score(y_test,rfc1.predict(X_test_norm), average='weighted'))"
      ],
      "metadata": {
        "colab": {
          "base_uri": "https://localhost:8080/"
        },
        "id": "GeIX5g-jlz6L",
        "outputId": "08488d90-6c2c-4ebb-983d-0f43d988960b"
      },
      "execution_count": 28,
      "outputs": [
        {
          "output_type": "stream",
          "name": "stdout",
          "text": [
            "0.8924379584036343\n"
          ]
        }
      ]
    },
    {
      "cell_type": "markdown",
      "source": [
        "#MODELLING USING STANDARDIZED SET\n",
        "\n",
        "---\n",
        "\n"
      ],
      "metadata": {
        "id": "pfVJQ373p2su"
      }
    },
    {
      "cell_type": "code",
      "source": [
        "rfc2 = RandomForestClassifier(n_estimators=100,\n",
        "                           max_depth=7,random_state = 7)\n",
        "rfc2.fit(X_train_std,y_train)\n",
        "\n",
        "print(f1_score(y_test,rfc2.predict(X_test_std), average='weighted'))"
      ],
      "metadata": {
        "colab": {
          "base_uri": "https://localhost:8080/"
        },
        "id": "n8ljh-vQp5nN",
        "outputId": "70f04f6c-8f91-4ff5-b5a2-63baac09d531"
      },
      "execution_count": 29,
      "outputs": [
        {
          "output_type": "stream",
          "name": "stdout",
          "text": [
            "0.8923913378697189\n"
          ]
        }
      ]
    }
  ]
}